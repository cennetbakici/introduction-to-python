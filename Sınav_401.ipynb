{
  "nbformat": 4,
  "nbformat_minor": 0,
  "metadata": {
    "colab": {
      "name": "Sınav_401.ipynb",
      "provenance": [],
      "authorship_tag": "ABX9TyOYAwqOeIz4cDv8fQGIXvPj",
      "include_colab_link": true
    },
    "kernelspec": {
      "name": "python3",
      "display_name": "Python 3"
    },
    "language_info": {
      "name": "python"
    }
  },
  "cells": [
    {
      "cell_type": "markdown",
      "metadata": {
        "id": "view-in-github",
        "colab_type": "text"
      },
      "source": [
        "<a href=\"https://colab.research.google.com/github/cennetbakici/introduction-to-python/blob/master/S%C4%B1nav_401.ipynb\" target=\"_parent\"><img src=\"https://colab.research.google.com/assets/colab-badge.svg\" alt=\"Open In Colab\"/></a>"
      ]
    },
    {
      "cell_type": "code",
      "metadata": {
        "colab": {
          "base_uri": "https://localhost:8080/"
        },
        "id": "-OAuo-7QCD_A",
        "outputId": "0596ea9c-9b51-40a6-a4fd-13c871437a1c"
      },
      "source": [
        "fun = lambda x: x**2\n",
        "fun(3)"
      ],
      "execution_count": null,
      "outputs": [
        {
          "output_type": "execute_result",
          "data": {
            "text/plain": [
              "9"
            ]
          },
          "metadata": {
            "tags": []
          },
          "execution_count": 1
        }
      ]
    },
    {
      "cell_type": "code",
      "metadata": {
        "colab": {
          "base_uri": "https://localhost:8080/"
        },
        "id": "D_hU_PVcEvuP",
        "outputId": "6068da83-a555-4fed-f1e1-e3ac23cbcb9c"
      },
      "source": [
        "list(filter(lambda x: len(x) > 8, [\"pazartesi\",\"sali\",\"carsamba\",\"persembe\",\"cuma\"]))"
      ],
      "execution_count": null,
      "outputs": [
        {
          "output_type": "execute_result",
          "data": {
            "text/plain": [
              "['pazartesi']"
            ]
          },
          "metadata": {
            "tags": []
          },
          "execution_count": 2
        }
      ]
    },
    {
      "cell_type": "code",
      "metadata": {
        "colab": {
          "base_uri": "https://localhost:8080/"
        },
        "id": "DWoecYDCE999",
        "outputId": "7ee9ece7-0f5d-4883-c09b-3aaf49a75ad7"
      },
      "source": [
        "A = [[1,2],[3,4],[5,6]]\n",
        "list(map(lambda x: x[0]*3, A))"
      ],
      "execution_count": null,
      "outputs": [
        {
          "output_type": "execute_result",
          "data": {
            "text/plain": [
              "[3, 9, 15]"
            ]
          },
          "metadata": {
            "tags": []
          },
          "execution_count": 3
        }
      ]
    },
    {
      "cell_type": "code",
      "metadata": {
        "colab": {
          "base_uri": "https://localhost:8080/"
        },
        "id": "ddo3IRYWFIzJ",
        "outputId": "92c7385d-cfe5-47e0-a1b9-c5aa6a384cf5"
      },
      "source": [
        "def yap(x,y,z):\n",
        "    try:\n",
        "        print(x/y*z)\n",
        "    except ZeroDivisionError:\n",
        "        print(\"gecersiz islem\")\n",
        "\n",
        "yap(1,2,0)"
      ],
      "execution_count": null,
      "outputs": [
        {
          "output_type": "stream",
          "text": [
            "0.0\n"
          ],
          "name": "stdout"
        }
      ]
    },
    {
      "cell_type": "code",
      "metadata": {
        "colab": {
          "base_uri": "https://localhost:8080/"
        },
        "id": "PiziWAbjFUBb",
        "outputId": "f0aa3a03-bb1a-4dc2-81a2-66999eea5165"
      },
      "source": [
        "import numpy as np\n",
        "a = np.array([1,1,1])\n",
        "b = np.array([2])\n",
        "\n",
        "a+b"
      ],
      "execution_count": null,
      "outputs": [
        {
          "output_type": "execute_result",
          "data": {
            "text/plain": [
              "array([3, 3, 3])"
            ]
          },
          "metadata": {
            "tags": []
          },
          "execution_count": 5
        }
      ]
    },
    {
      "cell_type": "code",
      "metadata": {
        "colab": {
          "base_uri": "https://localhost:8080/",
          "height": 35
        },
        "id": "QT328O4-FmV_",
        "outputId": "bb7c6f02-dfb8-4880-db25-c4ff6d97df7e"
      },
      "source": [
        "from functools import reduce\n",
        "A = [\"Veri\",\"Bilimi\",\"Okulu\"]\n",
        "reduce(lambda a,b: a+b, list(map(lambda x: x[0], A)))"
      ],
      "execution_count": null,
      "outputs": [
        {
          "output_type": "execute_result",
          "data": {
            "application/vnd.google.colaboratory.intrinsic+json": {
              "type": "string"
            },
            "text/plain": [
              "'VBO'"
            ]
          },
          "metadata": {
            "tags": []
          },
          "execution_count": 6
        }
      ]
    },
    {
      "cell_type": "code",
      "metadata": {
        "colab": {
          "base_uri": "https://localhost:8080/"
        },
        "id": "Fc9EOd5cF6Z_",
        "outputId": "b20bcccb-6dc7-4ead-abed-1932f6740b5e"
      },
      "source": [
        "A = [\"ali\",\"veli\",\"isik\"]\n",
        "B = [1,2,3]\n",
        "AB = [A, B]\n",
        "\n",
        "for i in AB:\n",
        "    if type(i[0]) == str:\n",
        "        print(list(map(lambda x: x + \" hi\", i)))  "
      ],
      "execution_count": null,
      "outputs": [
        {
          "output_type": "stream",
          "text": [
            "['ali hi', 'veli hi', 'isik hi']\n"
          ],
          "name": "stdout"
        }
      ]
    },
    {
      "cell_type": "code",
      "metadata": {
        "colab": {
          "base_uri": "https://localhost:8080/"
        },
        "id": "QYK_z3GCGThF",
        "outputId": "cae1e90b-a584-48e3-9b07-730308c6cf30"
      },
      "source": [
        "from functools import reduce\n",
        "a = [1,2,3,4]\n",
        "reduce(lambda a,b: a*b, a)"
      ],
      "execution_count": null,
      "outputs": [
        {
          "output_type": "execute_result",
          "data": {
            "text/plain": [
              "24"
            ]
          },
          "metadata": {
            "tags": []
          },
          "execution_count": 8
        }
      ]
    },
    {
      "cell_type": "code",
      "metadata": {
        "colab": {
          "base_uri": "https://localhost:8080/"
        },
        "id": "F7EEunfFGapx",
        "outputId": "b89dd252-277e-47c9-eb5b-fae5647c92dc"
      },
      "source": [
        "def islem(x,y,z):\n",
        "    if y == 0:\n",
        "        print(\"hatali islem\")\n",
        "    else:\n",
        "        return x/y*z\n",
        "\n",
        "islem(1,0,2)"
      ],
      "execution_count": null,
      "outputs": [
        {
          "output_type": "stream",
          "text": [
            "hatali islem\n"
          ],
          "name": "stdout"
        }
      ]
    },
    {
      "cell_type": "code",
      "metadata": {
        "colab": {
          "base_uri": "https://localhost:8080/"
        },
        "id": "nOwXHVhlGsz3",
        "outputId": "294e162a-dcd6-441a-8c4f-ea10dab52a9d"
      },
      "source": [
        "liste = [\"a\",20,10,30,\"b\"]\n",
        "list(filter(lambda x: type(x) == int, liste))"
      ],
      "execution_count": null,
      "outputs": [
        {
          "output_type": "execute_result",
          "data": {
            "text/plain": [
              "[20, 10, 30]"
            ]
          },
          "metadata": {
            "tags": []
          },
          "execution_count": 11
        }
      ]
    },
    {
      "cell_type": "code",
      "metadata": {
        "colab": {
          "base_uri": "https://localhost:8080/"
        },
        "id": "0GavKUtkG17b",
        "outputId": "b2ee0fc2-0754-4b41-a3e7-2bab26c327fb"
      },
      "source": [
        "A = [\"ali\",\"veli\",\"isik\"]\n",
        "B = [1,2,3]\n",
        "AB = [A,B]\n",
        "AB"
      ],
      "execution_count": null,
      "outputs": [
        {
          "output_type": "execute_result",
          "data": {
            "text/plain": [
              "[['ali', 'veli', 'isik'], [1, 2, 3]]"
            ]
          },
          "metadata": {
            "tags": []
          },
          "execution_count": 13
        }
      ]
    },
    {
      "cell_type": "code",
      "metadata": {
        "colab": {
          "base_uri": "https://localhost:8080/"
        },
        "id": "q6FvW5-CHNbc",
        "outputId": "4d9670eb-3749-4c17-a2cb-5835078f9815"
      },
      "source": [
        "AB[0]"
      ],
      "execution_count": null,
      "outputs": [
        {
          "output_type": "execute_result",
          "data": {
            "text/plain": [
              "['ali', 'veli', 'isik']"
            ]
          },
          "metadata": {
            "tags": []
          },
          "execution_count": 15
        }
      ]
    },
    {
      "cell_type": "code",
      "metadata": {
        "colab": {
          "base_uri": "https://localhost:8080/"
        },
        "id": "g4h0o376HYQM",
        "outputId": "df29c2a1-0eaa-4379-960e-888d660d0258"
      },
      "source": [
        "AB[1]"
      ],
      "execution_count": null,
      "outputs": [
        {
          "output_type": "execute_result",
          "data": {
            "text/plain": [
              "[1, 2, 3]"
            ]
          },
          "metadata": {
            "tags": []
          },
          "execution_count": 16
        }
      ]
    },
    {
      "cell_type": "code",
      "metadata": {
        "colab": {
          "base_uri": "https://localhost:8080/"
        },
        "id": "YiWdk6UvHA2A",
        "outputId": "596ae79c-22f9-4d11-e76f-acf18b17d3df"
      },
      "source": [
        "for i in AB:\n",
        "    if type(i[0]) == int:\n",
        "        print(list(map(lambda x: x-3, i)))"
      ],
      "execution_count": null,
      "outputs": [
        {
          "output_type": "stream",
          "text": [
            "[-2, -1, 0]\n"
          ],
          "name": "stdout"
        }
      ]
    },
    {
      "cell_type": "code",
      "metadata": {
        "colab": {
          "base_uri": "https://localhost:8080/"
        },
        "id": "g95ldnj1HhLh",
        "outputId": "1032b27d-a653-4cbb-f2f8-20bcb19549cf"
      },
      "source": [
        "for i in AB:\n",
        "    if type(i[1]) == int: #içinin ne olduğu farketmedi \n",
        "        print(list(map(lambda x: x-3, i)))"
      ],
      "execution_count": null,
      "outputs": [
        {
          "output_type": "stream",
          "text": [
            "[-2, -1, 0]\n"
          ],
          "name": "stdout"
        }
      ]
    },
    {
      "cell_type": "code",
      "metadata": {
        "colab": {
          "base_uri": "https://localhost:8080/"
        },
        "id": "UM4oWYiYHv5w",
        "outputId": "40d6ebb5-daaf-4662-cb7b-d61fc5e4dd2a"
      },
      "source": [
        "from functools import reduce\n",
        "reduce(lambda a,b: a/b, [8,4,2])"
      ],
      "execution_count": null,
      "outputs": [
        {
          "output_type": "execute_result",
          "data": {
            "text/plain": [
              "1.0"
            ]
          },
          "metadata": {
            "tags": []
          },
          "execution_count": 18
        }
      ]
    },
    {
      "cell_type": "code",
      "metadata": {
        "colab": {
          "base_uri": "https://localhost:8080/"
        },
        "id": "etwTyWXBH3A1",
        "outputId": "7116ca30-67af-4afe-b110-2eb108519fbd"
      },
      "source": [
        "class BolumSorulari():\n",
        "    fonksiyonlar = []\n",
        "    OOP = []\n",
        "\n",
        "BolumSorulari.OOP"
      ],
      "execution_count": null,
      "outputs": [
        {
          "output_type": "execute_result",
          "data": {
            "text/plain": [
              "[]"
            ]
          },
          "metadata": {
            "tags": []
          },
          "execution_count": 19
        }
      ]
    },
    {
      "cell_type": "code",
      "metadata": {
        "colab": {
          "base_uri": "https://localhost:8080/",
          "height": 35
        },
        "id": "HVrEX_cIH-Df",
        "outputId": "fd842dc6-16f3-43b4-8f8e-104177b25d90"
      },
      "source": [
        "from functools import reduce\n",
        "reduce(lambda a,b: a+b, [\"a\",\"4\",\"a\"])"
      ],
      "execution_count": null,
      "outputs": [
        {
          "output_type": "execute_result",
          "data": {
            "application/vnd.google.colaboratory.intrinsic+json": {
              "type": "string"
            },
            "text/plain": [
              "'a4a'"
            ]
          },
          "metadata": {
            "tags": []
          },
          "execution_count": 20
        }
      ]
    },
    {
      "cell_type": "code",
      "metadata": {
        "colab": {
          "base_uri": "https://localhost:8080/"
        },
        "id": "Q1Juo9H0IHgs",
        "outputId": "dc48f5b6-cf04-4cd2-e798-45e2a1e1fa22"
      },
      "source": [
        "list(map(lambda x: x*1, [2,7,4]))"
      ],
      "execution_count": null,
      "outputs": [
        {
          "output_type": "execute_result",
          "data": {
            "text/plain": [
              "[2, 7, 4]"
            ]
          },
          "metadata": {
            "tags": []
          },
          "execution_count": 21
        }
      ]
    },
    {
      "cell_type": "code",
      "metadata": {
        "id": "xJdC5fdvIQu0",
        "colab": {
          "base_uri": "https://localhost:8080/"
        },
        "outputId": "cc44358b-36ad-47c5-b4cd-be27ed02139d"
      },
      "source": [
        "a = [1,2,3]\n",
        "list(map(lambda x: x*2, a))"
      ],
      "execution_count": null,
      "outputs": [
        {
          "output_type": "execute_result",
          "data": {
            "text/plain": [
              "[2, 4, 6]"
            ]
          },
          "metadata": {
            "tags": []
          },
          "execution_count": 22
        }
      ]
    }
  ]
}