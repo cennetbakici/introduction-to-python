{
  "nbformat": 4,
  "nbformat_minor": 0,
  "metadata": {
    "colab": {
      "name": "python_2.ipynb",
      "provenance": [],
      "collapsed_sections": [],
      "authorship_tag": "ABX9TyPMn5I2IZK1UXxvt5wjFcrl",
      "include_colab_link": true
    },
    "kernelspec": {
      "name": "python3",
      "display_name": "Python 3"
    },
    "language_info": {
      "name": "python"
    }
  },
  "cells": [
    {
      "cell_type": "markdown",
      "metadata": {
        "id": "view-in-github",
        "colab_type": "text"
      },
      "source": [
        "<a href=\"https://colab.research.google.com/github/cennetbakici/introduction-to-python/blob/master/python_2.ipynb\" target=\"_parent\"><img src=\"https://colab.research.google.com/assets/colab-badge.svg\" alt=\"Open In Colab\"/></a>"
      ]
    },
    {
      "cell_type": "code",
      "metadata": {
        "colab": {
          "base_uri": "https://localhost:8080/"
        },
        "id": "HZX5HIhgqMJF",
        "outputId": "7af7defa-d1a8-4e97-e682-c566db874641"
      },
      "source": [
        "word= 'machine learning'\n",
        "print (word)"
      ],
      "execution_count": 1,
      "outputs": [
        {
          "output_type": "stream",
          "text": [
            "machine learning\n"
          ],
          "name": "stdout"
        }
      ]
    },
    {
      "cell_type": "code",
      "metadata": {
        "colab": {
          "base_uri": "https://localhost:8080/"
        },
        "id": "PEM7CUMHsnix",
        "outputId": "591b0df7-f77d-417c-b58e-f28dd172ccc7"
      },
      "source": [
        "print(word.capitalize())"
      ],
      "execution_count": 3,
      "outputs": [
        {
          "output_type": "stream",
          "text": [
            "Machine learning\n"
          ],
          "name": "stdout"
        }
      ]
    },
    {
      "cell_type": "code",
      "metadata": {
        "colab": {
          "base_uri": "https://localhost:8080/"
        },
        "id": "9uoqzmN1s0-R",
        "outputId": "83269998-eb7c-4078-94f9-6d5305615d2a"
      },
      "source": [
        "print(word.upper())"
      ],
      "execution_count": 4,
      "outputs": [
        {
          "output_type": "stream",
          "text": [
            "MACHINE LEARNING\n"
          ],
          "name": "stdout"
        }
      ]
    },
    {
      "cell_type": "code",
      "metadata": {
        "colab": {
          "base_uri": "https://localhost:8080/"
        },
        "id": "CqPNJsb_s-lQ",
        "outputId": "6b0a9584-4c42-47ca-f50f-27e5c1c20c0b"
      },
      "source": [
        "print(word.replace('machine','artificial'))"
      ],
      "execution_count": 5,
      "outputs": [
        {
          "output_type": "stream",
          "text": [
            "artificial learning\n"
          ],
          "name": "stdout"
        }
      ]
    },
    {
      "cell_type": "code",
      "metadata": {
        "colab": {
          "base_uri": "https://localhost:8080/",
          "height": 35
        },
        "id": "5S7XvYnEtfMn",
        "outputId": "7697888f-611c-48c5-c078-a53e9fd399f9"
      },
      "source": [
        "word"
      ],
      "execution_count": 6,
      "outputs": [
        {
          "output_type": "execute_result",
          "data": {
            "application/vnd.google.colaboratory.intrinsic+json": {
              "type": "string"
            },
            "text/plain": [
              "'machine learning'"
            ]
          },
          "metadata": {
            "tags": []
          },
          "execution_count": 6
        }
      ]
    },
    {
      "cell_type": "code",
      "metadata": {
        "colab": {
          "base_uri": "https://localhost:8080/"
        },
        "id": "ivaE_DC4uULD",
        "outputId": "77904ca2-88c6-4030-ee6c-2d43ae869513"
      },
      "source": [
        "x= int (input(\"Please enter an integer: \"))\n",
        "print(x)"
      ],
      "execution_count": 7,
      "outputs": [
        {
          "output_type": "stream",
          "text": [
            "Please enter an integer: 45\n",
            "45\n"
          ],
          "name": "stdout"
        }
      ]
    },
    {
      "cell_type": "code",
      "metadata": {
        "colab": {
          "base_uri": "https://localhost:8080/"
        },
        "id": "mmORl0ZsuzsE",
        "outputId": "a11ea733-a234-4adf-d4b4-f01c95de349c"
      },
      "source": [
        "mylist = [3,5,6,7,\"python\",[1,2,3]]\n",
        "print(mylist)"
      ],
      "execution_count": 10,
      "outputs": [
        {
          "output_type": "stream",
          "text": [
            "[3, 5, 6, 7, 'python', [1, 2, 3]]\n"
          ],
          "name": "stdout"
        }
      ]
    },
    {
      "cell_type": "code",
      "metadata": {
        "id": "ModDgZPiysgf"
      },
      "source": [
        ""
      ],
      "execution_count": null,
      "outputs": []
    },
    {
      "cell_type": "code",
      "metadata": {
        "colab": {
          "base_uri": "https://localhost:8080/"
        },
        "id": "cojEtGJZxLRu",
        "outputId": "ac895da0-982a-459a-b5e5-c25d911430c3"
      },
      "source": [
        "type(mylist)"
      ],
      "execution_count": 9,
      "outputs": [
        {
          "output_type": "execute_result",
          "data": {
            "text/plain": [
              "list"
            ]
          },
          "metadata": {
            "tags": []
          },
          "execution_count": 9
        }
      ]
    },
    {
      "cell_type": "code",
      "metadata": {
        "colab": {
          "base_uri": "https://localhost:8080/"
        },
        "id": "d7RcipS4xOkZ",
        "outputId": "4904d83f-e4aa-4b65-8cc3-10eead58c426"
      },
      "source": [
        "print(mylist[4])"
      ],
      "execution_count": 12,
      "outputs": [
        {
          "output_type": "stream",
          "text": [
            "python\n"
          ],
          "name": "stdout"
        }
      ]
    },
    {
      "cell_type": "code",
      "metadata": {
        "colab": {
          "base_uri": "https://localhost:8080/"
        },
        "id": "v1JMK8xqyHaa",
        "outputId": "81723302-8183-46a2-c7ee-b8e2c8e98cf5"
      },
      "source": [
        "mylist[3]=\"cennet\"\n",
        "print(mylist)"
      ],
      "execution_count": 14,
      "outputs": [
        {
          "output_type": "stream",
          "text": [
            "[3, 5, 6, 'cennet', 'python', [1, 2, 3]]\n"
          ],
          "name": "stdout"
        }
      ]
    },
    {
      "cell_type": "code",
      "metadata": {
        "colab": {
          "base_uri": "https://localhost:8080/"
        },
        "id": "Jm765OSPydIw",
        "outputId": "d2f6996d-659b-45d9-d757-8cff863cfad2"
      },
      "source": [
        "mylist.append(\"bakıcı\") #append fonk. tekrar tekrar kullanılabilme özelliğine sahiptir. işlemi yapar ve kalıcı hale getirir. değer döndürmüyor\n",
        "print(mylist)\n",
        "\n",
        "thelast= mylist.pop() # boş çalıştırırsan son elemanı silmemizi sağlar ve değer döndürür.\n",
        "print(thelast)\n",
        "print(mylist)"
      ],
      "execution_count": 31,
      "outputs": [
        {
          "output_type": "stream",
          "text": [
            "[3, 6, 'cennet', 'python', [1, 2, 3], 'bakıcı', 'bakıcı']\n",
            "bakıcı\n",
            "[3, 6, 'cennet', 'python', [1, 2, 3], 'bakıcı']\n"
          ],
          "name": "stdout"
        }
      ]
    },
    {
      "cell_type": "code",
      "metadata": {
        "colab": {
          "base_uri": "https://localhost:8080/"
        },
        "id": "MLWZixibzQ2T",
        "outputId": "3f2c3f68-09d9-43d0-b10e-12fa15a890f5"
      },
      "source": [
        "mylist.pop(1)"
      ],
      "execution_count": 52,
      "outputs": [
        {
          "output_type": "execute_result",
          "data": {
            "text/plain": [
              "6"
            ]
          },
          "metadata": {
            "tags": []
          },
          "execution_count": 52
        }
      ]
    },
    {
      "cell_type": "code",
      "metadata": {
        "colab": {
          "base_uri": "https://localhost:8080/"
        },
        "id": "uD-UDlak1E3g",
        "outputId": "d68eacbd-bf7a-48f6-b98a-af4104dbb9d6"
      },
      "source": [
        "mylist=[3,'cennet', 'python', [1, 2, 3], 'bakıcı']\n",
        "print(mylist)"
      ],
      "execution_count": 54,
      "outputs": [
        {
          "output_type": "stream",
          "text": [
            "[3, 'cennet', 'python', [1, 2, 3], 'bakıcı']\n"
          ],
          "name": "stdout"
        }
      ]
    },
    {
      "cell_type": "code",
      "metadata": {
        "colab": {
          "base_uri": "https://localhost:8080/"
        },
        "id": "nlDnoLjS1I51",
        "outputId": "aa4f5fc8-7162-4fb1-ead4-b9b0381678bf"
      },
      "source": [
        "mylist.index(3) #6 hangi indexte ise onu gösteriyor"
      ],
      "execution_count": 56,
      "outputs": [
        {
          "output_type": "execute_result",
          "data": {
            "text/plain": [
              "0"
            ]
          },
          "metadata": {
            "tags": []
          },
          "execution_count": 56
        }
      ]
    },
    {
      "cell_type": "code",
      "metadata": {
        "colab": {
          "base_uri": "https://localhost:8080/"
        },
        "id": "8Zl2xZzv1lPa",
        "outputId": "93cb5dda-5251-4a77-c3cc-640d0fd1c553"
      },
      "source": [
        "list3=[1,2,2,2,2,2,444,33333,3,3,3,3]\n",
        "list3.count(2)  #parantez içine yazılan değerin liste içinde kaç defa tekrarlandığını buluyor."
      ],
      "execution_count": 57,
      "outputs": [
        {
          "output_type": "execute_result",
          "data": {
            "text/plain": [
              "5"
            ]
          },
          "metadata": {
            "tags": []
          },
          "execution_count": 57
        }
      ]
    },
    {
      "cell_type": "code",
      "metadata": {
        "colab": {
          "base_uri": "https://localhost:8080/"
        },
        "id": "4prSyYvP2gzi",
        "outputId": "aba50813-bffe-4fb9-909d-926e3f868be8"
      },
      "source": [
        "list3.remove(3) #tekrar tekrar kullanılabilir.\n",
        "print(list3)"
      ],
      "execution_count": 58,
      "outputs": [
        {
          "output_type": "stream",
          "text": [
            "[1, 2, 2, 2, 2, 2, 444, 33333, 3, 3, 3]\n"
          ],
          "name": "stdout"
        }
      ]
    },
    {
      "cell_type": "code",
      "metadata": {
        "colab": {
          "base_uri": "https://localhost:8080/"
        },
        "id": "3qyyFHUw3Or6",
        "outputId": "584f06ba-85b0-4f17-bd76-4913373ccdc8"
      },
      "source": [
        "list3.sort() # listeyi küçükten büyüğe doğru sıralıyor.str ile int bir değer karşılaştırılamaz.\n",
        "list3"
      ],
      "execution_count": 59,
      "outputs": [
        {
          "output_type": "execute_result",
          "data": {
            "text/plain": [
              "[1, 2, 2, 2, 2, 2, 3, 3, 3, 444, 33333]"
            ]
          },
          "metadata": {
            "tags": []
          },
          "execution_count": 59
        }
      ]
    },
    {
      "cell_type": "code",
      "metadata": {
        "colab": {
          "base_uri": "https://localhost:8080/"
        },
        "id": "eAcbPcle3fw6",
        "outputId": "df34b0f7-686a-4474-f807-eb6387becc19"
      },
      "source": [
        "list3.reverse()\n",
        "list3"
      ],
      "execution_count": 60,
      "outputs": [
        {
          "output_type": "execute_result",
          "data": {
            "text/plain": [
              "[33333, 444, 3, 3, 3, 2, 2, 2, 2, 2, 1]"
            ]
          },
          "metadata": {
            "tags": []
          },
          "execution_count": 60
        }
      ]
    },
    {
      "cell_type": "code",
      "metadata": {
        "colab": {
          "base_uri": "https://localhost:8080/"
        },
        "id": "UdoqOAlp38xR",
        "outputId": "bb0ad907-562c-43bf-bc7c-4cfcf83bf719"
      },
      "source": [
        "list3[::-1] #buda reverse yapmaya yarıyor. kalıcı hale getirmiyor."
      ],
      "execution_count": 61,
      "outputs": [
        {
          "output_type": "execute_result",
          "data": {
            "text/plain": [
              "[1, 2, 2, 2, 2, 2, 3, 3, 3, 444, 33333]"
            ]
          },
          "metadata": {
            "tags": []
          },
          "execution_count": 61
        }
      ]
    },
    {
      "cell_type": "code",
      "metadata": {
        "colab": {
          "base_uri": "https://localhost:8080/"
        },
        "id": "Cl1Bt8gO4J2d",
        "outputId": "09de6075-c21b-473a-f26f-24ff6ee2dbf4"
      },
      "source": [
        "list4=[\"cennet\",\"furkan\",\"bakıcı\"]\n",
        "list4.sort() #str ile str yi alfabetik sıraya göre karşılaştırabilir.\n",
        "list4"
      ],
      "execution_count": 62,
      "outputs": [
        {
          "output_type": "execute_result",
          "data": {
            "text/plain": [
              "['bakıcı', 'cennet', 'furkan']"
            ]
          },
          "metadata": {
            "tags": []
          },
          "execution_count": 62
        }
      ]
    },
    {
      "cell_type": "code",
      "metadata": {
        "colab": {
          "base_uri": "https://localhost:8080/"
        },
        "id": "gvEXVBfK8fN_",
        "outputId": "fc0f1a06-9b16-45d0-a326-f50c6f190771"
      },
      "source": [
        "mylist=[3,'cennet', 'python', [1, 2, 3], 'bakıcı']\n",
        "print(mylist)"
      ],
      "execution_count": 80,
      "outputs": [
        {
          "output_type": "stream",
          "text": [
            "[3, 'cennet', 'python', [1, 2, 3], 'bakıcı']\n"
          ],
          "name": "stdout"
        }
      ]
    },
    {
      "cell_type": "code",
      "metadata": {
        "colab": {
          "base_uri": "https://localhost:8080/"
        },
        "id": "x6vtVJRb6kni",
        "outputId": "777b3175-f7aa-4721-a9a1-b9a7b461a9f1"
      },
      "source": [
        "mylist.extend(list4) #extend ile mylist e list4 ü ekleyip genişlettik, tekrar tekrar çalıştırılabiliyor.\n",
        "print(mylist)"
      ],
      "execution_count": 81,
      "outputs": [
        {
          "output_type": "stream",
          "text": [
            "[3, 'cennet', 'python', [1, 2, 3], 'bakıcı', 'bakıcı', 'cennet', 'furkan']\n"
          ],
          "name": "stdout"
        }
      ]
    },
    {
      "cell_type": "code",
      "metadata": {
        "colab": {
          "base_uri": "https://localhost:8080/"
        },
        "id": "2Go60tNG8jgG",
        "outputId": "4f6a448a-cc6b-42c3-9464-0c3a416bf634"
      },
      "source": [
        "mylist4=[1,11,111,1111]\n",
        "mylist.append(mylist4)\n",
        "print(mylist)"
      ],
      "execution_count": 82,
      "outputs": [
        {
          "output_type": "stream",
          "text": [
            "[3, 'cennet', 'python', [1, 2, 3], 'bakıcı', 'bakıcı', 'cennet', 'furkan', [1, 11, 111, 1111]]\n"
          ],
          "name": "stdout"
        }
      ]
    },
    {
      "cell_type": "code",
      "metadata": {
        "colab": {
          "base_uri": "https://localhost:8080/"
        },
        "id": "p2PM0VdL98w6",
        "outputId": "041e1e5c-7250-44ba-91f9-fb5bb4af0495"
      },
      "source": [
        "print(mylist[3]) #[1,2,3] komple 3. index olmuş oluyor."
      ],
      "execution_count": 83,
      "outputs": [
        {
          "output_type": "stream",
          "text": [
            "[1, 2, 3]\n"
          ],
          "name": "stdout"
        }
      ]
    },
    {
      "cell_type": "code",
      "metadata": {
        "colab": {
          "base_uri": "https://localhost:8080/"
        },
        "id": "oQE_9XuW-X7Q",
        "outputId": "c38a637e-2e84-4dc1-b8c1-65a7661a3645"
      },
      "source": [
        "cennet=[2,3,4,5,6,\"python\",\"ali\",\"ahmet\",3.2,5.8]\n",
        "print(cennet)"
      ],
      "execution_count": 84,
      "outputs": [
        {
          "output_type": "stream",
          "text": [
            "[2, 3, 4, 5, 6, 'python', 'ali', 'ahmet', 3.2, 5.8]\n"
          ],
          "name": "stdout"
        }
      ]
    },
    {
      "cell_type": "code",
      "metadata": {
        "colab": {
          "base_uri": "https://localhost:8080/"
        },
        "id": "HpNu3pW7-3xa",
        "outputId": "3a3e9f36-bf19-4d2e-9147-2b7538358cd5"
      },
      "source": [
        "cennet.insert(5,55) #insert(x,y)--> x. indekse y değerini araya ekliyor fakat eski x. indeksteki değeri değiştirmiyor.\n",
        "print(cennet)"
      ],
      "execution_count": 85,
      "outputs": [
        {
          "output_type": "stream",
          "text": [
            "[2, 3, 4, 5, 6, 55, 'python', 'ali', 'ahmet', 3.2, 5.8]\n"
          ],
          "name": "stdout"
        }
      ]
    },
    {
      "cell_type": "code",
      "metadata": {
        "colab": {
          "base_uri": "https://localhost:8080/"
        },
        "id": "t5WIcwfn_d8f",
        "outputId": "816bb0b2-32cc-441a-fc4f-a54da800139c"
      },
      "source": [
        "liste1=list()\n",
        "numbers= list(range(8))\n",
        "\n",
        "print(liste1)\n",
        "print(numbers)"
      ],
      "execution_count": 88,
      "outputs": [
        {
          "output_type": "stream",
          "text": [
            "[]\n",
            "[0, 1, 2, 3, 4, 5, 6, 7]\n"
          ],
          "name": "stdout"
        }
      ]
    },
    {
      "cell_type": "code",
      "metadata": {
        "colab": {
          "base_uri": "https://localhost:8080/"
        },
        "id": "06aH5eEgARlN",
        "outputId": "83dd0f25-3c3a-4ca1-ae5a-cbf6b6cd8007"
      },
      "source": [
        "numbers2=list(range(2,15,3))\n",
        "print(numbers2)\n",
        "numbers2.reverse()\n",
        "print(numbers2)"
      ],
      "execution_count": 90,
      "outputs": [
        {
          "output_type": "stream",
          "text": [
            "[2, 5, 8, 11, 14]\n",
            "[14, 11, 8, 5, 2]\n"
          ],
          "name": "stdout"
        }
      ]
    },
    {
      "cell_type": "code",
      "metadata": {
        "colab": {
          "base_uri": "https://localhost:8080/"
        },
        "id": "ZxvOtKwCCIB9",
        "outputId": "4198f850-402d-4f06-f5cb-2b07df15909c"
      },
      "source": [
        "numbers"
      ],
      "execution_count": 96,
      "outputs": [
        {
          "output_type": "execute_result",
          "data": {
            "text/plain": [
              "[0, 1, 2, 3, 4, 10, 11, 12]"
            ]
          },
          "metadata": {
            "tags": []
          },
          "execution_count": 96
        }
      ]
    },
    {
      "cell_type": "code",
      "metadata": {
        "colab": {
          "base_uri": "https://localhost:8080/"
        },
        "id": "EevKhFUMA2Iy",
        "outputId": "bc148315-f496-4920-862c-c36059ea4d78"
      },
      "source": [
        "print(numbers[2:5]) #2. indexten 4. indexe kadar olan değerleri gösterdi."
      ],
      "execution_count": 92,
      "outputs": [
        {
          "output_type": "stream",
          "text": [
            "[2, 3, 4]\n"
          ],
          "name": "stdout"
        }
      ]
    },
    {
      "cell_type": "code",
      "metadata": {
        "colab": {
          "base_uri": "https://localhost:8080/"
        },
        "id": "sFjgBEOZBReE",
        "outputId": "dbf802ce-6375-4726-a635-e40c5453aad3"
      },
      "source": [
        "numbers[5:8]=[10,11,12] #5. indexten 7. indexe kadar olanların yerine yenilerini ekledi\n",
        "numbers"
      ],
      "execution_count": 95,
      "outputs": [
        {
          "output_type": "execute_result",
          "data": {
            "text/plain": [
              "[0, 1, 2, 3, 4, 10, 11, 12]"
            ]
          },
          "metadata": {
            "tags": []
          },
          "execution_count": 95
        }
      ]
    },
    {
      "cell_type": "code",
      "metadata": {
        "colab": {
          "base_uri": "https://localhost:8080/"
        },
        "id": "2BHcd7HpCSUY",
        "outputId": "0e74f64a-99f9-4757-eb65-e3ef09c49c29"
      },
      "source": [
        "12 in numbers"
      ],
      "execution_count": 97,
      "outputs": [
        {
          "output_type": "execute_result",
          "data": {
            "text/plain": [
              "True"
            ]
          },
          "metadata": {
            "tags": []
          },
          "execution_count": 97
        }
      ]
    },
    {
      "cell_type": "code",
      "metadata": {
        "colab": {
          "base_uri": "https://localhost:8080/"
        },
        "id": "aUf4kNpGCWhf",
        "outputId": "0f002f8a-a9f9-439a-ea06-8e70f4cd9cc2"
      },
      "source": [
        "15 in numbers"
      ],
      "execution_count": 98,
      "outputs": [
        {
          "output_type": "execute_result",
          "data": {
            "text/plain": [
              "False"
            ]
          },
          "metadata": {
            "tags": []
          },
          "execution_count": 98
        }
      ]
    },
    {
      "cell_type": "code",
      "metadata": {
        "colab": {
          "base_uri": "https://localhost:8080/"
        },
        "id": "8qoU3kg-Cqv4",
        "outputId": "401bf292-a2bb-4c82-a9fb-ddfa52e44bc8"
      },
      "source": [
        "[1,2,3]+[4,5]"
      ],
      "execution_count": 99,
      "outputs": [
        {
          "output_type": "execute_result",
          "data": {
            "text/plain": [
              "[1, 2, 3, 4, 5]"
            ]
          },
          "metadata": {
            "tags": []
          },
          "execution_count": 99
        }
      ]
    },
    {
      "cell_type": "code",
      "metadata": {
        "colab": {
          "base_uri": "https://localhost:8080/"
        },
        "id": "tK_fNaaICwCz",
        "outputId": "8c0beb34-e359-461a-f44b-3af87b2e32cf"
      },
      "source": [
        "[1,2,3]*3"
      ],
      "execution_count": 100,
      "outputs": [
        {
          "output_type": "execute_result",
          "data": {
            "text/plain": [
              "[1, 2, 3, 1, 2, 3, 1, 2, 3]"
            ]
          },
          "metadata": {
            "tags": []
          },
          "execution_count": 100
        }
      ]
    },
    {
      "cell_type": "code",
      "metadata": {
        "colab": {
          "base_uri": "https://localhost:8080/"
        },
        "id": "MKle8V_IC3Qb",
        "outputId": "f01866ff-1dcc-450e-b2de-0733a55f1ce7"
      },
      "source": [
        "list1=[[1,2],3,[4,5,6]]\n",
        "list1[1]"
      ],
      "execution_count": 101,
      "outputs": [
        {
          "output_type": "execute_result",
          "data": {
            "text/plain": [
              "3"
            ]
          },
          "metadata": {
            "tags": []
          },
          "execution_count": 101
        }
      ]
    },
    {
      "cell_type": "markdown",
      "metadata": {
        "id": "X7t7z5KSDF9Q"
      },
      "source": [
        "**Conditional Statements**\n",
        " \n",
        " If \n",
        "\n",
        "\n",
        " If \"condition\":\n",
        "       \n",
        "        \"do someting\"\n",
        "\n",
        "  print"
      ]
    },
    {
      "cell_type": "code",
      "metadata": {
        "colab": {
          "base_uri": "https://localhost:8080/"
        },
        "id": "Q_qkrdQsDheW",
        "outputId": "6c4115c1-95c7-49cb-d085-d1f79471d121"
      },
      "source": [
        "num=int(input(\"Please enter a number: \"))\n",
        "if num < 0:\n",
        "  num *= -1 #num =num * -1\n",
        "print(\"Result: \", num)"
      ],
      "execution_count": 103,
      "outputs": [
        {
          "output_type": "stream",
          "text": [
            "Please enter a number: 5\n",
            "Result:  5\n"
          ],
          "name": "stdout"
        }
      ]
    },
    {
      "cell_type": "markdown",
      "metadata": {
        "id": "qSJlWLpYEzd6"
      },
      "source": [
        "**If-Else**\n",
        "\n",
        "If \"condition\":\n",
        "\n",
        "         \"do someting\"\n",
        "\n",
        "else:\n",
        "\n",
        "          \"do something another\"\n",
        "\n",
        "print()"
      ]
    },
    {
      "cell_type": "markdown",
      "metadata": {
        "id": "rKBauOyRGTi_"
      },
      "source": [
        "**If-Elif-Else**\n",
        "\n",
        "If \"condition\":\n",
        "\n",
        "     \"do someting\"\n",
        "\n",
        "elif \"condition-2\":\n",
        "\n",
        "      \"do something another\"\n",
        "\n",
        "elif \"condition-3\":\n",
        "\n",
        "      \"do something another\"\n",
        "else:\n",
        "\n",
        "      \"do something another\"\n",
        "print()"
      ]
    },
    {
      "cell_type": "code",
      "metadata": {
        "colab": {
          "base_uri": "https://localhost:8080/"
        },
        "id": "fsjSA5ZrGxc-",
        "outputId": "de803631-4891-4a0d-ea4f-400780dc8f8d"
      },
      "source": [
        "score=int(input(\"Please enter your score: \"))\n",
        "if score <= 40:\n",
        "  print(\"Very bad, you should work hard..\")\n",
        "elif score <=60:\n",
        "  print(\"Nice but you should work more..\")\n",
        "elif score <= 100:\n",
        "  print(\"Congratulation!\")\n",
        "else:\n",
        " print(\"Invalid score!!!\")\n"
      ],
      "execution_count": 108,
      "outputs": [
        {
          "output_type": "stream",
          "text": [
            "Please enter your score: 120\n",
            "Invalid score!!!\n"
          ],
          "name": "stdout"
        }
      ]
    },
    {
      "cell_type": "code",
      "metadata": {
        "colab": {
          "base_uri": "https://localhost:8080/"
        },
        "id": "VAknGEFvIsuf",
        "outputId": "74b73283-33dd-4dbf-e5ea-206ba5c6d539"
      },
      "source": [
        "x=8\n",
        "if x>4:\n",
        "  x=x+1\n",
        "elif x>5:\n",
        "  x=x+2\n",
        "elif x>7:\n",
        "  x=x+3\n",
        "\n",
        "print(\"x, \", x)\n"
      ],
      "execution_count": 110,
      "outputs": [
        {
          "output_type": "stream",
          "text": [
            "x,  9\n"
          ],
          "name": "stdout"
        }
      ]
    },
    {
      "cell_type": "code",
      "metadata": {
        "colab": {
          "base_uri": "https://localhost:8080/"
        },
        "id": "j9KHUa8jJ3ys",
        "outputId": "9d411213-8697-4232-9d64-2a78432ff961"
      },
      "source": [
        "x = 5\n",
        "\n",
        "if x > 4:\n",
        "  x=x+1\n",
        "\n",
        "if x > 5:\n",
        "  x=x+2\n",
        "\n",
        "if x > 7:\n",
        "  x=x+3\n",
        "\n",
        "print(\"x, \", x)"
      ],
      "execution_count": 111,
      "outputs": [
        {
          "output_type": "stream",
          "text": [
            "x,  11\n"
          ],
          "name": "stdout"
        }
      ]
    },
    {
      "cell_type": "code",
      "metadata": {
        "colab": {
          "base_uri": "https://localhost:8080/"
        },
        "id": "t-qihE7UKRVd",
        "outputId": "85c49ee2-091f-41e6-a4a6-d746238a6fee"
      },
      "source": [
        "print(\"*******************ATM Giriş Paneli****************\")\n",
        "\n",
        "kullanici_adi = \"Omer\"\n",
        "parola= \"hello\"\n",
        "\n",
        "kullanici_adi1= input(\"Lütfen kullanıcı adınızı giriniz: \")\n",
        "\n",
        "parola1 = input(\"Lütfen parolanızı giriniz: \")\n",
        "\n",
        "if (kullanici_adi != kullanici_adi1 and parola == parola1 ):\n",
        "  print(\"Kullanıcı adınız hatalı\")\n",
        "elif (kullanici_adi == kullanici_adi1 and parola != parola1 ):\n",
        "  print(\"Parolanız hatalı\")\n",
        "elif (kullanici_adi != kullanici_adi1 and parola != parola1 ):\n",
        "  print(\"Kullanıcı adınız ve parolanız hatalıdır.\")\n",
        "else:\n",
        "  print(\"Tebrikler, başarıyla giriş yaptınız.\")\n"
      ],
      "execution_count": 115,
      "outputs": [
        {
          "output_type": "stream",
          "text": [
            "*******************ATM Giriş Paneli****************\n",
            "Lütfen kullanıcı adınızı giriniz: Omer\n",
            "Lütfen parolanızı giriniz: hello\n",
            "Tebrikler, başarıyla giriş yaptınız.\n"
          ],
          "name": "stdout"
        }
      ]
    },
    {
      "cell_type": "code",
      "metadata": {
        "id": "oOollPj2MWz9"
      },
      "source": [
        ""
      ],
      "execution_count": null,
      "outputs": []
    },
    {
      "cell_type": "markdown",
      "metadata": {
        "id": "IPAdvCFoN_Qi"
      },
      "source": [
        "**While Loop Structure**\n",
        "\n",
        "Condition Intro\n",
        "\n",
        "while:\n",
        "\n",
        "    \"true statement\"\n",
        "\n",
        "     \"true statement\"\n",
        "\n",
        "     condition update\n",
        "\n",
        "  False olana kadar tekrar tekrar kontrol edecek."
      ]
    },
    {
      "cell_type": "code",
      "metadata": {
        "colab": {
          "base_uri": "https://localhost:8080/"
        },
        "id": "coseYMchTWCP",
        "outputId": "27cd4a6e-0212-489d-e0ab-bb0587a51ed1"
      },
      "source": [
        "num=0\n",
        "while num < 9:\n",
        "  print(\"Value:{}\".format(num))\n",
        "  num=num+1"
      ],
      "execution_count": 117,
      "outputs": [
        {
          "output_type": "stream",
          "text": [
            "Value:0\n",
            "Value:1\n",
            "Value:2\n",
            "Value:3\n",
            "Value:4\n",
            "Value:5\n",
            "Value:6\n",
            "Value:7\n",
            "Value:8\n"
          ],
          "name": "stdout"
        }
      ]
    },
    {
      "cell_type": "code",
      "metadata": {
        "colab": {
          "base_uri": "https://localhost:8080/"
        },
        "id": "rGWCxc1YUlRT",
        "outputId": "653aede0-d5d8-4ea6-a557-a2408ee52e69"
      },
      "source": [
        "num3= int(input(\"Please enter an integer between 1 and 10: \"))\n",
        "\n",
        "while num3 < 1 or num3 > 10:\n",
        "  print (\"Invalid value!!!\")\n",
        "  sayi3 = int(input(\"Please enter an integer between 1 and 10: \")) #sayi3 ü kontrol edebileceğim bir işlem olmadığı için sonsuz döngüye girdi.\n",
        "\n",
        "print(\"Congrats!!!...\")"
      ],
      "execution_count": 120,
      "outputs": [
        {
          "output_type": "stream",
          "text": [
            "Please enter an integer between 1 and 10: 5\n",
            "Congrats!!!...\n"
          ],
          "name": "stdout"
        }
      ]
    },
    {
      "cell_type": "code",
      "metadata": {
        "colab": {
          "base_uri": "https://localhost:8080/"
        },
        "id": "8-NyJqBpWS_F",
        "outputId": "8544e96d-fee6-46b4-fd1c-90bd2862f241"
      },
      "source": [
        "num3= int(input(\"Please enter an integer between 1 and 10: \"))\n",
        "\n",
        "while num3 < 1 or num3 > 10:\n",
        "  print (\"Invalid value!!!\")\n",
        "  num3 = int(input(\"Please enter an integer between 1 and 10: \")) #num3 olunca sonsuz döngüden çıkardık.\n",
        "print(\"Congrats!!!...\")"
      ],
      "execution_count": 121,
      "outputs": [
        {
          "output_type": "stream",
          "text": [
            "Please enter an integer between 1 and 10: 65\n",
            "Invalid value!!!\n",
            "Please enter an integer between 1 and 10: 3\n",
            "Congrats!!!...\n"
          ],
          "name": "stdout"
        }
      ]
    },
    {
      "cell_type": "markdown",
      "metadata": {
        "id": "TOYd9hKIWqOa"
      },
      "source": [
        "**Print items of a list**"
      ]
    },
    {
      "cell_type": "code",
      "metadata": {
        "id": "ANx6NoAdWPE1"
      },
      "source": [
        "t= [1,2,3,4,5,6]"
      ],
      "execution_count": null,
      "outputs": []
    }
  ]
}