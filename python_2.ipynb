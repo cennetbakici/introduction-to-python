{
  "nbformat": 4,
  "nbformat_minor": 0,
  "metadata": {
    "colab": {
      "name": "python_2.ipynb",
      "provenance": [],
      "collapsed_sections": [],
      "authorship_tag": "ABX9TyNEIPGAyHBsvZCVxnrAOTVk",
      "include_colab_link": true
    },
    "kernelspec": {
      "name": "python3",
      "display_name": "Python 3"
    },
    "language_info": {
      "name": "python"
    }
  },
  "cells": [
    {
      "cell_type": "markdown",
      "metadata": {
        "id": "view-in-github",
        "colab_type": "text"
      },
      "source": [
        "<a href=\"https://colab.research.google.com/github/cennetbakici/introduction-to-python/blob/master/python_2.ipynb\" target=\"_parent\"><img src=\"https://colab.research.google.com/assets/colab-badge.svg\" alt=\"Open In Colab\"/></a>"
      ]
    },
    {
      "cell_type": "code",
      "metadata": {
        "colab": {
          "base_uri": "https://localhost:8080/"
        },
        "id": "HZX5HIhgqMJF",
        "outputId": "7af7defa-d1a8-4e97-e682-c566db874641"
      },
      "source": [
        "word= 'machine learning'\n",
        "print (word)"
      ],
      "execution_count": 1,
      "outputs": [
        {
          "output_type": "stream",
          "text": [
            "machine learning\n"
          ],
          "name": "stdout"
        }
      ]
    },
    {
      "cell_type": "code",
      "metadata": {
        "colab": {
          "base_uri": "https://localhost:8080/"
        },
        "id": "PEM7CUMHsnix",
        "outputId": "591b0df7-f77d-417c-b58e-f28dd172ccc7"
      },
      "source": [
        "print(word.capitalize())"
      ],
      "execution_count": 3,
      "outputs": [
        {
          "output_type": "stream",
          "text": [
            "Machine learning\n"
          ],
          "name": "stdout"
        }
      ]
    },
    {
      "cell_type": "code",
      "metadata": {
        "colab": {
          "base_uri": "https://localhost:8080/"
        },
        "id": "9uoqzmN1s0-R",
        "outputId": "83269998-eb7c-4078-94f9-6d5305615d2a"
      },
      "source": [
        "print(word.upper())"
      ],
      "execution_count": 4,
      "outputs": [
        {
          "output_type": "stream",
          "text": [
            "MACHINE LEARNING\n"
          ],
          "name": "stdout"
        }
      ]
    },
    {
      "cell_type": "code",
      "metadata": {
        "colab": {
          "base_uri": "https://localhost:8080/"
        },
        "id": "CqPNJsb_s-lQ",
        "outputId": "6b0a9584-4c42-47ca-f50f-27e5c1c20c0b"
      },
      "source": [
        "print(word.replace('machine','artificial'))"
      ],
      "execution_count": 5,
      "outputs": [
        {
          "output_type": "stream",
          "text": [
            "artificial learning\n"
          ],
          "name": "stdout"
        }
      ]
    },
    {
      "cell_type": "code",
      "metadata": {
        "colab": {
          "base_uri": "https://localhost:8080/",
          "height": 35
        },
        "id": "5S7XvYnEtfMn",
        "outputId": "7697888f-611c-48c5-c078-a53e9fd399f9"
      },
      "source": [
        "word"
      ],
      "execution_count": 6,
      "outputs": [
        {
          "output_type": "execute_result",
          "data": {
            "application/vnd.google.colaboratory.intrinsic+json": {
              "type": "string"
            },
            "text/plain": [
              "'machine learning'"
            ]
          },
          "metadata": {
            "tags": []
          },
          "execution_count": 6
        }
      ]
    },
    {
      "cell_type": "code",
      "metadata": {
        "colab": {
          "base_uri": "https://localhost:8080/"
        },
        "id": "ivaE_DC4uULD",
        "outputId": "77904ca2-88c6-4030-ee6c-2d43ae869513"
      },
      "source": [
        "x= int (input(\"Please enter an integer: \"))\n",
        "print(x)"
      ],
      "execution_count": 7,
      "outputs": [
        {
          "output_type": "stream",
          "text": [
            "Please enter an integer: 45\n",
            "45\n"
          ],
          "name": "stdout"
        }
      ]
    },
    {
      "cell_type": "code",
      "metadata": {
        "colab": {
          "base_uri": "https://localhost:8080/"
        },
        "id": "mmORl0ZsuzsE",
        "outputId": "a11ea733-a234-4adf-d4b4-f01c95de349c"
      },
      "source": [
        "mylist = [3,5,6,7,\"python\",[1,2,3]]\n",
        "print(mylist)"
      ],
      "execution_count": 10,
      "outputs": [
        {
          "output_type": "stream",
          "text": [
            "[3, 5, 6, 7, 'python', [1, 2, 3]]\n"
          ],
          "name": "stdout"
        }
      ]
    },
    {
      "cell_type": "code",
      "metadata": {
        "id": "ModDgZPiysgf"
      },
      "source": [
        ""
      ],
      "execution_count": null,
      "outputs": []
    },
    {
      "cell_type": "code",
      "metadata": {
        "colab": {
          "base_uri": "https://localhost:8080/"
        },
        "id": "cojEtGJZxLRu",
        "outputId": "ac895da0-982a-459a-b5e5-c25d911430c3"
      },
      "source": [
        "type(mylist)"
      ],
      "execution_count": 9,
      "outputs": [
        {
          "output_type": "execute_result",
          "data": {
            "text/plain": [
              "list"
            ]
          },
          "metadata": {
            "tags": []
          },
          "execution_count": 9
        }
      ]
    },
    {
      "cell_type": "code",
      "metadata": {
        "colab": {
          "base_uri": "https://localhost:8080/"
        },
        "id": "d7RcipS4xOkZ",
        "outputId": "4904d83f-e4aa-4b65-8cc3-10eead58c426"
      },
      "source": [
        "print(mylist[4])"
      ],
      "execution_count": 12,
      "outputs": [
        {
          "output_type": "stream",
          "text": [
            "python\n"
          ],
          "name": "stdout"
        }
      ]
    },
    {
      "cell_type": "code",
      "metadata": {
        "colab": {
          "base_uri": "https://localhost:8080/"
        },
        "id": "v1JMK8xqyHaa",
        "outputId": "81723302-8183-46a2-c7ee-b8e2c8e98cf5"
      },
      "source": [
        "mylist[3]=\"cennet\"\n",
        "print(mylist)"
      ],
      "execution_count": 14,
      "outputs": [
        {
          "output_type": "stream",
          "text": [
            "[3, 5, 6, 'cennet', 'python', [1, 2, 3]]\n"
          ],
          "name": "stdout"
        }
      ]
    },
    {
      "cell_type": "code",
      "metadata": {
        "colab": {
          "base_uri": "https://localhost:8080/"
        },
        "id": "Jm765OSPydIw",
        "outputId": "d2f6996d-659b-45d9-d757-8cff863cfad2"
      },
      "source": [
        "mylist.append(\"bakıcı\") #append fonk. tekrar tekrar kullanılabilme özelliğine sahiptir. işlemi yapar ve kalıcı hale getirir. değer döndürmüyor\n",
        "print(mylist)\n",
        "\n",
        "thelast= mylist.pop() # boş çalıştırırsan son elemanı silmemizi sağlar ve değer döndürür.\n",
        "print(thelast)\n",
        "print(mylist)"
      ],
      "execution_count": 31,
      "outputs": [
        {
          "output_type": "stream",
          "text": [
            "[3, 6, 'cennet', 'python', [1, 2, 3], 'bakıcı', 'bakıcı']\n",
            "bakıcı\n",
            "[3, 6, 'cennet', 'python', [1, 2, 3], 'bakıcı']\n"
          ],
          "name": "stdout"
        }
      ]
    },
    {
      "cell_type": "code",
      "metadata": {
        "colab": {
          "base_uri": "https://localhost:8080/"
        },
        "id": "MLWZixibzQ2T",
        "outputId": "0ec7b03e-3fa8-4dce-b1eb-9ebdbe88aa87"
      },
      "source": [
        "mylist.pop(1)"
      ],
      "execution_count": 25,
      "outputs": [
        {
          "output_type": "execute_result",
          "data": {
            "text/plain": [
              "5"
            ]
          },
          "metadata": {
            "tags": []
          },
          "execution_count": 25
        }
      ]
    },
    {
      "cell_type": "code",
      "metadata": {
        "colab": {
          "base_uri": "https://localhost:8080/"
        },
        "id": "uD-UDlak1E3g",
        "outputId": "633ef80d-d1c9-4174-ccc7-4db9ce575963"
      },
      "source": [
        "print(mylist)"
      ],
      "execution_count": 26,
      "outputs": [
        {
          "output_type": "stream",
          "text": [
            "[3, 6, 'cennet', 'python', [1, 2, 3], 'bakıcı']\n"
          ],
          "name": "stdout"
        }
      ]
    },
    {
      "cell_type": "code",
      "metadata": {
        "colab": {
          "base_uri": "https://localhost:8080/"
        },
        "id": "nlDnoLjS1I51",
        "outputId": "6910ce5f-8acb-49b1-9ebc-f545e4fe28ae"
      },
      "source": [
        "mylist.index(6) #6 hangi indexte ise onu gösteriyor"
      ],
      "execution_count": 30,
      "outputs": [
        {
          "output_type": "execute_result",
          "data": {
            "text/plain": [
              "1"
            ]
          },
          "metadata": {
            "tags": []
          },
          "execution_count": 30
        }
      ]
    },
    {
      "cell_type": "code",
      "metadata": {
        "colab": {
          "base_uri": "https://localhost:8080/"
        },
        "id": "8Zl2xZzv1lPa",
        "outputId": "6ba96050-b909-4fe7-f32b-6bfe2d70f5ef"
      },
      "source": [
        "list3=[1,2,2,2,2,2,444,33333,3,3,3,3]\n",
        "list3.count(2)  #parantez içine yazılan değerin liste içinde kaç defa tekrarlandığını buluyor."
      ],
      "execution_count": 32,
      "outputs": [
        {
          "output_type": "execute_result",
          "data": {
            "text/plain": [
              "5"
            ]
          },
          "metadata": {
            "tags": []
          },
          "execution_count": 32
        }
      ]
    },
    {
      "cell_type": "code",
      "metadata": {
        "colab": {
          "base_uri": "https://localhost:8080/"
        },
        "id": "4prSyYvP2gzi",
        "outputId": "e8a0f954-bf68-4a5e-f1e0-8b9df3e35381"
      },
      "source": [
        "list3.remove(3) #tekrar tekrar kullanılabilir.\n",
        "print(list3)"
      ],
      "execution_count": 34,
      "outputs": [
        {
          "output_type": "stream",
          "text": [
            "[1, 2, 2, 2, 2, 2, 444, 33333, 3, 3]\n"
          ],
          "name": "stdout"
        }
      ]
    },
    {
      "cell_type": "code",
      "metadata": {
        "colab": {
          "base_uri": "https://localhost:8080/"
        },
        "id": "3qyyFHUw3Or6",
        "outputId": "e4955a27-6cf4-4a4f-b31a-52c87a866278"
      },
      "source": [
        "list3.sort() # listeyi küçükten büyüğe doğru sıralıyor.str ile int bir değer karşılaştırılamaz.\n",
        "list3"
      ],
      "execution_count": 35,
      "outputs": [
        {
          "output_type": "execute_result",
          "data": {
            "text/plain": [
              "[1, 2, 2, 2, 2, 2, 3, 3, 444, 33333]"
            ]
          },
          "metadata": {
            "tags": []
          },
          "execution_count": 35
        }
      ]
    },
    {
      "cell_type": "code",
      "metadata": {
        "colab": {
          "base_uri": "https://localhost:8080/"
        },
        "id": "eAcbPcle3fw6",
        "outputId": "3e8c5c5c-298e-4fe8-caed-295042b541e2"
      },
      "source": [
        "list3.reverse()\n",
        "list3"
      ],
      "execution_count": 36,
      "outputs": [
        {
          "output_type": "execute_result",
          "data": {
            "text/plain": [
              "[33333, 444, 3, 3, 2, 2, 2, 2, 2, 1]"
            ]
          },
          "metadata": {
            "tags": []
          },
          "execution_count": 36
        }
      ]
    },
    {
      "cell_type": "code",
      "metadata": {
        "colab": {
          "base_uri": "https://localhost:8080/"
        },
        "id": "UdoqOAlp38xR",
        "outputId": "fabbe69b-1c9c-4c15-8b01-8b1418997752"
      },
      "source": [
        "list3[::-1] #buda reverse yapmaya yarıyor."
      ],
      "execution_count": 37,
      "outputs": [
        {
          "output_type": "execute_result",
          "data": {
            "text/plain": [
              "[1, 2, 2, 2, 2, 2, 3, 3, 444, 33333]"
            ]
          },
          "metadata": {
            "tags": []
          },
          "execution_count": 37
        }
      ]
    },
    {
      "cell_type": "code",
      "metadata": {
        "colab": {
          "base_uri": "https://localhost:8080/"
        },
        "id": "Cl1Bt8gO4J2d",
        "outputId": "8f3d7c78-60a8-4081-af62-f4a3a8a0b755"
      },
      "source": [
        "list4=[\"cennet\",\"furkan\",\"bakıcı\"]\n",
        "list4.sort() #str ile str yi alfabetik sıraya göre karşılaştırabilir.\n",
        "list4"
      ],
      "execution_count": 38,
      "outputs": [
        {
          "output_type": "execute_result",
          "data": {
            "text/plain": [
              "['bakıcı', 'cennet', 'furkan']"
            ]
          },
          "metadata": {
            "tags": []
          },
          "execution_count": 38
        }
      ]
    }
  ]
}