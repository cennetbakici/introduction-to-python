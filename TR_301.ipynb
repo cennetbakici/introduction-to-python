{
  "nbformat": 4,
  "nbformat_minor": 0,
  "metadata": {
    "colab": {
      "name": "TR_301.ipynb",
      "provenance": [],
      "collapsed_sections": [],
      "authorship_tag": "ABX9TyN/uznGY7N4g5pXd7Oq5NXj",
      "include_colab_link": true
    },
    "kernelspec": {
      "name": "python3",
      "display_name": "Python 3"
    },
    "language_info": {
      "name": "python"
    }
  },
  "cells": [
    {
      "cell_type": "markdown",
      "metadata": {
        "id": "view-in-github",
        "colab_type": "text"
      },
      "source": [
        "<a href=\"https://colab.research.google.com/github/cennetbakici/introduction-to-python/blob/master/TR_301.ipynb\" target=\"_parent\"><img src=\"https://colab.research.google.com/assets/colab-badge.svg\" alt=\"Open In Colab\"/></a>"
      ]
    },
    {
      "cell_type": "code",
      "metadata": {
        "id": "zI-GVMw-_X_V"
      },
      "source": [
        "def kare_al(x):\n",
        "    print(\"Girilen Sayinin Karesi:\", x**2)"
      ],
      "execution_count": null,
      "outputs": []
    },
    {
      "cell_type": "code",
      "metadata": {
        "colab": {
          "base_uri": "https://localhost:8080/"
        },
        "id": "pTQnGGqe_-LH",
        "outputId": "a91fc31f-5be7-4a65-cb63-6e0b345da7e9"
      },
      "source": [
        "kare_al(4)"
      ],
      "execution_count": null,
      "outputs": [
        {
          "output_type": "stream",
          "text": [
            "Girilen Sayinin Karesi: 16\n"
          ],
          "name": "stdout"
        }
      ]
    },
    {
      "cell_type": "code",
      "metadata": {
        "id": "5EG7d5RWALl9"
      },
      "source": [
        "def kare_al(x):\n",
        "    print(\"Girilen Sayi:\",x, \"Karesi:\", x**2)"
      ],
      "execution_count": null,
      "outputs": []
    },
    {
      "cell_type": "code",
      "metadata": {
        "colab": {
          "base_uri": "https://localhost:8080/"
        },
        "id": "3urf2hanAVj9",
        "outputId": "bef98f64-48fc-46d2-bbc9-5554fbc6b90e"
      },
      "source": [
        "kare_al(5)"
      ],
      "execution_count": null,
      "outputs": [
        {
          "output_type": "stream",
          "text": [
            "Girilen Sayi: 5 Karesi: 25\n"
          ],
          "name": "stdout"
        }
      ]
    },
    {
      "cell_type": "code",
      "metadata": {
        "id": "j1NEdHRlAdDg"
      },
      "source": [
        "def kare_al(x):\n",
        "    print(\"Girilen Sayi:\" + str(x) +\", Karesi:\" + str(x**2))"
      ],
      "execution_count": null,
      "outputs": []
    },
    {
      "cell_type": "code",
      "metadata": {
        "colab": {
          "base_uri": "https://localhost:8080/"
        },
        "id": "BU0MqXOGAvgK",
        "outputId": "983f62e8-e7f0-493e-ddf7-1029d880eed2"
      },
      "source": [
        "kare_al(8)"
      ],
      "execution_count": null,
      "outputs": [
        {
          "output_type": "stream",
          "text": [
            "Girilen Sayi:8, Karesi:64\n"
          ],
          "name": "stdout"
        }
      ]
    },
    {
      "cell_type": "code",
      "metadata": {
        "id": "_F0Wo_2aCDAn"
      },
      "source": [
        "def carpma_yap(x,y):\n",
        "    print(x*y)"
      ],
      "execution_count": null,
      "outputs": []
    },
    {
      "cell_type": "code",
      "metadata": {
        "colab": {
          "base_uri": "https://localhost:8080/"
        },
        "id": "oac0CznECpCX",
        "outputId": "48aa4b35-bc35-4745-b90b-749f3339fda3"
      },
      "source": [
        "carpma_yap(2,3)"
      ],
      "execution_count": null,
      "outputs": [
        {
          "output_type": "stream",
          "text": [
            "6\n"
          ],
          "name": "stdout"
        }
      ]
    },
    {
      "cell_type": "code",
      "metadata": {
        "id": "MHk9MjkTDRRG"
      },
      "source": [
        "?print"
      ],
      "execution_count": null,
      "outputs": []
    },
    {
      "cell_type": "markdown",
      "metadata": {
        "id": "vWlUfjW2DuTA"
      },
      "source": [
        "Docstring:\n",
        "print(value, ..., sep=' ', end='\\n', file=sys.stdout, flush=False)\n",
        "\n",
        "Prints the values to a stream, or to sys.stdout by default.\n",
        "Optional keyword arguments:\n",
        "\n",
        "file:  a file-like object (stream); defaults to the current sys.stdout.\n",
        "\n",
        "sep:   string inserted between values, default a space.\n",
        "\n",
        "end:   string appended after the last value, default a newline.\n",
        "\n",
        "flush: whether to forcibly flush the stream.\n",
        "Type:      builtin_function_or_method"
      ]
    },
    {
      "cell_type": "code",
      "metadata": {
        "colab": {
          "base_uri": "https://localhost:8080/"
        },
        "id": "UnNSw7v2DwKI",
        "outputId": "0a066b6a-0c5e-424b-8f70-b1b3aed85226"
      },
      "source": [
        "dir(print)"
      ],
      "execution_count": null,
      "outputs": [
        {
          "output_type": "execute_result",
          "data": {
            "text/plain": [
              "['__call__',\n",
              " '__class__',\n",
              " '__delattr__',\n",
              " '__dir__',\n",
              " '__doc__',\n",
              " '__eq__',\n",
              " '__format__',\n",
              " '__ge__',\n",
              " '__getattribute__',\n",
              " '__gt__',\n",
              " '__hash__',\n",
              " '__init__',\n",
              " '__init_subclass__',\n",
              " '__le__',\n",
              " '__lt__',\n",
              " '__module__',\n",
              " '__name__',\n",
              " '__ne__',\n",
              " '__new__',\n",
              " '__qualname__',\n",
              " '__reduce__',\n",
              " '__reduce_ex__',\n",
              " '__repr__',\n",
              " '__self__',\n",
              " '__setattr__',\n",
              " '__sizeof__',\n",
              " '__str__',\n",
              " '__subclasshook__',\n",
              " '__text_signature__']"
            ]
          },
          "metadata": {
            "tags": []
          },
          "execution_count": 13
        }
      ]
    },
    {
      "cell_type": "code",
      "metadata": {
        "id": "eO-t4ovgEOCr"
      },
      "source": [
        "def carpma_yap(x,y=1): #y=1 yazınca y ye ön tanımlı bir değer vermiş olduk.\n",
        "    print(x*y)"
      ],
      "execution_count": null,
      "outputs": []
    },
    {
      "cell_type": "code",
      "metadata": {
        "colab": {
          "base_uri": "https://localhost:8080/"
        },
        "id": "Iy3KmLXmEcNa",
        "outputId": "9a57949b-cd87-4c4f-e2b1-48c0fd7da3b3"
      },
      "source": [
        "carpma_yap(3)"
      ],
      "execution_count": null,
      "outputs": [
        {
          "output_type": "stream",
          "text": [
            "3\n"
          ],
          "name": "stdout"
        }
      ]
    },
    {
      "cell_type": "code",
      "metadata": {
        "colab": {
          "base_uri": "https://localhost:8080/"
        },
        "id": "k3RPks-jEfyK",
        "outputId": "38d70873-f2cf-4d80-cf38-04a8d58da4a1"
      },
      "source": [
        "carpma_yap(3,5) #y=1 e ön tanım vermiş olsak dahi bunu değiştirebiliriz, \n",
        "#bunu sadece hata vermesini önlemek için yapmıştık"
      ],
      "execution_count": null,
      "outputs": [
        {
          "output_type": "stream",
          "text": [
            "15\n"
          ],
          "name": "stdout"
        }
      ]
    },
    {
      "cell_type": "code",
      "metadata": {
        "colab": {
          "base_uri": "https://localhost:8080/"
        },
        "id": "XfjhsHKGGg-q",
        "outputId": "a5356795-363b-4369-8cfc-c785fde45d93"
      },
      "source": [
        "#carpma_yap(x,y) fonksiyonda eğer argümanların sırasını bilmiyorsam \n",
        "#carpma_yap(y=2, x=3) şeklinde yazsamda aynı işlemi yapacaktır.\n",
        "\n",
        "carpma_yap(y=5, x=3)"
      ],
      "execution_count": null,
      "outputs": [
        {
          "output_type": "stream",
          "text": [
            "15\n"
          ],
          "name": "stdout"
        }
      ]
    },
    {
      "cell_type": "markdown",
      "metadata": {
        "id": "phs8058zrHvx"
      },
      "source": [
        "Bir fonksiyon; sık tekrar eden ya da uzun işlemlerden kurtulmak için yazdığımız ihtiyaçlardır."
      ]
    },
    {
      "cell_type": "code",
      "metadata": {
        "id": "md-k5-oCpVgl"
      },
      "source": [
        "def direk_hesap(isi, nem, sarj):\n",
        "  print((isi + nem)/sarj)"
      ],
      "execution_count": 21,
      "outputs": []
    },
    {
      "cell_type": "code",
      "metadata": {
        "colab": {
          "base_uri": "https://localhost:8080/"
        },
        "id": "rwRGPyYHrK_r",
        "outputId": "2a28b811-0aba-4383-995b-6db59b514113"
      },
      "source": [
        "direk_hesap(25,36,47)"
      ],
      "execution_count": 22,
      "outputs": [
        {
          "output_type": "stream",
          "text": [
            "1.297872340425532\n"
          ],
          "name": "stdout"
        }
      ]
    },
    {
      "cell_type": "code",
      "metadata": {
        "id": "isv7RpFusI7S"
      },
      "source": [
        "def direk_hesap(isi, nem, sarj):\n",
        "  return (isi + nem)/sarj  # fonsiyon çıktısını tekrardan kullanmak istiyorsak \n",
        "#bu değeri return ile döndürmemiz gerekmektedir."
      ],
      "execution_count": 23,
      "outputs": []
    },
    {
      "cell_type": "code",
      "metadata": {
        "colab": {
          "base_uri": "https://localhost:8080/"
        },
        "id": "NTKk2-OQsX64",
        "outputId": "50e6dae3-e952-40f5-a893-ae1a95a66bee"
      },
      "source": [
        "direk_hesap(25,36,47)*9"
      ],
      "execution_count": 24,
      "outputs": [
        {
          "output_type": "execute_result",
          "data": {
            "text/plain": [
              "11.680851063829786"
            ]
          },
          "metadata": {
            "tags": []
          },
          "execution_count": 24
        }
      ]
    },
    {
      "cell_type": "code",
      "metadata": {
        "colab": {
          "base_uri": "https://localhost:8080/"
        },
        "id": "VlxIF1lOsgoa",
        "outputId": "68e6d558-41a4-4b50-d793-55508efce707"
      },
      "source": [
        "cikti= direk_hesap(25,36,47)*9\n",
        "cikti"
      ],
      "execution_count": 28,
      "outputs": [
        {
          "output_type": "execute_result",
          "data": {
            "text/plain": [
              "11.680851063829786"
            ]
          },
          "metadata": {
            "tags": []
          },
          "execution_count": 28
        }
      ]
    },
    {
      "cell_type": "code",
      "metadata": {
        "colab": {
          "base_uri": "https://localhost:8080/"
        },
        "id": "w_4_O8xQs0Nz",
        "outputId": "e60323d5-f2e4-43dc-8c68-174ca869950c"
      },
      "source": [
        "print (cikti)"
      ],
      "execution_count": 29,
      "outputs": [
        {
          "output_type": "stream",
          "text": [
            "11.680851063829786\n"
          ],
          "name": "stdout"
        }
      ]
    },
    {
      "cell_type": "markdown",
      "metadata": {
        "id": "Ps3v318r2mQz"
      },
      "source": [
        "**Global ve Local Değişkenler**"
      ]
    },
    {
      "cell_type": "code",
      "metadata": {
        "id": "M60D7PGu1-sc"
      },
      "source": [
        "x = 10 #bunlar global değişkenler\n",
        "y = 20 #bunlar global değişkenler\n",
        "\n",
        "def toplama_yap (x, y): #bunlar local değişkenler\n",
        "  return x + y"
      ],
      "execution_count": 32,
      "outputs": []
    },
    {
      "cell_type": "code",
      "metadata": {
        "colab": {
          "base_uri": "https://localhost:8080/"
        },
        "id": "GM47_4JD2QHe",
        "outputId": "39d95c54-068b-4670-e0e3-bcf0e2e33fff"
      },
      "source": [
        "toplama_yap(3,8)"
      ],
      "execution_count": 31,
      "outputs": [
        {
          "output_type": "execute_result",
          "data": {
            "text/plain": [
              "11"
            ]
          },
          "metadata": {
            "tags": []
          },
          "execution_count": 31
        }
      ]
    },
    {
      "cell_type": "markdown",
      "metadata": {
        "id": "PaIcpd-74Mqg"
      },
      "source": [
        "**Local etki alanından Global etki alanını değiştirmek**"
      ]
    },
    {
      "cell_type": "code",
      "metadata": {
        "id": "QdOmPnPT2upG"
      },
      "source": [
        "x = []\n",
        "\n",
        "def eleman_ekle(y):\n",
        "  x.append(y) #x i önce local alanda arıyor bulamazsa global e bakıyor. \n",
        "  #Eğer ordada bulamazsa hata üretir.\n",
        "  print(str(y) + \" ifadesi eklendi\")"
      ],
      "execution_count": 43,
      "outputs": []
    },
    {
      "cell_type": "code",
      "metadata": {
        "colab": {
          "base_uri": "https://localhost:8080/"
        },
        "id": "sfFGj2Yh3HYK",
        "outputId": "70ee77a4-7cf9-4bd6-8a70-d760dd017bbf"
      },
      "source": [
        "eleman_ekle(9)\n",
        "eleman_ekle(\"ali\")"
      ],
      "execution_count": 44,
      "outputs": [
        {
          "output_type": "stream",
          "text": [
            "9 ifadesi eklendi\n",
            "ali ifadesi eklendi\n"
          ],
          "name": "stdout"
        }
      ]
    },
    {
      "cell_type": "code",
      "metadata": {
        "colab": {
          "base_uri": "https://localhost:8080/"
        },
        "id": "UXKXjn2D35LI",
        "outputId": "094f427e-dc93-46e8-a056-15c325790200"
      },
      "source": [
        "x"
      ],
      "execution_count": 45,
      "outputs": [
        {
          "output_type": "execute_result",
          "data": {
            "text/plain": [
              "[9, 'ali']"
            ]
          },
          "metadata": {
            "tags": []
          },
          "execution_count": 45
        }
      ]
    },
    {
      "cell_type": "markdown",
      "metadata": {
        "id": "km1wieR_44KW"
      },
      "source": [
        "**Karar & Kontrol Yapıları**\n",
        "\n",
        "True-False Sorgulamaları"
      ]
    },
    {
      "cell_type": "code",
      "metadata": {
        "colab": {
          "base_uri": "https://localhost:8080/"
        },
        "id": "DKhaDZxZ49d_",
        "outputId": "4cbad117-975a-4a88-edfd-707574a10997"
      },
      "source": [
        "9 == 9.0"
      ],
      "execution_count": 46,
      "outputs": [
        {
          "output_type": "execute_result",
          "data": {
            "text/plain": [
              "True"
            ]
          },
          "metadata": {
            "tags": []
          },
          "execution_count": 46
        }
      ]
    },
    {
      "cell_type": "code",
      "metadata": {
        "colab": {
          "base_uri": "https://localhost:8080/"
        },
        "id": "wpEGB1MU5-yG",
        "outputId": "21c18c8c-5bb5-4225-daf8-592ab21519e9"
      },
      "source": [
        "6 == 8"
      ],
      "execution_count": 47,
      "outputs": [
        {
          "output_type": "execute_result",
          "data": {
            "text/plain": [
              "False"
            ]
          },
          "metadata": {
            "tags": []
          },
          "execution_count": 47
        }
      ]
    },
    {
      "cell_type": "markdown",
      "metadata": {
        "id": "2aLbhVVl57EE"
      },
      "source": [
        "**IF Yapısı**"
      ]
    },
    {
      "cell_type": "code",
      "metadata": {
        "colab": {
          "base_uri": "https://localhost:8080/"
        },
        "id": "jutApryG6E6v",
        "outputId": "9849d95d-01ed-4e75-a455-358d79acf0e9"
      },
      "source": [
        "sinir = 50000\n",
        "gelir = 40000\n",
        "\n",
        "if gelir < sinir :\n",
        "  print(\"Gelir sinirdan kucuk\")"
      ],
      "execution_count": 48,
      "outputs": [
        {
          "output_type": "stream",
          "text": [
            "Gelir sinirdan kucuk\n"
          ],
          "name": "stdout"
        }
      ]
    },
    {
      "cell_type": "markdown",
      "metadata": {
        "id": "n8-0tc8d7rBU"
      },
      "source": [
        "**ELSE Yapısı**"
      ]
    },
    {
      "cell_type": "code",
      "metadata": {
        "colab": {
          "base_uri": "https://localhost:8080/"
        },
        "id": "Ojvp5bQb7Tc_",
        "outputId": "889612e9-8f76-4e69-f513-cd0df7c7365d"
      },
      "source": [
        "sinir = 50000\n",
        "gelir = 60000\n",
        "\n",
        "if gelir < sinir :\n",
        "  print(\"Gelir sinirdan kucuk\")\n",
        "else:\n",
        "  print (\"Gelir sinirdan buyuk\")"
      ],
      "execution_count": 49,
      "outputs": [
        {
          "output_type": "stream",
          "text": [
            "Gelir sinirdan buyuk\n"
          ],
          "name": "stdout"
        }
      ]
    },
    {
      "cell_type": "code",
      "metadata": {
        "colab": {
          "base_uri": "https://localhost:8080/"
        },
        "id": "b44lgdT97xU2",
        "outputId": "a3381da5-0106-4010-dc24-9dd18cef2b4c"
      },
      "source": [
        "sinir = 50000\n",
        "gelir = 60000\n",
        "\n",
        "if gelir == sinir :\n",
        "  print(\"Gelir sinira eşittir\")\n",
        "else:\n",
        "  print (\"Gelir sinira eşit değildir\")"
      ],
      "execution_count": 50,
      "outputs": [
        {
          "output_type": "stream",
          "text": [
            "Gelir sinira eşit değildir\n"
          ],
          "name": "stdout"
        }
      ]
    },
    {
      "cell_type": "markdown",
      "metadata": {
        "id": "yVqYIDDC-UP8"
      },
      "source": [
        "**ELIF Yapısı**"
      ]
    },
    {
      "cell_type": "code",
      "metadata": {
        "colab": {
          "base_uri": "https://localhost:8080/"
        },
        "id": "wp5gBInmMt0X",
        "outputId": "eb439591-3d53-493e-a3fb-e8d7960a47b3"
      },
      "source": [
        "sinir = 50000\n",
        "gelir1 = 60000\n",
        "gelir2 = 50000\n",
        "gelir3 = 35000\n",
        "\n",
        "\n",
        "if gelir1 > sinir :\n",
        "  print(\"Tebrikler, hediye kazandiniz.\")\n",
        "\n",
        "elif gelir1 < sinir:\n",
        "  print(\"Uyari!\")\n",
        "\n",
        "else:\n",
        "  print (\"Takibe devam\")"
      ],
      "execution_count": 51,
      "outputs": [
        {
          "output_type": "stream",
          "text": [
            "Tebrikler, hediye kazandiniz.\n"
          ],
          "name": "stdout"
        }
      ]
    },
    {
      "cell_type": "code",
      "metadata": {
        "colab": {
          "base_uri": "https://localhost:8080/"
        },
        "id": "5lo6jKBUN6mq",
        "outputId": "6d41d3d0-3975-4eae-f8b8-1a64f8e45c4e"
      },
      "source": [
        "if gelir3 > sinir :\n",
        "  print(\"Tebrikler, hediye kazandiniz.\")\n",
        "\n",
        "elif gelir3 < sinir:\n",
        "  print(\"Uyari!\")\n",
        "\n",
        "else:\n",
        "  print (\"Takibe devam\")"
      ],
      "execution_count": 52,
      "outputs": [
        {
          "output_type": "stream",
          "text": [
            "Uyari!\n"
          ],
          "name": "stdout"
        }
      ]
    },
    {
      "cell_type": "code",
      "metadata": {
        "colab": {
          "base_uri": "https://localhost:8080/"
        },
        "id": "S1Vi_X4HODNs",
        "outputId": "76efbe8a-4571-47c3-b2dd-c7ece2c509e8"
      },
      "source": [
        "if gelir2 > sinir :\n",
        "  print(\"Tebrikler, hediye kazandiniz.\")\n",
        "\n",
        "elif gelir2 < sinir:\n",
        "  print(\"Uyari!\")\n",
        "\n",
        "else:\n",
        "  print (\"Takibe devam\")"
      ],
      "execution_count": 53,
      "outputs": [
        {
          "output_type": "stream",
          "text": [
            "Takibe devam\n"
          ],
          "name": "stdout"
        }
      ]
    },
    {
      "cell_type": "markdown",
      "metadata": {
        "id": "9tycvRX2R-VU"
      },
      "source": [
        "Uygulama: if ve input ile Kullanıcı Etkileşimli Program"
      ]
    },
    {
      "cell_type": "code",
      "metadata": {
        "colab": {
          "base_uri": "https://localhost:8080/"
        },
        "id": "vg4iWi9QR_u9",
        "outputId": "38fd1b10-b4af-4dd2-cbbd-492504cdcc7b"
      },
      "source": [
        "sinir = 50000\n",
        "magaza_adi = input (\"Magaza Adi Nedir? \")\n",
        "gelir = int(input (\"Gelirinizi Giriniz: \"))\n",
        "\n",
        "if gelir > sinir:\n",
        "  print (\"Tebrikler: \" + magaza_adi + \" subesi promosyon kazandiniz!\")\n",
        "elif gelir < sinir:\n",
        "  print(\"Uyari! Cok dusuk gelir: \"  + str(gelir))\n",
        "else:\n",
        "  print(\"Takibe devam\")"
      ],
      "execution_count": 61,
      "outputs": [
        {
          "output_type": "stream",
          "text": [
            "Magaza Adi Nedir? A\n",
            "Gelirinizi Giriniz: 57000\n",
            "Tebrikler: A subesi promosyon kazandiniz!\n"
          ],
          "name": "stdout"
        }
      ]
    }
  ]
}