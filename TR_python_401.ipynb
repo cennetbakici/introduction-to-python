{
  "nbformat": 4,
  "nbformat_minor": 0,
  "metadata": {
    "colab": {
      "name": "TR_python_401.ipynb",
      "provenance": [],
      "collapsed_sections": [
        "fxXYhoSNCC3e"
      ],
      "authorship_tag": "ABX9TyMymQVi6tc0r/axRix56gsb",
      "include_colab_link": true
    },
    "kernelspec": {
      "name": "python3",
      "display_name": "Python 3"
    },
    "language_info": {
      "name": "python"
    }
  },
  "cells": [
    {
      "cell_type": "markdown",
      "metadata": {
        "id": "view-in-github",
        "colab_type": "text"
      },
      "source": [
        "<a href=\"https://colab.research.google.com/github/cennetbakici/introduction-to-python/blob/master/TR_python_401.ipynb\" target=\"_parent\"><img src=\"https://colab.research.google.com/assets/colab-badge.svg\" alt=\"Open In Colab\"/></a>"
      ]
    },
    {
      "cell_type": "markdown",
      "metadata": {
        "id": "HMDc6SVN_04G"
      },
      "source": [
        "**Nesne Yönelimli Programlama**\n",
        "\n",
        "Sınıflara Giriş ve Sınıf Tanımlamak\n",
        "\n",
        "Sınıf; benzer özellikler, ortak amaçlar taşıyan, içerisinde metod ve değişkenler olan yapılardır."
      ]
    },
    {
      "cell_type": "code",
      "metadata": {
        "colab": {
          "base_uri": "https://localhost:8080/"
        },
        "id": "CblBZw9l_5EA",
        "outputId": "95c61fb3-728a-4cf1-8faf-0e0fbdd73595"
      },
      "source": [
        "class VeriBilimci():\n",
        "  print (\"Bu bir siniftir\")"
      ],
      "execution_count": null,
      "outputs": [
        {
          "output_type": "stream",
          "text": [
            "Bu bir siniftir\n"
          ],
          "name": "stdout"
        }
      ]
    },
    {
      "cell_type": "markdown",
      "metadata": {
        "id": "UZ7oFxoYE4de"
      },
      "source": [
        "Sınıf Özellikleri (Class attributes)"
      ]
    },
    {
      "cell_type": "code",
      "metadata": {
        "id": "Cuu75oY_E5gs"
      },
      "source": [
        "class Veri_Bilimci():\n",
        "  bolum = \"\"\n",
        "  sql = \"Evet\"\n",
        "  deneyim_yili = 0\n",
        "  bildigi_diller = []"
      ],
      "execution_count": 2,
      "outputs": []
    },
    {
      "cell_type": "markdown",
      "metadata": {
        "id": "RXnbUD5QF79y"
      },
      "source": [
        "Sınıfların Özelliklerine erişmek"
      ]
    },
    {
      "cell_type": "code",
      "metadata": {
        "colab": {
          "base_uri": "https://localhost:8080/",
          "height": 35
        },
        "id": "kbNLsfUmF5W0",
        "outputId": "d52c0ecd-ca88-4058-c64e-0d588ead03fa"
      },
      "source": [
        "Veri_Bilimci.bolum"
      ],
      "execution_count": null,
      "outputs": [
        {
          "output_type": "execute_result",
          "data": {
            "application/vnd.google.colaboratory.intrinsic+json": {
              "type": "string"
            },
            "text/plain": [
              "''"
            ]
          },
          "metadata": {
            "tags": []
          },
          "execution_count": 6
        }
      ]
    },
    {
      "cell_type": "code",
      "metadata": {
        "colab": {
          "base_uri": "https://localhost:8080/",
          "height": 35
        },
        "id": "oa0x9lDDGGNK",
        "outputId": "0041668d-ce51-43f9-c232-ba69043877fc"
      },
      "source": [
        "Veri_Bilimci.sql"
      ],
      "execution_count": null,
      "outputs": [
        {
          "output_type": "execute_result",
          "data": {
            "application/vnd.google.colaboratory.intrinsic+json": {
              "type": "string"
            },
            "text/plain": [
              "'Evet'"
            ]
          },
          "metadata": {
            "tags": []
          },
          "execution_count": 7
        }
      ]
    },
    {
      "cell_type": "markdown",
      "metadata": {
        "id": "f_n350Q-GIVV"
      },
      "source": [
        "Sınıfların Özelliklerini değiştirmek"
      ]
    },
    {
      "cell_type": "code",
      "metadata": {
        "colab": {
          "base_uri": "https://localhost:8080/",
          "height": 35
        },
        "id": "Iuch3pZxGMkB",
        "outputId": "3985e2c6-8242-41c6-f969-26da7b8fcee6"
      },
      "source": [
        "Veri_Bilimci.sql = \"Hayir\"\n",
        "Veri_Bilimci.sql"
      ],
      "execution_count": 3,
      "outputs": [
        {
          "output_type": "execute_result",
          "data": {
            "application/vnd.google.colaboratory.intrinsic+json": {
              "type": "string"
            },
            "text/plain": [
              "'Hayir'"
            ]
          },
          "metadata": {
            "tags": []
          },
          "execution_count": 3
        }
      ]
    },
    {
      "cell_type": "markdown",
      "metadata": {
        "id": "YIMBz6l1GhcS"
      },
      "source": [
        "Sınıf Örneklendirmesi (instantiation)"
      ]
    },
    {
      "cell_type": "code",
      "metadata": {
        "colab": {
          "base_uri": "https://localhost:8080/",
          "height": 35
        },
        "id": "4SzK5_gUGrYW",
        "outputId": "67523516-5248-4d49-dcf7-e33ebd685c33"
      },
      "source": [
        "ali = Veri_Bilimci()\n",
        "ali.sql"
      ],
      "execution_count": 4,
      "outputs": [
        {
          "output_type": "execute_result",
          "data": {
            "application/vnd.google.colaboratory.intrinsic+json": {
              "type": "string"
            },
            "text/plain": [
              "'Hayir'"
            ]
          },
          "metadata": {
            "tags": []
          },
          "execution_count": 4
        }
      ]
    },
    {
      "cell_type": "code",
      "metadata": {
        "colab": {
          "base_uri": "https://localhost:8080/"
        },
        "id": "afotbxzZHKmk",
        "outputId": "0f2afab2-696a-4600-9fa5-b23ebb9109e9"
      },
      "source": [
        "ali.deneyim_yili"
      ],
      "execution_count": null,
      "outputs": [
        {
          "output_type": "execute_result",
          "data": {
            "text/plain": [
              "0"
            ]
          },
          "metadata": {
            "tags": []
          },
          "execution_count": 14
        }
      ]
    },
    {
      "cell_type": "code",
      "metadata": {
        "id": "Ibn5fcZSHRKA"
      },
      "source": [
        "ali.bildigi_diller.append(\"Python\") #burada yapılan bir değişiklik tüm sınıfı etkiledi.\n"
      ],
      "execution_count": 5,
      "outputs": []
    },
    {
      "cell_type": "code",
      "metadata": {
        "colab": {
          "base_uri": "https://localhost:8080/"
        },
        "id": "2dP-gxqCHhLc",
        "outputId": "421706d2-2183-48f5-dd90-342ad642faaa"
      },
      "source": [
        "ali.bildigi_diller"
      ],
      "execution_count": 6,
      "outputs": [
        {
          "output_type": "execute_result",
          "data": {
            "text/plain": [
              "['Python']"
            ]
          },
          "metadata": {
            "tags": []
          },
          "execution_count": 6
        }
      ]
    },
    {
      "cell_type": "code",
      "metadata": {
        "colab": {
          "base_uri": "https://localhost:8080/",
          "height": 35
        },
        "id": "8X4YzWl9HxoB",
        "outputId": "42796c98-26da-4d18-92c8-f5ae40a6b8f8"
      },
      "source": [
        "veli = Veri_Bilimci()\n",
        "veli.sql"
      ],
      "execution_count": 7,
      "outputs": [
        {
          "output_type": "execute_result",
          "data": {
            "application/vnd.google.colaboratory.intrinsic+json": {
              "type": "string"
            },
            "text/plain": [
              "'Hayir'"
            ]
          },
          "metadata": {
            "tags": []
          },
          "execution_count": 7
        }
      ]
    },
    {
      "cell_type": "code",
      "metadata": {
        "colab": {
          "base_uri": "https://localhost:8080/"
        },
        "id": "t_NiBpQIH31_",
        "outputId": "70542e13-40e9-44b1-dba1-3d06c1fec9ba"
      },
      "source": [
        "veli.bildigi_diller"
      ],
      "execution_count": 8,
      "outputs": [
        {
          "output_type": "execute_result",
          "data": {
            "text/plain": [
              "['Python']"
            ]
          },
          "metadata": {
            "tags": []
          },
          "execution_count": 8
        }
      ]
    },
    {
      "cell_type": "markdown",
      "metadata": {
        "id": "_dZ5-BpkIGVc"
      },
      "source": [
        "Örnek Özellikleri\n",
        "\n",
        "Sınıf özelliklerini tanımlarken yaptığımız isimlendirmelerle ornekler özelliklerini tanımladığımız isimlendirmeler farklı olmalıdır."
      ]
    },
    {
      "cell_type": "code",
      "metadata": {
        "id": "NHNEr_BQIO12"
      },
      "source": [
        "class Veri_Bilimcilik():\n",
        "  bildigi_diller = [\"R\", \"Python\"]\n",
        "  bolum = \"\"\n",
        "  sql = \"Evet\"\n",
        "  deneyim_yili = 0\n",
        "  def __init__(self): # self örnekleri temsil ediyor(temsilci)\n",
        "    self.bildigi_diller = []\n",
        "    self.bolum = \"\""
      ],
      "execution_count": null,
      "outputs": []
    },
    {
      "cell_type": "code",
      "metadata": {
        "colab": {
          "base_uri": "https://localhost:8080/"
        },
        "id": "popeRCghI1T3",
        "outputId": "8c87ff17-af44-4876-d3e9-4a1e4f479380"
      },
      "source": [
        "ali = Veri_Bilimcilik()\n",
        "ali.bildigi_diller"
      ],
      "execution_count": null,
      "outputs": [
        {
          "output_type": "execute_result",
          "data": {
            "text/plain": [
              "[]"
            ]
          },
          "metadata": {
            "tags": []
          },
          "execution_count": 48
        }
      ]
    },
    {
      "cell_type": "code",
      "metadata": {
        "colab": {
          "base_uri": "https://localhost:8080/"
        },
        "id": "EUdOugKxJYTx",
        "outputId": "29946e1c-b1a0-408e-da46-5c75efc3cd08"
      },
      "source": [
        "veli = Veri_Bilimcilik()\n",
        "veli.bildigi_diller"
      ],
      "execution_count": null,
      "outputs": [
        {
          "output_type": "execute_result",
          "data": {
            "text/plain": [
              "[]"
            ]
          },
          "metadata": {
            "tags": []
          },
          "execution_count": 53
        }
      ]
    },
    {
      "cell_type": "code",
      "metadata": {
        "id": "M1EW_Om4JdiU"
      },
      "source": [
        "ali.bildigi_diller.append(\"Python\")"
      ],
      "execution_count": null,
      "outputs": []
    },
    {
      "cell_type": "code",
      "metadata": {
        "colab": {
          "base_uri": "https://localhost:8080/"
        },
        "id": "pFDNttdWJk76",
        "outputId": "2c5b5d89-f775-4b54-9abe-f3c239b2c7ea"
      },
      "source": [
        "ali.bildigi_diller"
      ],
      "execution_count": null,
      "outputs": [
        {
          "output_type": "execute_result",
          "data": {
            "text/plain": [
              "['Python']"
            ]
          },
          "metadata": {
            "tags": []
          },
          "execution_count": 37
        }
      ]
    },
    {
      "cell_type": "code",
      "metadata": {
        "colab": {
          "base_uri": "https://localhost:8080/"
        },
        "id": "oCEQE0qxJnr4",
        "outputId": "3a44de06-ed7d-4ec2-f9ea-115b83f1254a"
      },
      "source": [
        "veli.bildigi_diller"
      ],
      "execution_count": null,
      "outputs": [
        {
          "output_type": "execute_result",
          "data": {
            "text/plain": [
              "[]"
            ]
          },
          "metadata": {
            "tags": []
          },
          "execution_count": 38
        }
      ]
    },
    {
      "cell_type": "code",
      "metadata": {
        "id": "LDIBATH1JqfE"
      },
      "source": [
        "veli.bildigi_diller.append(\"R\")"
      ],
      "execution_count": null,
      "outputs": []
    },
    {
      "cell_type": "code",
      "metadata": {
        "colab": {
          "base_uri": "https://localhost:8080/"
        },
        "id": "1SJXVwO9Jvdj",
        "outputId": "af3660bd-5303-49da-8200-f3de582bc02b"
      },
      "source": [
        "veli.bildigi_diller"
      ],
      "execution_count": null,
      "outputs": [
        {
          "output_type": "execute_result",
          "data": {
            "text/plain": [
              "['R']"
            ]
          },
          "metadata": {
            "tags": []
          },
          "execution_count": 43
        }
      ]
    },
    {
      "cell_type": "code",
      "metadata": {
        "colab": {
          "base_uri": "https://localhost:8080/"
        },
        "id": "xGtBOCUtJxWa",
        "outputId": "8193608e-28ee-4129-b527-a8a40afac9e0"
      },
      "source": [
        "Veri_Bilimcilik.bildigi_diller"
      ],
      "execution_count": null,
      "outputs": [
        {
          "output_type": "execute_result",
          "data": {
            "text/plain": [
              "['R', 'Python']"
            ]
          },
          "metadata": {
            "tags": []
          },
          "execution_count": 44
        }
      ]
    },
    {
      "cell_type": "code",
      "metadata": {
        "colab": {
          "base_uri": "https://localhost:8080/",
          "height": 35
        },
        "id": "Najwm_hzKt2F",
        "outputId": "1286a9c6-9538-482d-834e-0341e1545243"
      },
      "source": [
        "ali.bolum"
      ],
      "execution_count": null,
      "outputs": [
        {
          "output_type": "execute_result",
          "data": {
            "application/vnd.google.colaboratory.intrinsic+json": {
              "type": "string"
            },
            "text/plain": [
              "''"
            ]
          },
          "metadata": {
            "tags": []
          },
          "execution_count": 50
        }
      ]
    },
    {
      "cell_type": "code",
      "metadata": {
        "id": "Vx3LXXo4K7Z4"
      },
      "source": [
        "ali.bolum = \"istatistik\""
      ],
      "execution_count": null,
      "outputs": []
    },
    {
      "cell_type": "code",
      "metadata": {
        "colab": {
          "base_uri": "https://localhost:8080/",
          "height": 35
        },
        "id": "2IyvDFbXLC3o",
        "outputId": "3a365060-df64-47ff-9708-662ffca94217"
      },
      "source": [
        "veli.bolum"
      ],
      "execution_count": null,
      "outputs": [
        {
          "output_type": "execute_result",
          "data": {
            "application/vnd.google.colaboratory.intrinsic+json": {
              "type": "string"
            },
            "text/plain": [
              "''"
            ]
          },
          "metadata": {
            "tags": []
          },
          "execution_count": 55
        }
      ]
    },
    {
      "cell_type": "code",
      "metadata": {
        "id": "0A9NXt8pLPi4"
      },
      "source": [
        "veli.bolum = \"end_muh\""
      ],
      "execution_count": null,
      "outputs": []
    },
    {
      "cell_type": "code",
      "metadata": {
        "colab": {
          "base_uri": "https://localhost:8080/",
          "height": 35
        },
        "id": "CQOa15WQLS-O",
        "outputId": "24ff42c6-4876-43ba-e767-f5b53df0f2fc"
      },
      "source": [
        "veli.bolum"
      ],
      "execution_count": null,
      "outputs": [
        {
          "output_type": "execute_result",
          "data": {
            "application/vnd.google.colaboratory.intrinsic+json": {
              "type": "string"
            },
            "text/plain": [
              "'end_muh'"
            ]
          },
          "metadata": {
            "tags": []
          },
          "execution_count": 57
        }
      ]
    },
    {
      "cell_type": "code",
      "metadata": {
        "colab": {
          "base_uri": "https://localhost:8080/",
          "height": 35
        },
        "id": "OlvBWqa8LW_s",
        "outputId": "89b41bb3-3c8f-4e57-b6e4-408356da54fb"
      },
      "source": [
        "Veri_Bilimcilik.bolum"
      ],
      "execution_count": null,
      "outputs": [
        {
          "output_type": "execute_result",
          "data": {
            "application/vnd.google.colaboratory.intrinsic+json": {
              "type": "string"
            },
            "text/plain": [
              "''"
            ]
          },
          "metadata": {
            "tags": []
          },
          "execution_count": 58
        }
      ]
    },
    {
      "cell_type": "markdown",
      "metadata": {
        "id": "Wi2tI_rBMuV3"
      },
      "source": [
        "**Örnek Metodları**"
      ]
    },
    {
      "cell_type": "code",
      "metadata": {
        "id": "2K5xqy3mM8Z3"
      },
      "source": [
        "class Veri_Bilimciler():\n",
        "  calisanlar = []\n",
        "  def __init__(self): # self, örnekleri temsil ediyor(temsilci)\n",
        "    self.bildigi_diller = []\n",
        "    self.bolum = []\n",
        "  def dil_ekle(self,yeni_dil):\n",
        "    self.bildigi_diller.append(yeni_dil)\n",
        "  def bolum_ekle(self,yeni_bolum):\n",
        "    self.bolum.append(yeni_bolum)"
      ],
      "execution_count": null,
      "outputs": []
    },
    {
      "cell_type": "code",
      "metadata": {
        "colab": {
          "base_uri": "https://localhost:8080/"
        },
        "id": "5uwNv0UsNq0P",
        "outputId": "fe574a0d-4922-418f-fc5e-ac1ce9bee21a"
      },
      "source": [
        "ali = Veri_Bilimciler()\n",
        "ali.bildigi_diller"
      ],
      "execution_count": null,
      "outputs": [
        {
          "output_type": "execute_result",
          "data": {
            "text/plain": [
              "[]"
            ]
          },
          "metadata": {
            "tags": []
          },
          "execution_count": 157
        }
      ]
    },
    {
      "cell_type": "code",
      "metadata": {
        "colab": {
          "base_uri": "https://localhost:8080/"
        },
        "id": "hFXFuSkGN2cp",
        "outputId": "7e37b10f-c479-46c5-d1ed-0793ec9c5f65"
      },
      "source": [
        "veli = Veri_Bilimciler()\n",
        "veli.bildigi_diller"
      ],
      "execution_count": null,
      "outputs": [
        {
          "output_type": "execute_result",
          "data": {
            "text/plain": [
              "[]"
            ]
          },
          "metadata": {
            "tags": []
          },
          "execution_count": 98
        }
      ]
    },
    {
      "cell_type": "code",
      "metadata": {
        "colab": {
          "base_uri": "https://localhost:8080/"
        },
        "id": "NMQlJBTkN7u9",
        "outputId": "9581a896-b51f-4b20-9550-37ccd44bf346"
      },
      "source": [
        "dir(Veri_Bilimciler)"
      ],
      "execution_count": null,
      "outputs": [
        {
          "output_type": "execute_result",
          "data": {
            "text/plain": [
              "['__class__',\n",
              " '__delattr__',\n",
              " '__dict__',\n",
              " '__dir__',\n",
              " '__doc__',\n",
              " '__eq__',\n",
              " '__format__',\n",
              " '__ge__',\n",
              " '__getattribute__',\n",
              " '__gt__',\n",
              " '__hash__',\n",
              " '__init__',\n",
              " '__init_subclass__',\n",
              " '__le__',\n",
              " '__lt__',\n",
              " '__module__',\n",
              " '__ne__',\n",
              " '__new__',\n",
              " '__reduce__',\n",
              " '__reduce_ex__',\n",
              " '__repr__',\n",
              " '__setattr__',\n",
              " '__sizeof__',\n",
              " '__str__',\n",
              " '__subclasshook__',\n",
              " '__weakref__',\n",
              " 'bolum_ekle',\n",
              " 'calisanlar',\n",
              " 'dil_ekle']"
            ]
          },
          "metadata": {
            "tags": []
          },
          "execution_count": 99
        }
      ]
    },
    {
      "cell_type": "code",
      "metadata": {
        "id": "PJ7DSG4kPB6N"
      },
      "source": [
        "ali.dil_ekle(\"R\")"
      ],
      "execution_count": null,
      "outputs": []
    },
    {
      "cell_type": "code",
      "metadata": {
        "colab": {
          "base_uri": "https://localhost:8080/"
        },
        "id": "wvA2kzoWQJqd",
        "outputId": "2858aa46-bf95-4450-916e-55f230e067b6"
      },
      "source": [
        "ali.bildigi_diller"
      ],
      "execution_count": null,
      "outputs": [
        {
          "output_type": "execute_result",
          "data": {
            "text/plain": [
              "['R']"
            ]
          },
          "metadata": {
            "tags": []
          },
          "execution_count": 93
        }
      ]
    },
    {
      "cell_type": "code",
      "metadata": {
        "colab": {
          "base_uri": "https://localhost:8080/"
        },
        "id": "0g1dagJVPdpe",
        "outputId": "5c68b71f-7ac4-4bea-8cf2-4a63a8ebf93e"
      },
      "source": [
        "veli.dil_ekle(\"Python\")\n",
        "veli.bildigi_diller"
      ],
      "execution_count": null,
      "outputs": [
        {
          "output_type": "execute_result",
          "data": {
            "text/plain": [
              "['Python']"
            ]
          },
          "metadata": {
            "tags": []
          },
          "execution_count": 94
        }
      ]
    },
    {
      "cell_type": "code",
      "metadata": {
        "id": "SovZfumEmpIy"
      },
      "source": [
        "ali.bolum_ekle(\"ehm\")"
      ],
      "execution_count": null,
      "outputs": []
    },
    {
      "cell_type": "code",
      "metadata": {
        "colab": {
          "base_uri": "https://localhost:8080/"
        },
        "id": "fp_Cx0uhoNy-",
        "outputId": "36e133da-2087-46b1-fad0-ddaf4d2a2351"
      },
      "source": [
        "ali.bolum"
      ],
      "execution_count": null,
      "outputs": [
        {
          "output_type": "execute_result",
          "data": {
            "text/plain": [
              "['ehm']"
            ]
          },
          "metadata": {
            "tags": []
          },
          "execution_count": 104
        }
      ]
    },
    {
      "cell_type": "code",
      "metadata": {
        "id": "wneIpGGxoBhf"
      },
      "source": [
        "veli.bolum_ekle(\"istatistik\")"
      ],
      "execution_count": null,
      "outputs": []
    },
    {
      "cell_type": "code",
      "metadata": {
        "colab": {
          "base_uri": "https://localhost:8080/"
        },
        "id": "vUozhB3DoGFF",
        "outputId": "50013eff-341c-4cdd-89df-51d14d379f46"
      },
      "source": [
        "veli.bolum"
      ],
      "execution_count": null,
      "outputs": [
        {
          "output_type": "execute_result",
          "data": {
            "text/plain": [
              "['istatistik']"
            ]
          },
          "metadata": {
            "tags": []
          },
          "execution_count": 111
        }
      ]
    },
    {
      "cell_type": "markdown",
      "metadata": {
        "id": "IsKBdIj5q2rI"
      },
      "source": [
        "**Miras Yapıları (inheritance)**\n",
        "\n",
        "Daha önceki oluşturmuş olduğumuz sınıfın özelliklerini barındırıyorsa ve bizde başka bir sınıfta kullanmak istiyorsak bunu miras yapısı ile yapabiliriz."
      ]
    },
    {
      "cell_type": "code",
      "metadata": {
        "id": "mm2xjp2Cq_nk"
      },
      "source": [
        "class Employees():\n",
        "  def __init__(self): \n",
        "    self.FirstName = \"\"\n",
        "    self.LastName = \"\"\n",
        "    self.Address = \"\""
      ],
      "execution_count": null,
      "outputs": []
    },
    {
      "cell_type": "code",
      "metadata": {
        "id": "wKwyc3PX9aSG"
      },
      "source": [
        "a = Employees()"
      ],
      "execution_count": null,
      "outputs": []
    },
    {
      "cell_type": "code",
      "metadata": {
        "colab": {
          "base_uri": "https://localhost:8080/",
          "height": 35
        },
        "id": "PKqZUfrg_L1Q",
        "outputId": "f4d25808-30ff-422d-a7ef-ebcbaea6c2ee"
      },
      "source": [
        "a.Address"
      ],
      "execution_count": null,
      "outputs": [
        {
          "output_type": "execute_result",
          "data": {
            "application/vnd.google.colaboratory.intrinsic+json": {
              "type": "string"
            },
            "text/plain": [
              "''"
            ]
          },
          "metadata": {
            "tags": []
          },
          "execution_count": 175
        }
      ]
    },
    {
      "cell_type": "code",
      "metadata": {
        "id": "t_-ltwY05pIv"
      },
      "source": [
        "class DataScience ( Employees ):\n",
        "  def __init__(self): # self örnekleri temsil ediyor(temsilci)\n",
        "    self.Programming = \"\""
      ],
      "execution_count": null,
      "outputs": []
    },
    {
      "cell_type": "code",
      "metadata": {
        "id": "EKmbi1kI7PCa"
      },
      "source": [
        "ayse = DataScience ()"
      ],
      "execution_count": null,
      "outputs": []
    },
    {
      "cell_type": "markdown",
      "metadata": {
        "id": "fxXYhoSNCC3e"
      },
      "source": [
        "#miraz yapısını kabul etmedi nedenini bilmiyorum, python kurup dene"
      ]
    },
    {
      "cell_type": "code",
      "metadata": {
        "colab": {
          "base_uri": "https://localhost:8080/",
          "height": 163
        },
        "id": "nLh3QK0vAwRX",
        "outputId": "36311406-43bd-4ace-d3f9-1e86494d0783"
      },
      "source": [
        "ayse.Address "
      ],
      "execution_count": null,
      "outputs": [
        {
          "output_type": "error",
          "ename": "AttributeError",
          "evalue": "ignored",
          "traceback": [
            "\u001b[0;31m---------------------------------------------------------------------------\u001b[0m",
            "\u001b[0;31mAttributeError\u001b[0m                            Traceback (most recent call last)",
            "\u001b[0;32m<ipython-input-193-c58f86b05bc3>\u001b[0m in \u001b[0;36m<module>\u001b[0;34m()\u001b[0m\n\u001b[0;32m----> 1\u001b[0;31m \u001b[0mayse\u001b[0m\u001b[0;34m.\u001b[0m\u001b[0mAddress\u001b[0m\u001b[0;34m\u001b[0m\u001b[0;34m\u001b[0m\u001b[0m\n\u001b[0m",
            "\u001b[0;31mAttributeError\u001b[0m: 'DataScience' object has no attribute 'Address'"
          ]
        }
      ]
    },
    {
      "cell_type": "code",
      "metadata": {
        "id": "3jfJyzN352s5"
      },
      "source": [
        "class Marketing(Employees):\n",
        "  def __init__(self): # self örnekleri temsil ediyor(temsilci)\n",
        "    self.StoryTelling = \"\""
      ],
      "execution_count": null,
      "outputs": []
    },
    {
      "cell_type": "code",
      "metadata": {
        "id": "PCIPnEb67KoF"
      },
      "source": [
        "mar1 = Marketing ()\n",
        "mar1."
      ],
      "execution_count": null,
      "outputs": []
    },
    {
      "cell_type": "code",
      "metadata": {
        "id": "i4D1Qlcp8NTy"
      },
      "source": [
        "class Employee_yeni():\n",
        "  def __init__(self,FirstName,LastName,Address): #bu şekilde fonksiyon yapısı \n",
        "  #gibide tanımlanabilir.\n",
        "    self.FirstName = FirstName\n",
        "    self.LastName = LastName\n",
        "    self.Address = Address"
      ],
      "execution_count": null,
      "outputs": []
    },
    {
      "cell_type": "code",
      "metadata": {
        "id": "CPQiuUrGBlst"
      },
      "source": [
        "ahmet = Employee_yeni (\"a\",\"b\",\"c\")"
      ],
      "execution_count": null,
      "outputs": []
    },
    {
      "cell_type": "code",
      "metadata": {
        "colab": {
          "base_uri": "https://localhost:8080/",
          "height": 35
        },
        "id": "ryTwLTDXBwiB",
        "outputId": "be9672c9-59ee-4e39-fc5d-975b5e2962f0"
      },
      "source": [
        "ahmet.Address"
      ],
      "execution_count": null,
      "outputs": [
        {
          "output_type": "execute_result",
          "data": {
            "application/vnd.google.colaboratory.intrinsic+json": {
              "type": "string"
            },
            "text/plain": [
              "'c'"
            ]
          },
          "metadata": {
            "tags": []
          },
          "execution_count": 197
        }
      ]
    },
    {
      "cell_type": "code",
      "metadata": {
        "colab": {
          "base_uri": "https://localhost:8080/",
          "height": 35
        },
        "id": "znHFvETIB0XH",
        "outputId": "b859f09f-2d91-4c01-84b4-a009b9563ce1"
      },
      "source": [
        "ahmet.FirstName"
      ],
      "execution_count": null,
      "outputs": [
        {
          "output_type": "execute_result",
          "data": {
            "application/vnd.google.colaboratory.intrinsic+json": {
              "type": "string"
            },
            "text/plain": [
              "'a'"
            ]
          },
          "metadata": {
            "tags": []
          },
          "execution_count": 195
        }
      ]
    },
    {
      "cell_type": "markdown",
      "metadata": {
        "id": "dn6ayV3IC07m"
      },
      "source": [
        "**Fonksiyonel Programlama**\n",
        "\n",
        "Yan Etkisiz Fonksiyonlar (Pure Functions)\n",
        "\n",
        "Örnek 1: Bağımsızlık"
      ]
    },
    {
      "cell_type": "code",
      "metadata": {
        "id": "_KzD4PRJC2-_"
      },
      "source": [
        "A = 5\n",
        "\n",
        "def impure_sum(b):\n",
        "  return b + A\n",
        "\n",
        "\n",
        "def pure_sum (a,b):\n",
        "  return a + b"
      ],
      "execution_count": null,
      "outputs": []
    },
    {
      "cell_type": "code",
      "metadata": {
        "colab": {
          "base_uri": "https://localhost:8080/"
        },
        "id": "RBsBCq3aGAfM",
        "outputId": "c6270b9e-2c70-4758-f6f2-6f22e2c45ce1"
      },
      "source": [
        "impure_sum(7)"
      ],
      "execution_count": null,
      "outputs": [
        {
          "output_type": "execute_result",
          "data": {
            "text/plain": [
              "12"
            ]
          },
          "metadata": {
            "tags": []
          },
          "execution_count": 201
        }
      ]
    },
    {
      "cell_type": "code",
      "metadata": {
        "colab": {
          "base_uri": "https://localhost:8080/"
        },
        "id": "cpG4OgyDGiY7",
        "outputId": "665eba8e-34ee-4f77-9cab-71ce1aba5d9d"
      },
      "source": [
        "pure_sum(3,4)"
      ],
      "execution_count": null,
      "outputs": [
        {
          "output_type": "execute_result",
          "data": {
            "text/plain": [
              "7"
            ]
          },
          "metadata": {
            "tags": []
          },
          "execution_count": 202
        }
      ]
    },
    {
      "cell_type": "markdown",
      "metadata": {
        "id": "0eSODJpwHAI7"
      },
      "source": [
        "Örnek 2: Olumcul Yan etkiler"
      ]
    },
    {
      "cell_type": "code",
      "metadata": {
        "id": "74jnqwSxGp-D"
      },
      "source": [
        "def read(filename):\n",
        "  with open(filename, \"r\") as f:\n",
        "    return [line for line in f]\n",
        "\n",
        "def count(lines):\n",
        "  return len(lines)\n"
      ],
      "execution_count": null,
      "outputs": []
    },
    {
      "cell_type": "code",
      "metadata": {
        "id": "quimhdgmJUEv"
      },
      "source": [
        "example_lines = read (\"deneme.txt\") #ancak girdi verdiğimizde çıktı üretecek \n",
        "#diğerleri değişmeyecek.\n",
        "lines_count = count (example_lines)\n",
        "lines_count"
      ],
      "execution_count": null,
      "outputs": []
    },
    {
      "cell_type": "markdown",
      "metadata": {
        "id": "Fr2colmnJ-Al"
      },
      "source": [
        "**İsimsiz Fonksiyonlar (Anonymous Functions)**"
      ]
    },
    {
      "cell_type": "code",
      "metadata": {
        "id": "zmX7iGRsJSxf"
      },
      "source": [
        "new_sum = lambda a,b: a + b"
      ],
      "execution_count": null,
      "outputs": []
    },
    {
      "cell_type": "code",
      "metadata": {
        "colab": {
          "base_uri": "https://localhost:8080/"
        },
        "id": "v1V5IYbMifFW",
        "outputId": "69639bd6-a1af-432e-d61d-67b823396282"
      },
      "source": [
        "new_sum(4,5)"
      ],
      "execution_count": null,
      "outputs": [
        {
          "output_type": "execute_result",
          "data": {
            "text/plain": [
              "9"
            ]
          },
          "metadata": {
            "tags": []
          },
          "execution_count": 4
        }
      ]
    },
    {
      "cell_type": "code",
      "metadata": {
        "colab": {
          "base_uri": "https://localhost:8080/"
        },
        "id": "OjRQeO3tivwu",
        "outputId": "f73b2081-e017-43f1-95d2-b2911f726245"
      },
      "source": [
        "sirasiz_liste = [(\"b\", 3), (\"a\", 8), (\"d\", 12), (\"c\", 1)]\n",
        "sirasiz_liste"
      ],
      "execution_count": null,
      "outputs": [
        {
          "output_type": "execute_result",
          "data": {
            "text/plain": [
              "[('b', 3), ('a', 8), ('d', 12), ('c', 1)]"
            ]
          },
          "metadata": {
            "tags": []
          },
          "execution_count": 5
        }
      ]
    },
    {
      "cell_type": "code",
      "metadata": {
        "colab": {
          "base_uri": "https://localhost:8080/"
        },
        "id": "9OLpppyLjJuc",
        "outputId": "2f92e2d9-1d6e-4811-ab83-f7a15e99bf9b"
      },
      "source": [
        "sorted(sirasiz_liste, key = lambda x: x[1]) #1. elemana göre sıraladı"
      ],
      "execution_count": null,
      "outputs": [
        {
          "output_type": "execute_result",
          "data": {
            "text/plain": [
              "[('c', 1), ('b', 3), ('a', 8), ('d', 12)]"
            ]
          },
          "metadata": {
            "tags": []
          },
          "execution_count": 6
        }
      ]
    },
    {
      "cell_type": "code",
      "metadata": {
        "colab": {
          "base_uri": "https://localhost:8080/"
        },
        "id": "rmHKzCkajpTt",
        "outputId": "fb633a73-e9ad-44da-874f-032f4bb92a11"
      },
      "source": [
        "sorted(sirasiz_liste, key = lambda x: x[0]) #0. elemana göre sıraladı"
      ],
      "execution_count": null,
      "outputs": [
        {
          "output_type": "execute_result",
          "data": {
            "text/plain": [
              "[('a', 8), ('b', 3), ('c', 1), ('d', 12)]"
            ]
          },
          "metadata": {
            "tags": []
          },
          "execution_count": 7
        }
      ]
    },
    {
      "cell_type": "markdown",
      "metadata": {
        "id": "GhB6WzhFkCCl"
      },
      "source": [
        "**Vektörel Operasyonlar**"
      ]
    },
    {
      "cell_type": "markdown",
      "metadata": {
        "id": "2AzZzRbak9b1"
      },
      "source": [
        "OOP"
      ]
    },
    {
      "cell_type": "code",
      "metadata": {
        "id": "oJ31bCCkjuG4"
      },
      "source": [
        "a = [1,2,3,4]\n",
        "b = [2,3,4,5]"
      ],
      "execution_count": null,
      "outputs": []
    },
    {
      "cell_type": "code",
      "metadata": {
        "id": "U5rbpRfQkN_6"
      },
      "source": [
        "ab = []\n",
        "\n",
        "for i in range (0, len(a)):\n",
        "  ab.append(a[i]*b[i])"
      ],
      "execution_count": null,
      "outputs": []
    },
    {
      "cell_type": "code",
      "metadata": {
        "colab": {
          "base_uri": "https://localhost:8080/"
        },
        "id": "j2rp27NCkd4G",
        "outputId": "b51c8e1b-a5ea-43de-c188-92b23bb8eb4a"
      },
      "source": [
        "ab"
      ],
      "execution_count": null,
      "outputs": [
        {
          "output_type": "execute_result",
          "data": {
            "text/plain": [
              "[2, 6, 12, 20]"
            ]
          },
          "metadata": {
            "tags": []
          },
          "execution_count": 11
        }
      ]
    },
    {
      "cell_type": "markdown",
      "metadata": {
        "id": "m9R1ztoWlAEt"
      },
      "source": [
        "FP\n"
      ]
    },
    {
      "cell_type": "code",
      "metadata": {
        "id": "ZEwOdO0Qkz5s"
      },
      "source": [
        "import numpy as np\n",
        "a = np.array([1,2,3,4])\n",
        "b = np.array([2,3,4,5])"
      ],
      "execution_count": null,
      "outputs": []
    },
    {
      "cell_type": "code",
      "metadata": {
        "colab": {
          "base_uri": "https://localhost:8080/"
        },
        "id": "KTJ9LyVRlfXb",
        "outputId": "f65bbe33-dae4-49f5-83b0-c283a569baa0"
      },
      "source": [
        "a*b"
      ],
      "execution_count": null,
      "outputs": [
        {
          "output_type": "execute_result",
          "data": {
            "text/plain": [
              "array([ 2,  6, 12, 20])"
            ]
          },
          "metadata": {
            "tags": []
          },
          "execution_count": 18
        }
      ]
    },
    {
      "cell_type": "markdown",
      "metadata": {
        "id": "iqypBJsml2iE"
      },
      "source": [
        "**Map, filter ve reduce Fonksiyonları**"
      ]
    },
    {
      "cell_type": "code",
      "metadata": {
        "id": "tdIQOQA0lg8Z"
      },
      "source": [
        "liste = [1,2,3,4,5]"
      ],
      "execution_count": null,
      "outputs": []
    },
    {
      "cell_type": "code",
      "metadata": {
        "colab": {
          "base_uri": "https://localhost:8080/"
        },
        "id": "1pPDQYIsmGmC",
        "outputId": "8be72c80-e02f-44d2-f9f7-686f0606b700"
      },
      "source": [
        "for i in liste:\n",
        "  print(i+ 10)"
      ],
      "execution_count": null,
      "outputs": [
        {
          "output_type": "stream",
          "text": [
            "11\n",
            "12\n",
            "13\n",
            "14\n",
            "15\n"
          ],
          "name": "stdout"
        }
      ]
    },
    {
      "cell_type": "markdown",
      "metadata": {
        "id": "m7NBAFuumcxr"
      },
      "source": [
        "Map: verilen bir vektörün içerisinde belirli bir fonksiyonu çalıştırma izni verir."
      ]
    },
    {
      "cell_type": "code",
      "metadata": {
        "colab": {
          "base_uri": "https://localhost:8080/"
        },
        "id": "bzYqbu4tmMtN",
        "outputId": "f4ca3ff4-cf70-4f0c-a10e-52cbec63351d"
      },
      "source": [
        "list(map(lambda x: x + 10, liste))"
      ],
      "execution_count": null,
      "outputs": [
        {
          "output_type": "execute_result",
          "data": {
            "text/plain": [
              "[11, 12, 13, 14, 15]"
            ]
          },
          "metadata": {
            "tags": []
          },
          "execution_count": 30
        }
      ]
    },
    {
      "cell_type": "code",
      "metadata": {
        "colab": {
          "base_uri": "https://localhost:8080/"
        },
        "id": "Fz6-KJWgquR5",
        "outputId": "3bd58ef1-ffb1-4028-eeab-0dee86008a8c"
      },
      "source": [
        "list(map(lambda x: x % 2 == 0, liste))"
      ],
      "execution_count": null,
      "outputs": [
        {
          "output_type": "execute_result",
          "data": {
            "text/plain": [
              "[False, True, False, True, False]"
            ]
          },
          "metadata": {
            "tags": []
          },
          "execution_count": 33
        }
      ]
    },
    {
      "cell_type": "code",
      "metadata": {
        "colab": {
          "base_uri": "https://localhost:8080/"
        },
        "id": "rOZfEVU5m6o0",
        "outputId": "f8ef567d-55ba-480d-9853-9b51c601782d"
      },
      "source": [
        "list(map(lambda x: x*10, liste))"
      ],
      "execution_count": null,
      "outputs": [
        {
          "output_type": "execute_result",
          "data": {
            "text/plain": [
              "[10, 20, 30, 40, 50]"
            ]
          },
          "metadata": {
            "tags": []
          },
          "execution_count": 22
        }
      ]
    },
    {
      "cell_type": "markdown",
      "metadata": {
        "id": "wQaRYYWunOYD"
      },
      "source": [
        "Filter: iteratif bir nesne alır, bu nesne üzerinden başka bir iteratif bir nesne oluşturulur ve iteratif nesne içinde aradığı şartın sağlandığı tüm elemanlar filtrelenir."
      ]
    },
    {
      "cell_type": "code",
      "metadata": {
        "id": "vWdgOervnLUU"
      },
      "source": [
        "liste1 = [1,2,3,4,5,6,7,8,9,10]"
      ],
      "execution_count": null,
      "outputs": []
    },
    {
      "cell_type": "code",
      "metadata": {
        "colab": {
          "base_uri": "https://localhost:8080/"
        },
        "id": "i3Z82hfkn94U",
        "outputId": "a4543f13-df41-4c37-c6a1-04c60c415230"
      },
      "source": [
        "list(filter(lambda x: x % 2 == 0, liste1))"
      ],
      "execution_count": null,
      "outputs": [
        {
          "output_type": "execute_result",
          "data": {
            "text/plain": [
              "[2, 4, 6, 8, 10]"
            ]
          },
          "metadata": {
            "tags": []
          },
          "execution_count": 34
        }
      ]
    },
    {
      "cell_type": "markdown",
      "metadata": {
        "id": "ORX84lRQoba3"
      },
      "source": [
        "reduce: map ve filter e benzer fakat indirgeme işlemi yapar\n",
        "\n",
        "Docstring:\n",
        "reduce(function, sequence[, initial]) -> value\n",
        "\n",
        "Apply a function of two arguments cumulatively to the items of a sequence,\n",
        "from left to right, so as to reduce the sequence to a single value.\n",
        "For example, reduce(lambda x, y: x+y, [1, 2, 3, 4, 5]) calculates\n",
        "((((1+2)+3)+4)+5).  If initial is present, it is placed before the items\n",
        "of the sequence in the calculation, and serves as a default when the\n",
        "sequence is empty.\n",
        "Type:      builtin_function_or_method"
      ]
    },
    {
      "cell_type": "code",
      "metadata": {
        "id": "Bl-9sZg3oOs6"
      },
      "source": [
        "from functools import reduce "
      ],
      "execution_count": null,
      "outputs": []
    },
    {
      "cell_type": "code",
      "metadata": {
        "colab": {
          "base_uri": "https://localhost:8080/"
        },
        "id": "1XyZy7xror6F",
        "outputId": "4121d175-abe1-44a0-a41e-b6cbd83652a2"
      },
      "source": [
        "liste2 = [1,2,3,4]\n",
        "reduce(lambda a,b: a + b, liste2)"
      ],
      "execution_count": null,
      "outputs": [
        {
          "output_type": "execute_result",
          "data": {
            "text/plain": [
              "10"
            ]
          },
          "metadata": {
            "tags": []
          },
          "execution_count": 26
        }
      ]
    },
    {
      "cell_type": "markdown",
      "metadata": {
        "id": "7OqAZifssM7D"
      },
      "source": [
        "**Modül Oluşturmak ve İstisnalar**\n",
        "\n",
        "Modül Oluşturmak"
      ]
    },
    {
      "cell_type": "code",
      "metadata": {
        "id": "X86z3j97uAO1"
      },
      "source": [
        "#HesapModulu.py\n",
        "def yeni_maas(x): # bu kısmı ayrı bir sayfada oluşturum adını HesapModulu \n",
        "#diye kayıt etmemiz lazım, şuan kayıt edemediğim için hata veriyor.\n",
        "  print(x*20/100 + x)\n",
        "\n",
        "maaslar = [1000, 2000, 3000, 4000]"
      ],
      "execution_count": null,
      "outputs": []
    },
    {
      "cell_type": "code",
      "metadata": {
        "id": "Gd0C4cfttEcL"
      },
      "source": [
        "#test\n",
        "import HesapModulu\n",
        "HesapModulu.yeni_maas(2000)"
      ],
      "execution_count": null,
      "outputs": []
    },
    {
      "cell_type": "code",
      "metadata": {
        "id": "BYOVESKXtubg"
      },
      "source": [
        "import HesapModulu as hm\n",
        "hm.yeni_maas(1000)"
      ],
      "execution_count": null,
      "outputs": []
    },
    {
      "cell_type": "code",
      "metadata": {
        "id": "8OZdR5v4uvPT"
      },
      "source": [
        "from HesapModulu import yeni_maas\n",
        "yeni_maas(4000)\n"
      ],
      "execution_count": null,
      "outputs": []
    },
    {
      "cell_type": "code",
      "metadata": {
        "id": "h-iJynQlvEfF"
      },
      "source": [
        "import HesapModulu as hm\n",
        "hm.maaslar"
      ],
      "execution_count": null,
      "outputs": []
    },
    {
      "cell_type": "markdown",
      "metadata": {
        "id": "8yYCFbkuzA5l"
      },
      "source": [
        "**Hatalar / İstisnalar (exceptions)**\n",
        "\n",
        "Bug: Programın çalışmasını engelleyen hatalar"
      ]
    },
    {
      "cell_type": "markdown",
      "metadata": {
        "id": "MrUxfLtw0gGj"
      },
      "source": [
        "ZeroDivisionError"
      ]
    },
    {
      "cell_type": "code",
      "metadata": {
        "colab": {
          "base_uri": "https://localhost:8080/",
          "height": 197
        },
        "id": "ryon52_EzCXw",
        "outputId": "b10d2e87-784a-494f-fec3-c500d0a97a98"
      },
      "source": [
        "a = 10\n",
        "b = 0\n",
        "\n",
        "a/b"
      ],
      "execution_count": null,
      "outputs": [
        {
          "output_type": "error",
          "ename": "ZeroDivisionError",
          "evalue": "ignored",
          "traceback": [
            "\u001b[0;31m---------------------------------------------------------------------------\u001b[0m",
            "\u001b[0;31mZeroDivisionError\u001b[0m                         Traceback (most recent call last)",
            "\u001b[0;32m<ipython-input-43-7e90657db9bb>\u001b[0m in \u001b[0;36m<module>\u001b[0;34m()\u001b[0m\n\u001b[1;32m      2\u001b[0m \u001b[0mb\u001b[0m \u001b[0;34m=\u001b[0m \u001b[0;36m0\u001b[0m\u001b[0;34m\u001b[0m\u001b[0;34m\u001b[0m\u001b[0m\n\u001b[1;32m      3\u001b[0m \u001b[0;34m\u001b[0m\u001b[0m\n\u001b[0;32m----> 4\u001b[0;31m \u001b[0ma\u001b[0m\u001b[0;34m/\u001b[0m\u001b[0mb\u001b[0m\u001b[0;34m\u001b[0m\u001b[0;34m\u001b[0m\u001b[0m\n\u001b[0m",
            "\u001b[0;31mZeroDivisionError\u001b[0m: division by zero"
          ]
        }
      ]
    },
    {
      "cell_type": "code",
      "metadata": {
        "colab": {
          "base_uri": "https://localhost:8080/"
        },
        "id": "4OPgWJLHz3XE",
        "outputId": "cc5a1531-8acb-47ee-d8a8-264590642041"
      },
      "source": [
        "try: #çalıştırayı dene ama hata üretme ve uyarı notu sıkıştırma yaptık\n",
        "  print (a/b)\n",
        "except ZeroDivisionError:\n",
        "  print(\"Payda da sifir olmaz\")"
      ],
      "execution_count": null,
      "outputs": [
        {
          "output_type": "stream",
          "text": [
            "Payda da sifir olmaz\n"
          ],
          "name": "stdout"
        }
      ]
    },
    {
      "cell_type": "markdown",
      "metadata": {
        "id": "N_V05SBt0apc"
      },
      "source": [
        "Tip hatası"
      ]
    },
    {
      "cell_type": "code",
      "metadata": {
        "id": "QvZTKBmm0LwN"
      },
      "source": [
        "a = 10\n",
        "b = \"2\""
      ],
      "execution_count": null,
      "outputs": []
    },
    {
      "cell_type": "code",
      "metadata": {
        "colab": {
          "base_uri": "https://localhost:8080/",
          "height": 163
        },
        "id": "311aD2Qf0uj3",
        "outputId": "424778a1-3ccd-480e-c0f2-827eeafdab52"
      },
      "source": [
        "a/b"
      ],
      "execution_count": null,
      "outputs": [
        {
          "output_type": "error",
          "ename": "TypeError",
          "evalue": "ignored",
          "traceback": [
            "\u001b[0;31m---------------------------------------------------------------------------\u001b[0m",
            "\u001b[0;31mTypeError\u001b[0m                                 Traceback (most recent call last)",
            "\u001b[0;32m<ipython-input-47-aae42d317509>\u001b[0m in \u001b[0;36m<module>\u001b[0;34m()\u001b[0m\n\u001b[0;32m----> 1\u001b[0;31m \u001b[0ma\u001b[0m\u001b[0;34m/\u001b[0m\u001b[0mb\u001b[0m\u001b[0;34m\u001b[0m\u001b[0;34m\u001b[0m\u001b[0m\n\u001b[0m",
            "\u001b[0;31mTypeError\u001b[0m: unsupported operand type(s) for /: 'int' and 'str'"
          ]
        }
      ]
    },
    {
      "cell_type": "code",
      "metadata": {
        "colab": {
          "base_uri": "https://localhost:8080/"
        },
        "id": "DkJ4d1vA0wEM",
        "outputId": "66d663ff-d095-4181-fa46-96713be6ad95"
      },
      "source": [
        "try:\n",
        "  print(a/b)\n",
        "except TypeError:\n",
        "   print(\"Sayi ve string problemi\")"
      ],
      "execution_count": null,
      "outputs": [
        {
          "output_type": "stream",
          "text": [
            "Sayi ve string problemi\n"
          ],
          "name": "stdout"
        }
      ]
    },
    {
      "cell_type": "code",
      "metadata": {
        "colab": {
          "base_uri": "https://localhost:8080/"
        },
        "id": "Q3dG_04W1Dcv",
        "outputId": "f47fbe49-a552-4ad3-dafd-871798ee095b"
      },
      "source": [
        "a = 10\n",
        "b = 2\n",
        "\n",
        "a/b\n",
        "\n",
        "try:\n",
        "  print(a/b)\n",
        "except TypeError:\n",
        "   print(\"Sayi ve string problemi\")"
      ],
      "execution_count": null,
      "outputs": [
        {
          "output_type": "stream",
          "text": [
            "5.0\n"
          ],
          "name": "stdout"
        }
      ]
    }
  ]
}