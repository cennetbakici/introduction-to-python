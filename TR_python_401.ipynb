{
  "nbformat": 4,
  "nbformat_minor": 0,
  "metadata": {
    "colab": {
      "name": "TR_python_401.ipynb",
      "provenance": [],
      "collapsed_sections": [],
      "authorship_tag": "ABX9TyP24otM8fskzYrS+VNEB/i5",
      "include_colab_link": true
    },
    "kernelspec": {
      "name": "python3",
      "display_name": "Python 3"
    },
    "language_info": {
      "name": "python"
    }
  },
  "cells": [
    {
      "cell_type": "markdown",
      "metadata": {
        "id": "view-in-github",
        "colab_type": "text"
      },
      "source": [
        "<a href=\"https://colab.research.google.com/github/cennetbakici/introduction-to-python/blob/master/TR_python_401.ipynb\" target=\"_parent\"><img src=\"https://colab.research.google.com/assets/colab-badge.svg\" alt=\"Open In Colab\"/></a>"
      ]
    },
    {
      "cell_type": "markdown",
      "metadata": {
        "id": "HMDc6SVN_04G"
      },
      "source": [
        "**Nesne Yönelimli Programlama**\n",
        "\n",
        "Sınıflara Giriş ve Sınıf Tanımlamak\n",
        "\n",
        "Sınıf; benzer özellikler, ortak amaçlar taşıyan, içerisinde metod ve değişkenler olan yapılardır."
      ]
    },
    {
      "cell_type": "code",
      "metadata": {
        "colab": {
          "base_uri": "https://localhost:8080/"
        },
        "id": "CblBZw9l_5EA",
        "outputId": "95c61fb3-728a-4cf1-8faf-0e0fbdd73595"
      },
      "source": [
        "class VeriBilimci():\n",
        "  print (\"Bu bir siniftir\")"
      ],
      "execution_count": null,
      "outputs": [
        {
          "output_type": "stream",
          "text": [
            "Bu bir siniftir\n"
          ],
          "name": "stdout"
        }
      ]
    },
    {
      "cell_type": "markdown",
      "metadata": {
        "id": "UZ7oFxoYE4de"
      },
      "source": [
        "Sınıf Özellikleri (Class attributes)"
      ]
    },
    {
      "cell_type": "code",
      "metadata": {
        "id": "Cuu75oY_E5gs"
      },
      "source": [
        "class Veri_Bilimci():\n",
        "  bolum = \"\"\n",
        "  sql = \"Evet\"\n",
        "  deneyim_yili = 0\n",
        "  bildigi_diller = []"
      ],
      "execution_count": 2,
      "outputs": []
    },
    {
      "cell_type": "markdown",
      "metadata": {
        "id": "RXnbUD5QF79y"
      },
      "source": [
        "Sınıfların Özelliklerine erişmek"
      ]
    },
    {
      "cell_type": "code",
      "metadata": {
        "colab": {
          "base_uri": "https://localhost:8080/",
          "height": 35
        },
        "id": "kbNLsfUmF5W0",
        "outputId": "d52c0ecd-ca88-4058-c64e-0d588ead03fa"
      },
      "source": [
        "Veri_Bilimci.bolum"
      ],
      "execution_count": null,
      "outputs": [
        {
          "output_type": "execute_result",
          "data": {
            "application/vnd.google.colaboratory.intrinsic+json": {
              "type": "string"
            },
            "text/plain": [
              "''"
            ]
          },
          "metadata": {
            "tags": []
          },
          "execution_count": 6
        }
      ]
    },
    {
      "cell_type": "code",
      "metadata": {
        "colab": {
          "base_uri": "https://localhost:8080/",
          "height": 35
        },
        "id": "oa0x9lDDGGNK",
        "outputId": "0041668d-ce51-43f9-c232-ba69043877fc"
      },
      "source": [
        "Veri_Bilimci.sql"
      ],
      "execution_count": null,
      "outputs": [
        {
          "output_type": "execute_result",
          "data": {
            "application/vnd.google.colaboratory.intrinsic+json": {
              "type": "string"
            },
            "text/plain": [
              "'Evet'"
            ]
          },
          "metadata": {
            "tags": []
          },
          "execution_count": 7
        }
      ]
    },
    {
      "cell_type": "markdown",
      "metadata": {
        "id": "f_n350Q-GIVV"
      },
      "source": [
        "Sınıfların Özelliklerini değiştirmek"
      ]
    },
    {
      "cell_type": "code",
      "metadata": {
        "colab": {
          "base_uri": "https://localhost:8080/",
          "height": 35
        },
        "id": "Iuch3pZxGMkB",
        "outputId": "3985e2c6-8242-41c6-f969-26da7b8fcee6"
      },
      "source": [
        "Veri_Bilimci.sql = \"Hayir\"\n",
        "Veri_Bilimci.sql"
      ],
      "execution_count": 3,
      "outputs": [
        {
          "output_type": "execute_result",
          "data": {
            "application/vnd.google.colaboratory.intrinsic+json": {
              "type": "string"
            },
            "text/plain": [
              "'Hayir'"
            ]
          },
          "metadata": {
            "tags": []
          },
          "execution_count": 3
        }
      ]
    },
    {
      "cell_type": "markdown",
      "metadata": {
        "id": "YIMBz6l1GhcS"
      },
      "source": [
        "Sınıf Örneklendirmesi (instantiation)"
      ]
    },
    {
      "cell_type": "code",
      "metadata": {
        "colab": {
          "base_uri": "https://localhost:8080/",
          "height": 35
        },
        "id": "4SzK5_gUGrYW",
        "outputId": "67523516-5248-4d49-dcf7-e33ebd685c33"
      },
      "source": [
        "ali = Veri_Bilimci()\n",
        "ali.sql"
      ],
      "execution_count": 4,
      "outputs": [
        {
          "output_type": "execute_result",
          "data": {
            "application/vnd.google.colaboratory.intrinsic+json": {
              "type": "string"
            },
            "text/plain": [
              "'Hayir'"
            ]
          },
          "metadata": {
            "tags": []
          },
          "execution_count": 4
        }
      ]
    },
    {
      "cell_type": "code",
      "metadata": {
        "colab": {
          "base_uri": "https://localhost:8080/"
        },
        "id": "afotbxzZHKmk",
        "outputId": "0f2afab2-696a-4600-9fa5-b23ebb9109e9"
      },
      "source": [
        "ali.deneyim_yili"
      ],
      "execution_count": null,
      "outputs": [
        {
          "output_type": "execute_result",
          "data": {
            "text/plain": [
              "0"
            ]
          },
          "metadata": {
            "tags": []
          },
          "execution_count": 14
        }
      ]
    },
    {
      "cell_type": "code",
      "metadata": {
        "id": "Ibn5fcZSHRKA"
      },
      "source": [
        "ali.bildigi_diller.append(\"Python\") #burada yapılan bir değişiklik tüm sınıfı etkiledi.\n"
      ],
      "execution_count": 5,
      "outputs": []
    },
    {
      "cell_type": "code",
      "metadata": {
        "colab": {
          "base_uri": "https://localhost:8080/"
        },
        "id": "2dP-gxqCHhLc",
        "outputId": "421706d2-2183-48f5-dd90-342ad642faaa"
      },
      "source": [
        "ali.bildigi_diller"
      ],
      "execution_count": 6,
      "outputs": [
        {
          "output_type": "execute_result",
          "data": {
            "text/plain": [
              "['Python']"
            ]
          },
          "metadata": {
            "tags": []
          },
          "execution_count": 6
        }
      ]
    },
    {
      "cell_type": "code",
      "metadata": {
        "colab": {
          "base_uri": "https://localhost:8080/",
          "height": 35
        },
        "id": "8X4YzWl9HxoB",
        "outputId": "42796c98-26da-4d18-92c8-f5ae40a6b8f8"
      },
      "source": [
        "veli = Veri_Bilimci()\n",
        "veli.sql"
      ],
      "execution_count": 7,
      "outputs": [
        {
          "output_type": "execute_result",
          "data": {
            "application/vnd.google.colaboratory.intrinsic+json": {
              "type": "string"
            },
            "text/plain": [
              "'Hayir'"
            ]
          },
          "metadata": {
            "tags": []
          },
          "execution_count": 7
        }
      ]
    },
    {
      "cell_type": "code",
      "metadata": {
        "colab": {
          "base_uri": "https://localhost:8080/"
        },
        "id": "t_NiBpQIH31_",
        "outputId": "70542e13-40e9-44b1-dba1-3d06c1fec9ba"
      },
      "source": [
        "veli.bildigi_diller"
      ],
      "execution_count": 8,
      "outputs": [
        {
          "output_type": "execute_result",
          "data": {
            "text/plain": [
              "['Python']"
            ]
          },
          "metadata": {
            "tags": []
          },
          "execution_count": 8
        }
      ]
    },
    {
      "cell_type": "markdown",
      "metadata": {
        "id": "_dZ5-BpkIGVc"
      },
      "source": [
        "Örnek Özellikleri\n",
        "\n",
        "Sınıf özelliklerini tanımlarken yaptığımız isimlendirmelerle ornekler özelliklerini tanımladığımız isimlendirmeler farklı olmalıdır."
      ]
    },
    {
      "cell_type": "code",
      "metadata": {
        "id": "NHNEr_BQIO12"
      },
      "source": [
        "class Veri_Bilimcilik():\n",
        "  bildigi_diller = [\"R\", \"Python\"]\n",
        "  bolum = \"\"\n",
        "  sql = \"Evet\"\n",
        "  deneyim_yili = 0\n",
        "  def __init__(self): # self örnekleri temsil ediyor(temsilci)\n",
        "    self.bildigi_diller = []\n",
        "    self.bolum = \"\""
      ],
      "execution_count": null,
      "outputs": []
    },
    {
      "cell_type": "code",
      "metadata": {
        "colab": {
          "base_uri": "https://localhost:8080/"
        },
        "id": "popeRCghI1T3",
        "outputId": "8c87ff17-af44-4876-d3e9-4a1e4f479380"
      },
      "source": [
        "ali = Veri_Bilimcilik()\n",
        "ali.bildigi_diller"
      ],
      "execution_count": null,
      "outputs": [
        {
          "output_type": "execute_result",
          "data": {
            "text/plain": [
              "[]"
            ]
          },
          "metadata": {
            "tags": []
          },
          "execution_count": 48
        }
      ]
    },
    {
      "cell_type": "code",
      "metadata": {
        "colab": {
          "base_uri": "https://localhost:8080/"
        },
        "id": "EUdOugKxJYTx",
        "outputId": "29946e1c-b1a0-408e-da46-5c75efc3cd08"
      },
      "source": [
        "veli = Veri_Bilimcilik()\n",
        "veli.bildigi_diller"
      ],
      "execution_count": null,
      "outputs": [
        {
          "output_type": "execute_result",
          "data": {
            "text/plain": [
              "[]"
            ]
          },
          "metadata": {
            "tags": []
          },
          "execution_count": 53
        }
      ]
    },
    {
      "cell_type": "code",
      "metadata": {
        "id": "M1EW_Om4JdiU"
      },
      "source": [
        "ali.bildigi_diller.append(\"Python\")"
      ],
      "execution_count": null,
      "outputs": []
    },
    {
      "cell_type": "code",
      "metadata": {
        "colab": {
          "base_uri": "https://localhost:8080/"
        },
        "id": "pFDNttdWJk76",
        "outputId": "2c5b5d89-f775-4b54-9abe-f3c239b2c7ea"
      },
      "source": [
        "ali.bildigi_diller"
      ],
      "execution_count": null,
      "outputs": [
        {
          "output_type": "execute_result",
          "data": {
            "text/plain": [
              "['Python']"
            ]
          },
          "metadata": {
            "tags": []
          },
          "execution_count": 37
        }
      ]
    },
    {
      "cell_type": "code",
      "metadata": {
        "colab": {
          "base_uri": "https://localhost:8080/"
        },
        "id": "oCEQE0qxJnr4",
        "outputId": "3a44de06-ed7d-4ec2-f9ea-115b83f1254a"
      },
      "source": [
        "veli.bildigi_diller"
      ],
      "execution_count": null,
      "outputs": [
        {
          "output_type": "execute_result",
          "data": {
            "text/plain": [
              "[]"
            ]
          },
          "metadata": {
            "tags": []
          },
          "execution_count": 38
        }
      ]
    },
    {
      "cell_type": "code",
      "metadata": {
        "id": "LDIBATH1JqfE"
      },
      "source": [
        "veli.bildigi_diller.append(\"R\")"
      ],
      "execution_count": null,
      "outputs": []
    },
    {
      "cell_type": "code",
      "metadata": {
        "colab": {
          "base_uri": "https://localhost:8080/"
        },
        "id": "1SJXVwO9Jvdj",
        "outputId": "af3660bd-5303-49da-8200-f3de582bc02b"
      },
      "source": [
        "veli.bildigi_diller"
      ],
      "execution_count": null,
      "outputs": [
        {
          "output_type": "execute_result",
          "data": {
            "text/plain": [
              "['R']"
            ]
          },
          "metadata": {
            "tags": []
          },
          "execution_count": 43
        }
      ]
    },
    {
      "cell_type": "code",
      "metadata": {
        "colab": {
          "base_uri": "https://localhost:8080/"
        },
        "id": "xGtBOCUtJxWa",
        "outputId": "8193608e-28ee-4129-b527-a8a40afac9e0"
      },
      "source": [
        "Veri_Bilimcilik.bildigi_diller"
      ],
      "execution_count": null,
      "outputs": [
        {
          "output_type": "execute_result",
          "data": {
            "text/plain": [
              "['R', 'Python']"
            ]
          },
          "metadata": {
            "tags": []
          },
          "execution_count": 44
        }
      ]
    },
    {
      "cell_type": "code",
      "metadata": {
        "colab": {
          "base_uri": "https://localhost:8080/",
          "height": 35
        },
        "id": "Najwm_hzKt2F",
        "outputId": "1286a9c6-9538-482d-834e-0341e1545243"
      },
      "source": [
        "ali.bolum"
      ],
      "execution_count": null,
      "outputs": [
        {
          "output_type": "execute_result",
          "data": {
            "application/vnd.google.colaboratory.intrinsic+json": {
              "type": "string"
            },
            "text/plain": [
              "''"
            ]
          },
          "metadata": {
            "tags": []
          },
          "execution_count": 50
        }
      ]
    },
    {
      "cell_type": "code",
      "metadata": {
        "id": "Vx3LXXo4K7Z4"
      },
      "source": [
        "ali.bolum = \"istatistik\""
      ],
      "execution_count": null,
      "outputs": []
    },
    {
      "cell_type": "code",
      "metadata": {
        "colab": {
          "base_uri": "https://localhost:8080/",
          "height": 35
        },
        "id": "2IyvDFbXLC3o",
        "outputId": "3a365060-df64-47ff-9708-662ffca94217"
      },
      "source": [
        "veli.bolum"
      ],
      "execution_count": null,
      "outputs": [
        {
          "output_type": "execute_result",
          "data": {
            "application/vnd.google.colaboratory.intrinsic+json": {
              "type": "string"
            },
            "text/plain": [
              "''"
            ]
          },
          "metadata": {
            "tags": []
          },
          "execution_count": 55
        }
      ]
    },
    {
      "cell_type": "code",
      "metadata": {
        "id": "0A9NXt8pLPi4"
      },
      "source": [
        "veli.bolum = \"end_muh\""
      ],
      "execution_count": null,
      "outputs": []
    },
    {
      "cell_type": "code",
      "metadata": {
        "colab": {
          "base_uri": "https://localhost:8080/",
          "height": 35
        },
        "id": "CQOa15WQLS-O",
        "outputId": "24ff42c6-4876-43ba-e767-f5b53df0f2fc"
      },
      "source": [
        "veli.bolum"
      ],
      "execution_count": null,
      "outputs": [
        {
          "output_type": "execute_result",
          "data": {
            "application/vnd.google.colaboratory.intrinsic+json": {
              "type": "string"
            },
            "text/plain": [
              "'end_muh'"
            ]
          },
          "metadata": {
            "tags": []
          },
          "execution_count": 57
        }
      ]
    },
    {
      "cell_type": "code",
      "metadata": {
        "colab": {
          "base_uri": "https://localhost:8080/",
          "height": 35
        },
        "id": "OlvBWqa8LW_s",
        "outputId": "89b41bb3-3c8f-4e57-b6e4-408356da54fb"
      },
      "source": [
        "Veri_Bilimcilik.bolum"
      ],
      "execution_count": null,
      "outputs": [
        {
          "output_type": "execute_result",
          "data": {
            "application/vnd.google.colaboratory.intrinsic+json": {
              "type": "string"
            },
            "text/plain": [
              "''"
            ]
          },
          "metadata": {
            "tags": []
          },
          "execution_count": 58
        }
      ]
    },
    {
      "cell_type": "markdown",
      "metadata": {
        "id": "Wi2tI_rBMuV3"
      },
      "source": [
        "**Örnek Metodları**"
      ]
    },
    {
      "cell_type": "code",
      "metadata": {
        "id": "2K5xqy3mM8Z3"
      },
      "source": [
        "class Veri_Bilimciler():\n",
        "  calisanlar = []\n",
        "  def __init__(self): # self, örnekleri temsil ediyor(temsilci)\n",
        "    self.bildigi_diller = []\n",
        "    self.bolum = []\n",
        "  def dil_ekle(self,yeni_dil):\n",
        "    self.bildigi_diller.append(yeni_dil)\n",
        "  def bolum_ekle(self,yeni_bolum):\n",
        "    self.bolum.append(yeni_bolum)"
      ],
      "execution_count": null,
      "outputs": []
    },
    {
      "cell_type": "code",
      "metadata": {
        "colab": {
          "base_uri": "https://localhost:8080/"
        },
        "id": "5uwNv0UsNq0P",
        "outputId": "fe574a0d-4922-418f-fc5e-ac1ce9bee21a"
      },
      "source": [
        "ali = Veri_Bilimciler()\n",
        "ali.bildigi_diller"
      ],
      "execution_count": null,
      "outputs": [
        {
          "output_type": "execute_result",
          "data": {
            "text/plain": [
              "[]"
            ]
          },
          "metadata": {
            "tags": []
          },
          "execution_count": 157
        }
      ]
    },
    {
      "cell_type": "code",
      "metadata": {
        "colab": {
          "base_uri": "https://localhost:8080/"
        },
        "id": "hFXFuSkGN2cp",
        "outputId": "7e37b10f-c479-46c5-d1ed-0793ec9c5f65"
      },
      "source": [
        "veli = Veri_Bilimciler()\n",
        "veli.bildigi_diller"
      ],
      "execution_count": null,
      "outputs": [
        {
          "output_type": "execute_result",
          "data": {
            "text/plain": [
              "[]"
            ]
          },
          "metadata": {
            "tags": []
          },
          "execution_count": 98
        }
      ]
    },
    {
      "cell_type": "code",
      "metadata": {
        "colab": {
          "base_uri": "https://localhost:8080/"
        },
        "id": "NMQlJBTkN7u9",
        "outputId": "9581a896-b51f-4b20-9550-37ccd44bf346"
      },
      "source": [
        "dir(Veri_Bilimciler)"
      ],
      "execution_count": null,
      "outputs": [
        {
          "output_type": "execute_result",
          "data": {
            "text/plain": [
              "['__class__',\n",
              " '__delattr__',\n",
              " '__dict__',\n",
              " '__dir__',\n",
              " '__doc__',\n",
              " '__eq__',\n",
              " '__format__',\n",
              " '__ge__',\n",
              " '__getattribute__',\n",
              " '__gt__',\n",
              " '__hash__',\n",
              " '__init__',\n",
              " '__init_subclass__',\n",
              " '__le__',\n",
              " '__lt__',\n",
              " '__module__',\n",
              " '__ne__',\n",
              " '__new__',\n",
              " '__reduce__',\n",
              " '__reduce_ex__',\n",
              " '__repr__',\n",
              " '__setattr__',\n",
              " '__sizeof__',\n",
              " '__str__',\n",
              " '__subclasshook__',\n",
              " '__weakref__',\n",
              " 'bolum_ekle',\n",
              " 'calisanlar',\n",
              " 'dil_ekle']"
            ]
          },
          "metadata": {
            "tags": []
          },
          "execution_count": 99
        }
      ]
    },
    {
      "cell_type": "code",
      "metadata": {
        "id": "PJ7DSG4kPB6N"
      },
      "source": [
        "ali.dil_ekle(\"R\")"
      ],
      "execution_count": null,
      "outputs": []
    },
    {
      "cell_type": "code",
      "metadata": {
        "colab": {
          "base_uri": "https://localhost:8080/"
        },
        "id": "wvA2kzoWQJqd",
        "outputId": "2858aa46-bf95-4450-916e-55f230e067b6"
      },
      "source": [
        "ali.bildigi_diller"
      ],
      "execution_count": null,
      "outputs": [
        {
          "output_type": "execute_result",
          "data": {
            "text/plain": [
              "['R']"
            ]
          },
          "metadata": {
            "tags": []
          },
          "execution_count": 93
        }
      ]
    },
    {
      "cell_type": "code",
      "metadata": {
        "colab": {
          "base_uri": "https://localhost:8080/"
        },
        "id": "0g1dagJVPdpe",
        "outputId": "5c68b71f-7ac4-4bea-8cf2-4a63a8ebf93e"
      },
      "source": [
        "veli.dil_ekle(\"Python\")\n",
        "veli.bildigi_diller"
      ],
      "execution_count": null,
      "outputs": [
        {
          "output_type": "execute_result",
          "data": {
            "text/plain": [
              "['Python']"
            ]
          },
          "metadata": {
            "tags": []
          },
          "execution_count": 94
        }
      ]
    },
    {
      "cell_type": "code",
      "metadata": {
        "id": "SovZfumEmpIy"
      },
      "source": [
        "ali.bolum_ekle(\"ehm\")"
      ],
      "execution_count": null,
      "outputs": []
    },
    {
      "cell_type": "code",
      "metadata": {
        "colab": {
          "base_uri": "https://localhost:8080/"
        },
        "id": "fp_Cx0uhoNy-",
        "outputId": "36e133da-2087-46b1-fad0-ddaf4d2a2351"
      },
      "source": [
        "ali.bolum"
      ],
      "execution_count": null,
      "outputs": [
        {
          "output_type": "execute_result",
          "data": {
            "text/plain": [
              "['ehm']"
            ]
          },
          "metadata": {
            "tags": []
          },
          "execution_count": 104
        }
      ]
    },
    {
      "cell_type": "code",
      "metadata": {
        "id": "wneIpGGxoBhf"
      },
      "source": [
        "veli.bolum_ekle(\"istatistik\")"
      ],
      "execution_count": null,
      "outputs": []
    },
    {
      "cell_type": "code",
      "metadata": {
        "colab": {
          "base_uri": "https://localhost:8080/"
        },
        "id": "vUozhB3DoGFF",
        "outputId": "50013eff-341c-4cdd-89df-51d14d379f46"
      },
      "source": [
        "veli.bolum"
      ],
      "execution_count": null,
      "outputs": [
        {
          "output_type": "execute_result",
          "data": {
            "text/plain": [
              "['istatistik']"
            ]
          },
          "metadata": {
            "tags": []
          },
          "execution_count": 111
        }
      ]
    },
    {
      "cell_type": "markdown",
      "metadata": {
        "id": "IsKBdIj5q2rI"
      },
      "source": [
        "**Miras Yapıları (inheritance)**\n",
        "\n",
        "Daha önceki oluşturmuş olduğumuz sınıfın özelliklerini barındırıyorsa ve bizde başka bir sınıfta kullanmak istiyorsak bunu miras yapısı ile yapabiliriz."
      ]
    },
    {
      "cell_type": "code",
      "metadata": {
        "id": "mm2xjp2Cq_nk"
      },
      "source": [
        "class Employees():\n",
        "  def __init__(self): \n",
        "    self.FirstName = \"\"\n",
        "    self.LastName = \"\"\n",
        "    self.Address = \"\""
      ],
      "execution_count": null,
      "outputs": []
    },
    {
      "cell_type": "code",
      "metadata": {
        "id": "wKwyc3PX9aSG"
      },
      "source": [
        "a = Employees()"
      ],
      "execution_count": null,
      "outputs": []
    },
    {
      "cell_type": "code",
      "metadata": {
        "colab": {
          "base_uri": "https://localhost:8080/",
          "height": 35
        },
        "id": "PKqZUfrg_L1Q",
        "outputId": "f4d25808-30ff-422d-a7ef-ebcbaea6c2ee"
      },
      "source": [
        "a.Address"
      ],
      "execution_count": null,
      "outputs": [
        {
          "output_type": "execute_result",
          "data": {
            "application/vnd.google.colaboratory.intrinsic+json": {
              "type": "string"
            },
            "text/plain": [
              "''"
            ]
          },
          "metadata": {
            "tags": []
          },
          "execution_count": 175
        }
      ]
    },
    {
      "cell_type": "code",
      "metadata": {
        "id": "t_-ltwY05pIv"
      },
      "source": [
        "class DataScience ( Employees ):\n",
        "  def __init__(self): # self örnekleri temsil ediyor(temsilci)\n",
        "    self.Programming = \"\""
      ],
      "execution_count": null,
      "outputs": []
    },
    {
      "cell_type": "code",
      "metadata": {
        "id": "EKmbi1kI7PCa"
      },
      "source": [
        "ayse = DataScience ()"
      ],
      "execution_count": null,
      "outputs": []
    },
    {
      "cell_type": "markdown",
      "metadata": {
        "id": "fxXYhoSNCC3e"
      },
      "source": [
        "Miras yapısını kabul etmedi nedenini bilmiyorum, python kurup dene"
      ]
    },
    {
      "cell_type": "code",
      "metadata": {
        "id": "nLh3QK0vAwRX"
      },
      "source": [
        "ayse.Address "
      ],
      "execution_count": null,
      "outputs": []
    },
    {
      "cell_type": "code",
      "metadata": {
        "id": "3jfJyzN352s5"
      },
      "source": [
        "class Marketing(Employees):\n",
        "  def __init__(self): # self örnekleri temsil ediyor(temsilci)\n",
        "    self.StoryTelling = \"\""
      ],
      "execution_count": null,
      "outputs": []
    },
    {
      "cell_type": "code",
      "metadata": {
        "id": "PCIPnEb67KoF"
      },
      "source": [
        "mar1 = Marketing ()\n",
        "mar1."
      ],
      "execution_count": null,
      "outputs": []
    },
    {
      "cell_type": "code",
      "metadata": {
        "id": "i4D1Qlcp8NTy"
      },
      "source": [
        "class Employee_yeni():\n",
        "  def __init__(self,FirstName,LastName,Address): #bu şekilde fonksiyon yapısı \n",
        "  #gibide tanımlanabilir.\n",
        "    self.FirstName = FirstName\n",
        "    self.LastName = LastName\n",
        "    self.Address = Address"
      ],
      "execution_count": 13,
      "outputs": []
    },
    {
      "cell_type": "code",
      "metadata": {
        "id": "CPQiuUrGBlst"
      },
      "source": [
        "ahmet = Employee_yeni (\"a\",\"b\",\"c\")"
      ],
      "execution_count": 14,
      "outputs": []
    },
    {
      "cell_type": "code",
      "metadata": {
        "colab": {
          "base_uri": "https://localhost:8080/",
          "height": 35
        },
        "id": "ryTwLTDXBwiB",
        "outputId": "0293d1f3-b8df-407c-c2fb-6025527acc10"
      },
      "source": [
        "ahmet.Address"
      ],
      "execution_count": 15,
      "outputs": [
        {
          "output_type": "execute_result",
          "data": {
            "application/vnd.google.colaboratory.intrinsic+json": {
              "type": "string"
            },
            "text/plain": [
              "'c'"
            ]
          },
          "metadata": {
            "tags": []
          },
          "execution_count": 15
        }
      ]
    },
    {
      "cell_type": "code",
      "metadata": {
        "colab": {
          "base_uri": "https://localhost:8080/",
          "height": 35
        },
        "id": "znHFvETIB0XH",
        "outputId": "68920407-16b1-40bf-c944-45a552f1d989"
      },
      "source": [
        "ahmet.FirstName"
      ],
      "execution_count": 16,
      "outputs": [
        {
          "output_type": "execute_result",
          "data": {
            "application/vnd.google.colaboratory.intrinsic+json": {
              "type": "string"
            },
            "text/plain": [
              "'a'"
            ]
          },
          "metadata": {
            "tags": []
          },
          "execution_count": 16
        }
      ]
    },
    {
      "cell_type": "markdown",
      "metadata": {
        "id": "dn6ayV3IC07m"
      },
      "source": [
        "**Fonksiyonel Programlama**\n",
        "\n",
        "-Fonksiyonlar dilin baştacıdır.(Birinci sınıf nesnelerdir.)\n",
        "\n",
        "-Yan Etkisiz Fonksiyonlar\n",
        "\n",
        "-Yüksek seviye Fonksiyonlar\n",
        "\n",
        "-Vektörel operasyonlar\n",
        "\n",
        "**Yan Etkisiz Fonksiyonlar (Pure Functions)**\n",
        "\n",
        "Örnek 1: Bağımsızlık"
      ]
    },
    {
      "cell_type": "code",
      "metadata": {
        "id": "_KzD4PRJC2-_"
      },
      "source": [
        "A = 5\n",
        "\n",
        "def impure_sum(b): #yan etkili\n",
        "  return b + A\n",
        "\n",
        "\n",
        "def pure_sum (a,b): #yan etkisiz\n",
        "  return a + b"
      ],
      "execution_count": 17,
      "outputs": []
    },
    {
      "cell_type": "code",
      "metadata": {
        "id": "RBsBCq3aGAfM"
      },
      "source": [
        "impure_sum(7)"
      ],
      "execution_count": null,
      "outputs": []
    },
    {
      "cell_type": "code",
      "metadata": {
        "id": "cpG4OgyDGiY7"
      },
      "source": [
        "pure_sum(3,4)"
      ],
      "execution_count": null,
      "outputs": []
    },
    {
      "cell_type": "markdown",
      "metadata": {
        "id": "0eSODJpwHAI7"
      },
      "source": [
        "Örnek 2: Olumcul Yan etkiler\n",
        "\n",
        "OOP"
      ]
    },
    {
      "cell_type": "code",
      "metadata": {
        "id": "74jnqwSxGp-D"
      },
      "source": [
        "class LineCounter (): #bu yan etkili olan bir yapıdır.\n",
        "  def __init__(self,filename):\n",
        "    self.file = open(filename, 'r')\n",
        "    self.lines = []\n",
        "\n",
        "  def read(self):\n",
        "      self.lines = [line for line in self.file]\n",
        "\n",
        "  def count(self):\n",
        "      return len(self.lines)"
      ],
      "execution_count": 23,
      "outputs": []
    },
    {
      "cell_type": "code",
      "metadata": {
        "id": "wAbn6x9iyO8b"
      },
      "source": [
        "lc = LineCounter (\"deneme.txt\")#deneme.txt diye bir dosya kaydettik ve onun \n",
        "#üstünden dosya açma ve içindeki satırları sayma yaptırdık."
      ],
      "execution_count": null,
      "outputs": []
    },
    {
      "cell_type": "code",
      "metadata": {
        "id": "xdno65rTzLtd"
      },
      "source": [
        "lc.read()\n",
        "print(lc.lines)\n",
        "print(lc.count())"
      ],
      "execution_count": null,
      "outputs": []
    },
    {
      "cell_type": "markdown",
      "metadata": {
        "id": "t9JZfiOy0EG_"
      },
      "source": [
        "FP"
      ]
    },
    {
      "cell_type": "code",
      "metadata": {
        "id": "vvPxoYDFx20j"
      },
      "source": [
        "def read(filename): #bu ise yan etkisiz bir yapıdır.\n",
        "  with open(filename, \"r\") as f:\n",
        "    return [line for line in f]\n",
        "    \n",
        "def count(lines):\n",
        "  return len(lines)"
      ],
      "execution_count": 24,
      "outputs": []
    },
    {
      "cell_type": "code",
      "metadata": {
        "id": "quimhdgmJUEv"
      },
      "source": [
        "example_lines = read (\"deneme.txt\") #ancak girdi verdiğimizde çıktı üretecek \n",
        "#diğerleri değişmeyecek.\n",
        "lines_count = count (example_lines) #ancak girdi verdiğimizde çıktı üretecek \n",
        "#diğerleri değişmeyecek.\n",
        "lines_count"
      ],
      "execution_count": null,
      "outputs": []
    },
    {
      "cell_type": "markdown",
      "metadata": {
        "id": "Fr2colmnJ-Al"
      },
      "source": [
        "**İsimsiz Fonksiyonlar (Anonymous Functions)**"
      ]
    },
    {
      "cell_type": "code",
      "metadata": {
        "id": "YYCEn9Dq2fyK"
      },
      "source": [
        "def old_sum(a,b):#burda old_sum adında isim vererek fonksiyon oluşturduk.\n",
        "#bu eski tip fonksiyondu\n",
        "  return a + b"
      ],
      "execution_count": 25,
      "outputs": []
    },
    {
      "cell_type": "code",
      "metadata": {
        "colab": {
          "base_uri": "https://localhost:8080/"
        },
        "id": "UUJLuj3y2nPe",
        "outputId": "1b7f800d-473c-4cdc-e7bd-fcf92dfc9211"
      },
      "source": [
        "old_sum(4,5)"
      ],
      "execution_count": 26,
      "outputs": [
        {
          "output_type": "execute_result",
          "data": {
            "text/plain": [
              "9"
            ]
          },
          "metadata": {
            "tags": []
          },
          "execution_count": 26
        }
      ]
    },
    {
      "cell_type": "code",
      "metadata": {
        "id": "zmX7iGRsJSxf"
      },
      "source": [
        "new_sum = lambda a,b: a + b #lambda ile isim vermeden fonksiyon oluşturduk"
      ],
      "execution_count": 27,
      "outputs": []
    },
    {
      "cell_type": "code",
      "metadata": {
        "colab": {
          "base_uri": "https://localhost:8080/"
        },
        "id": "v1V5IYbMifFW",
        "outputId": "dd83a16a-e7e4-4112-870b-68f1921b7188"
      },
      "source": [
        "new_sum(4,5)"
      ],
      "execution_count": 28,
      "outputs": [
        {
          "output_type": "execute_result",
          "data": {
            "text/plain": [
              "9"
            ]
          },
          "metadata": {
            "tags": []
          },
          "execution_count": 28
        }
      ]
    },
    {
      "cell_type": "code",
      "metadata": {
        "colab": {
          "base_uri": "https://localhost:8080/"
        },
        "id": "OjRQeO3tivwu",
        "outputId": "dee3d16a-674f-4913-ac29-5fb02689abc9"
      },
      "source": [
        "sirasiz_liste = [(\"b\", 3), (\"a\", 8), (\"d\", 12), (\"c\", 1)]\n",
        "sirasiz_liste"
      ],
      "execution_count": 29,
      "outputs": [
        {
          "output_type": "execute_result",
          "data": {
            "text/plain": [
              "[('b', 3), ('a', 8), ('d', 12), ('c', 1)]"
            ]
          },
          "metadata": {
            "tags": []
          },
          "execution_count": 29
        }
      ]
    },
    {
      "cell_type": "code",
      "metadata": {
        "colab": {
          "base_uri": "https://localhost:8080/"
        },
        "id": "9OLpppyLjJuc",
        "outputId": "74e4fc91-d320-48c5-fcc0-4be8345b5db4"
      },
      "source": [
        "sorted(sirasiz_liste, key = lambda x: x[1]) #1. elemana göre sıraladı"
      ],
      "execution_count": 30,
      "outputs": [
        {
          "output_type": "execute_result",
          "data": {
            "text/plain": [
              "[('c', 1), ('b', 3), ('a', 8), ('d', 12)]"
            ]
          },
          "metadata": {
            "tags": []
          },
          "execution_count": 30
        }
      ]
    },
    {
      "cell_type": "code",
      "metadata": {
        "colab": {
          "base_uri": "https://localhost:8080/"
        },
        "id": "rmHKzCkajpTt",
        "outputId": "59f34e30-fd17-42b4-9358-d2ca4e29b367"
      },
      "source": [
        "sorted(sirasiz_liste, key = lambda x: x[0]) #0. elemana göre sıraladı"
      ],
      "execution_count": 31,
      "outputs": [
        {
          "output_type": "execute_result",
          "data": {
            "text/plain": [
              "[('a', 8), ('b', 3), ('c', 1), ('d', 12)]"
            ]
          },
          "metadata": {
            "tags": []
          },
          "execution_count": 31
        }
      ]
    },
    {
      "cell_type": "markdown",
      "metadata": {
        "id": "GhB6WzhFkCCl"
      },
      "source": [
        "**Vektörel Operasyonlar**"
      ]
    },
    {
      "cell_type": "markdown",
      "metadata": {
        "id": "2AzZzRbak9b1"
      },
      "source": [
        "**OOP**"
      ]
    },
    {
      "cell_type": "code",
      "metadata": {
        "id": "oJ31bCCkjuG4"
      },
      "source": [
        "a = [1,2,3,4] #vektor\n",
        "b = [2,3,4,5]"
      ],
      "execution_count": 32,
      "outputs": []
    },
    {
      "cell_type": "code",
      "metadata": {
        "id": "U5rbpRfQkN_6"
      },
      "source": [
        "ab = []\n",
        "\n",
        "for i in range (0, len(a)):\n",
        "  ab.append(a[i]*b[i])"
      ],
      "execution_count": 33,
      "outputs": []
    },
    {
      "cell_type": "code",
      "metadata": {
        "colab": {
          "base_uri": "https://localhost:8080/"
        },
        "id": "j2rp27NCkd4G",
        "outputId": "fe2fdad1-83c3-4c05-89d5-9edb876174a7"
      },
      "source": [
        "ab"
      ],
      "execution_count": 34,
      "outputs": [
        {
          "output_type": "execute_result",
          "data": {
            "text/plain": [
              "[2, 6, 12, 20]"
            ]
          },
          "metadata": {
            "tags": []
          },
          "execution_count": 34
        }
      ]
    },
    {
      "cell_type": "markdown",
      "metadata": {
        "id": "aDj2bBrW6DEE"
      },
      "source": [
        "NOT: Söz konusu mat, istatistik, veri bilimi, makina öğrenmesi ise asla bu tip döngülere girmiyoruz, vektörel operasyonlara giriyoruz."
      ]
    },
    {
      "cell_type": "markdown",
      "metadata": {
        "id": "m9R1ztoWlAEt"
      },
      "source": [
        "**FP**\n"
      ]
    },
    {
      "cell_type": "code",
      "metadata": {
        "id": "ZEwOdO0Qkz5s"
      },
      "source": [
        "import numpy as np #vektör düzeyinde bir operasyondur. numpy bir kütüphanedir.\n",
        "a = np.array([1,2,3,4])\n",
        "b = np.array([2,3,4,5])"
      ],
      "execution_count": 35,
      "outputs": []
    },
    {
      "cell_type": "code",
      "metadata": {
        "colab": {
          "base_uri": "https://localhost:8080/"
        },
        "id": "KTJ9LyVRlfXb",
        "outputId": "efa25188-365f-46a7-d784-a0609a271842"
      },
      "source": [
        "a*b"
      ],
      "execution_count": 36,
      "outputs": [
        {
          "output_type": "execute_result",
          "data": {
            "text/plain": [
              "array([ 2,  6, 12, 20])"
            ]
          },
          "metadata": {
            "tags": []
          },
          "execution_count": 36
        }
      ]
    },
    {
      "cell_type": "markdown",
      "metadata": {
        "id": "iqypBJsml2iE"
      },
      "source": [
        "**Map, filter ve reduce Fonksiyonları**"
      ]
    },
    {
      "cell_type": "code",
      "metadata": {
        "id": "tdIQOQA0lg8Z"
      },
      "source": [
        "liste = [1,2,3,4,5]"
      ],
      "execution_count": 39,
      "outputs": []
    },
    {
      "cell_type": "code",
      "metadata": {
        "colab": {
          "base_uri": "https://localhost:8080/"
        },
        "id": "1pPDQYIsmGmC",
        "outputId": "16187be6-8ad0-4d6f-faa6-d3cfb68e38a5"
      },
      "source": [
        "for i in liste:\n",
        "  print(i+ 10)"
      ],
      "execution_count": 40,
      "outputs": [
        {
          "output_type": "stream",
          "text": [
            "11\n",
            "12\n",
            "13\n",
            "14\n",
            "15\n"
          ],
          "name": "stdout"
        }
      ]
    },
    {
      "cell_type": "markdown",
      "metadata": {
        "id": "m7NBAFuumcxr"
      },
      "source": [
        "Map: verilen bir vektörün içerisinde belirli bir fonksiyonu çalıştırma izni verir."
      ]
    },
    {
      "cell_type": "code",
      "metadata": {
        "colab": {
          "base_uri": "https://localhost:8080/"
        },
        "id": "bzYqbu4tmMtN",
        "outputId": "41da4220-3252-49d4-874d-12ed85068ef6"
      },
      "source": [
        "list(map(lambda x: x + 10, liste))"
      ],
      "execution_count": 41,
      "outputs": [
        {
          "output_type": "execute_result",
          "data": {
            "text/plain": [
              "[11, 12, 13, 14, 15]"
            ]
          },
          "metadata": {
            "tags": []
          },
          "execution_count": 41
        }
      ]
    },
    {
      "cell_type": "code",
      "metadata": {
        "colab": {
          "base_uri": "https://localhost:8080/"
        },
        "id": "Fz6-KJWgquR5",
        "outputId": "efea2dcf-7536-42b4-8e09-1bb08d503ea6"
      },
      "source": [
        "list(map(lambda x: x % 2 == 0, liste))"
      ],
      "execution_count": 42,
      "outputs": [
        {
          "output_type": "execute_result",
          "data": {
            "text/plain": [
              "[False, True, False, True, False]"
            ]
          },
          "metadata": {
            "tags": []
          },
          "execution_count": 42
        }
      ]
    },
    {
      "cell_type": "code",
      "metadata": {
        "colab": {
          "base_uri": "https://localhost:8080/"
        },
        "id": "rOZfEVU5m6o0",
        "outputId": "e4b950ba-6315-4022-a974-ac436d01e7a2"
      },
      "source": [
        "list(map(lambda x: x*10, liste))"
      ],
      "execution_count": 43,
      "outputs": [
        {
          "output_type": "execute_result",
          "data": {
            "text/plain": [
              "[10, 20, 30, 40, 50]"
            ]
          },
          "metadata": {
            "tags": []
          },
          "execution_count": 43
        }
      ]
    },
    {
      "cell_type": "markdown",
      "metadata": {
        "id": "wQaRYYWunOYD"
      },
      "source": [
        "Filter: iteratif bir nesne alır, bu nesne üzerinden başka bir iteratif bir nesne oluşturulur ve iteratif nesne içinde aradığı şartın sağlandığı tüm elemanlar filtrelenir."
      ]
    },
    {
      "cell_type": "code",
      "metadata": {
        "id": "vWdgOervnLUU"
      },
      "source": [
        "liste1 = [1,2,3,4,5,6,7,8,9,10]"
      ],
      "execution_count": 44,
      "outputs": []
    },
    {
      "cell_type": "code",
      "metadata": {
        "colab": {
          "base_uri": "https://localhost:8080/"
        },
        "id": "i3Z82hfkn94U",
        "outputId": "bdeb1b3b-8649-4161-c2b3-06cd81ffb008"
      },
      "source": [
        "list(filter(lambda x: x % 2 == 0, liste1)) #çift sayılaru filtreledi"
      ],
      "execution_count": 45,
      "outputs": [
        {
          "output_type": "execute_result",
          "data": {
            "text/plain": [
              "[2, 4, 6, 8, 10]"
            ]
          },
          "metadata": {
            "tags": []
          },
          "execution_count": 45
        }
      ]
    },
    {
      "cell_type": "code",
      "metadata": {
        "colab": {
          "base_uri": "https://localhost:8080/"
        },
        "id": "Jl8I3XET8caa",
        "outputId": "5673498f-b92e-41ab-a30f-4c8ad4ea1b97"
      },
      "source": [
        "list(filter(lambda x: x % 2 == 1, liste1)) #tek sayılaru filtreledi"
      ],
      "execution_count": 46,
      "outputs": [
        {
          "output_type": "execute_result",
          "data": {
            "text/plain": [
              "[1, 3, 5, 7, 9]"
            ]
          },
          "metadata": {
            "tags": []
          },
          "execution_count": 46
        }
      ]
    },
    {
      "cell_type": "markdown",
      "metadata": {
        "id": "ORX84lRQoba3"
      },
      "source": [
        "reduce: map ve filter e benzer fakat indirgeme işlemi yapar\n",
        "\n",
        "Docstring:\n",
        "reduce(function, sequence[, initial]) -> value\n",
        "\n",
        "Apply a function of two arguments cumulatively to the items of a sequence,\n",
        "from left to right, so as to reduce the sequence to a single value.\n",
        "For example, reduce(lambda x, y: x+y, [1, 2, 3, 4, 5]) calculates\n",
        "((((1+2)+3)+4)+5).  If initial is present, it is placed before the items\n",
        "of the sequence in the calculation, and serves as a default when the\n",
        "sequence is empty.\n",
        "Type:      builtin_function_or_method"
      ]
    },
    {
      "cell_type": "code",
      "metadata": {
        "id": "Bl-9sZg3oOs6"
      },
      "source": [
        "from functools import reduce "
      ],
      "execution_count": 47,
      "outputs": []
    },
    {
      "cell_type": "code",
      "metadata": {
        "colab": {
          "base_uri": "https://localhost:8080/"
        },
        "id": "1XyZy7xror6F",
        "outputId": "791d9fd5-52a3-4c07-da71-fc740a7da0ec"
      },
      "source": [
        "liste2 = [1,2,3,4]\n",
        "reduce(lambda a,b: a + b, liste2)"
      ],
      "execution_count": 48,
      "outputs": [
        {
          "output_type": "execute_result",
          "data": {
            "text/plain": [
              "10"
            ]
          },
          "metadata": {
            "tags": []
          },
          "execution_count": 48
        }
      ]
    },
    {
      "cell_type": "markdown",
      "metadata": {
        "id": "7OqAZifssM7D"
      },
      "source": [
        "**Modül Oluşturmak ve İstisnalar**\n",
        "\n",
        "Modül=Kütüphane=Paket: Belirli amaçları yerine getirmek için bir araya gelmiş fonksiyonlar topluluğudur.\n",
        "\n",
        "Modül Oluşturmak"
      ]
    },
    {
      "cell_type": "code",
      "metadata": {
        "id": "X86z3j97uAO1"
      },
      "source": [
        "#HesapModulu.py\n",
        "def yeni_maas(x): # bu kısmı ayrı bir sayfada oluşturup adını HesapModulu \n",
        "#diye kayıt etmemiz lazım, şuan kayıt edemediğim için hata veriyor.\n",
        "  print(x*20/100 + x)\n",
        "\n",
        "maaslar = [1000, 2000, 3000, 4000]"
      ],
      "execution_count": 53,
      "outputs": []
    },
    {
      "cell_type": "code",
      "metadata": {
        "id": "BYOVESKXtubg"
      },
      "source": [
        "#test.py olarak kaydetip bu kullanımları test et\n",
        "import HesapModulu #1. kullanımı\n",
        "HesapModulu.yeni_maas (1000)"
      ],
      "execution_count": null,
      "outputs": []
    },
    {
      "cell_type": "code",
      "metadata": {
        "id": "xoAUdGIYAC1y"
      },
      "source": [
        "import HesapModulu as hm #2. kullanımı\n",
        "hm.yeni_maas(2000)"
      ],
      "execution_count": null,
      "outputs": []
    },
    {
      "cell_type": "code",
      "metadata": {
        "id": "8OZdR5v4uvPT"
      },
      "source": [
        "from HesapModulu import yeni_maas #3. kullanımı\n",
        "yeni_maas(4000)"
      ],
      "execution_count": null,
      "outputs": []
    },
    {
      "cell_type": "code",
      "metadata": {
        "id": "h-iJynQlvEfF"
      },
      "source": [
        "import HesapModulu as hm #kütüphanenin içinden illa fonksiyonu çekmek zorunda değiliz.\n",
        "hm.maaslar"
      ],
      "execution_count": null,
      "outputs": []
    },
    {
      "cell_type": "markdown",
      "metadata": {
        "id": "8yYCFbkuzA5l"
      },
      "source": [
        "**Hatalar / İstisnalar (exceptions)**\n",
        "\n",
        "**Bug**: Programın çalışmasını engelleyen hatalar"
      ]
    },
    {
      "cell_type": "markdown",
      "metadata": {
        "id": "MrUxfLtw0gGj"
      },
      "source": [
        "ZeroDivisionError"
      ]
    },
    {
      "cell_type": "code",
      "metadata": {
        "colab": {
          "base_uri": "https://localhost:8080/",
          "height": 197
        },
        "id": "ryon52_EzCXw",
        "outputId": "c8195d8d-66d2-49da-848e-a214e6b0546f"
      },
      "source": [
        "a = 10\n",
        "b = 0\n",
        "\n",
        "a/b"
      ],
      "execution_count": 69,
      "outputs": [
        {
          "output_type": "error",
          "ename": "ZeroDivisionError",
          "evalue": "ignored",
          "traceback": [
            "\u001b[0;31m---------------------------------------------------------------------------\u001b[0m",
            "\u001b[0;31mZeroDivisionError\u001b[0m                         Traceback (most recent call last)",
            "\u001b[0;32m<ipython-input-69-7e90657db9bb>\u001b[0m in \u001b[0;36m<module>\u001b[0;34m()\u001b[0m\n\u001b[1;32m      2\u001b[0m \u001b[0mb\u001b[0m \u001b[0;34m=\u001b[0m \u001b[0;36m0\u001b[0m\u001b[0;34m\u001b[0m\u001b[0;34m\u001b[0m\u001b[0m\n\u001b[1;32m      3\u001b[0m \u001b[0;34m\u001b[0m\u001b[0m\n\u001b[0;32m----> 4\u001b[0;31m \u001b[0ma\u001b[0m\u001b[0;34m/\u001b[0m\u001b[0mb\u001b[0m\u001b[0;34m\u001b[0m\u001b[0;34m\u001b[0m\u001b[0m\n\u001b[0m",
            "\u001b[0;31mZeroDivisionError\u001b[0m: division by zero"
          ]
        }
      ]
    },
    {
      "cell_type": "markdown",
      "metadata": {
        "id": "nbkCrmWrDHeV"
      },
      "source": [
        "Try Except yapısı"
      ]
    },
    {
      "cell_type": "code",
      "metadata": {
        "colab": {
          "base_uri": "https://localhost:8080/"
        },
        "id": "4OPgWJLHz3XE",
        "outputId": "704e998f-ea86-4e9e-8271-606ef5c3c1dd"
      },
      "source": [
        "try: #çalıştırayı dene ama hata üretme ve uyarı notu sıkıştırma yaptık\n",
        "  print (a/b)\n",
        "except ZeroDivisionError:\n",
        "  print(\"Payda da sifir olmaz\")"
      ],
      "execution_count": 70,
      "outputs": [
        {
          "output_type": "stream",
          "text": [
            "Payda da sifir olmaz\n"
          ],
          "name": "stdout"
        }
      ]
    },
    {
      "cell_type": "markdown",
      "metadata": {
        "id": "N_V05SBt0apc"
      },
      "source": [
        "Tip hatası"
      ]
    },
    {
      "cell_type": "code",
      "metadata": {
        "id": "QvZTKBmm0LwN",
        "colab": {
          "base_uri": "https://localhost:8080/",
          "height": 197
        },
        "outputId": "1658d080-36f2-4589-e1a0-8bcbaa392e59"
      },
      "source": [
        "x = 10\n",
        "y = \"2\"\n",
        "\n",
        "x/y"
      ],
      "execution_count": 66,
      "outputs": [
        {
          "output_type": "error",
          "ename": "TypeError",
          "evalue": "ignored",
          "traceback": [
            "\u001b[0;31m---------------------------------------------------------------------------\u001b[0m",
            "\u001b[0;31mTypeError\u001b[0m                                 Traceback (most recent call last)",
            "\u001b[0;32m<ipython-input-66-9faec895c610>\u001b[0m in \u001b[0;36m<module>\u001b[0;34m()\u001b[0m\n\u001b[1;32m      2\u001b[0m \u001b[0my\u001b[0m \u001b[0;34m=\u001b[0m \u001b[0;34m\"2\"\u001b[0m\u001b[0;34m\u001b[0m\u001b[0;34m\u001b[0m\u001b[0m\n\u001b[1;32m      3\u001b[0m \u001b[0;34m\u001b[0m\u001b[0m\n\u001b[0;32m----> 4\u001b[0;31m \u001b[0mx\u001b[0m\u001b[0;34m/\u001b[0m\u001b[0my\u001b[0m\u001b[0;34m\u001b[0m\u001b[0;34m\u001b[0m\u001b[0m\n\u001b[0m",
            "\u001b[0;31mTypeError\u001b[0m: unsupported operand type(s) for /: 'int' and 'str'"
          ]
        }
      ]
    },
    {
      "cell_type": "code",
      "metadata": {
        "colab": {
          "base_uri": "https://localhost:8080/"
        },
        "id": "DkJ4d1vA0wEM",
        "outputId": "f1acfbfe-a509-425b-ada1-23dab5d1a04e"
      },
      "source": [
        "try:\n",
        "  print(x/y)\n",
        "except TypeError:\n",
        "   print(\"Sayi ve string problemi\")"
      ],
      "execution_count": 67,
      "outputs": [
        {
          "output_type": "stream",
          "text": [
            "Sayi ve string problemi\n"
          ],
          "name": "stdout"
        }
      ]
    },
    {
      "cell_type": "code",
      "metadata": {
        "colab": {
          "base_uri": "https://localhost:8080/"
        },
        "id": "Q3dG_04W1Dcv",
        "outputId": "ff94a951-01bd-4734-9f46-5f32614b9f56"
      },
      "source": [
        "m = 10 \n",
        "n = 2\n",
        "\n",
        "m/n\n",
        "\n",
        "try:\n",
        "  print(m/n)\n",
        "except TypeError:\n",
        "   print(\"Sayi ve string problemi\")"
      ],
      "execution_count": 65,
      "outputs": [
        {
          "output_type": "stream",
          "text": [
            "5.0\n"
          ],
          "name": "stdout"
        }
      ]
    }
  ]
}