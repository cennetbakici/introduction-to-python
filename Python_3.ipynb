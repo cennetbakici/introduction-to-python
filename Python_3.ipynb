{
  "nbformat": 4,
  "nbformat_minor": 0,
  "metadata": {
    "colab": {
      "name": "Python_3.ipynb",
      "provenance": [],
      "collapsed_sections": [],
      "authorship_tag": "ABX9TyPxyoog1DNpXq0CESKf8Tqp",
      "include_colab_link": true
    },
    "kernelspec": {
      "name": "python3",
      "display_name": "Python 3"
    },
    "language_info": {
      "name": "python"
    }
  },
  "cells": [
    {
      "cell_type": "markdown",
      "metadata": {
        "id": "view-in-github",
        "colab_type": "text"
      },
      "source": [
        "<a href=\"https://colab.research.google.com/github/cennetbakici/introduction-to-python/blob/master/Python_3.ipynb\" target=\"_parent\"><img src=\"https://colab.research.google.com/assets/colab-badge.svg\" alt=\"Open In Colab\"/></a>"
      ]
    },
    {
      "cell_type": "markdown",
      "metadata": {
        "id": "7Vfpr_9gUrtK"
      },
      "source": [
        "**Built-in Functions**"
      ]
    },
    {
      "cell_type": "code",
      "metadata": {
        "colab": {
          "base_uri": "https://localhost:8080/"
        },
        "id": "-YtTkyzATqQ-",
        "outputId": "819161fd-1145-4ee1-b7f6-ec0f1fdff0b7"
      },
      "source": [
        "list1=[1,2,3]\n",
        "list2=[4,5,6]\n",
        "\n",
        "list(zip(list1,list2))"
      ],
      "execution_count": null,
      "outputs": [
        {
          "output_type": "execute_result",
          "data": {
            "text/plain": [
              "[(1, 4), (2, 5), (3, 6)]"
            ]
          },
          "metadata": {
            "tags": []
          },
          "execution_count": 1
        }
      ]
    },
    {
      "cell_type": "code",
      "metadata": {
        "colab": {
          "base_uri": "https://localhost:8080/"
        },
        "id": "V1NAZD4rVBtb",
        "outputId": "bf7171e8-91cb-48b5-9dc9-49cd6498edc2"
      },
      "source": [
        "list1=[1,2,3]\n",
        "list2=[4,5,6]\n",
        "\n",
        "for a,b in zip(list1,list2):\n",
        "  print (\"a:\", a, \"b:\", b)"
      ],
      "execution_count": null,
      "outputs": [
        {
          "output_type": "stream",
          "text": [
            "a: 1 b: 4\n",
            "a: 2 b: 5\n",
            "a: 3 b: 6\n"
          ],
          "name": "stdout"
        }
      ]
    },
    {
      "cell_type": "code",
      "metadata": {
        "colab": {
          "base_uri": "https://localhost:8080/"
        },
        "id": "M8re6pgUVSAJ",
        "outputId": "5d7483b5-4b78-429a-de9c-71b5fc3f004f"
      },
      "source": [
        "list1=[1,2,3]\n",
        "list2=[4,5,6]\n",
        "\n",
        "list3 = [a+b for a,b in zip(list1,list2)]\n",
        "print(list3)"
      ],
      "execution_count": null,
      "outputs": [
        {
          "output_type": "stream",
          "text": [
            "[5, 7, 9]\n"
          ],
          "name": "stdout"
        }
      ]
    },
    {
      "cell_type": "markdown",
      "metadata": {
        "id": "RUx2FfswVrZg"
      },
      "source": [
        "**Fİnd the max item of a list**"
      ]
    },
    {
      "cell_type": "code",
      "metadata": {
        "colab": {
          "base_uri": "https://localhost:8080/"
        },
        "id": "xURf14DVVytw",
        "outputId": "733d938e-0a0d-4cee-fe4b-b655458d54b7"
      },
      "source": [
        "mylist = [3,5,12,7,65,35]\n",
        "print(mylist[0])\n",
        "\n",
        "max1=mylist[0]\n",
        "\n",
        "for i in mylist:\n",
        "  if i > max1:\n",
        "    max1=i\n",
        "    print(\"max1: \", max1)\n",
        "    print(\"i: \", i)\n",
        "print (max1)"
      ],
      "execution_count": null,
      "outputs": [
        {
          "output_type": "stream",
          "text": [
            "3\n",
            "max1:  5\n",
            "i:  5\n",
            "max1:  12\n",
            "i:  12\n",
            "max1:  65\n",
            "i:  65\n",
            "65\n"
          ],
          "name": "stdout"
        }
      ]
    },
    {
      "cell_type": "markdown",
      "metadata": {
        "id": "-FMSCSb5XdlD"
      },
      "source": [
        "**Question-1**\n",
        "\n",
        "Write a program that inputs an integer value (stop_number) from the user and prints the sum of all numbers from 0 to stop_number. You can assume the user will enter a valid value."
      ]
    },
    {
      "cell_type": "code",
      "metadata": {
        "colab": {
          "base_uri": "https://localhost:8080/"
        },
        "id": "P6kR4ck4XmOl",
        "outputId": "0a3ac302-54a8-4d50-9725-e065ed992bb2"
      },
      "source": [
        "stop_number = int (input(\"Please enter a stop number: \"))\n",
        "\n",
        "result = 0\n",
        "for i in range(0,stop_number):\n",
        "  result= result + i\n",
        "  print (result)\n",
        "print(result)\n",
        "\n",
        "#0=0+0\n",
        "#result = 0+1 -->1"
      ],
      "execution_count": null,
      "outputs": [
        {
          "output_type": "stream",
          "text": [
            "Please enter a stop number: 9\n",
            "0\n",
            "1\n",
            "3\n",
            "6\n",
            "10\n",
            "15\n",
            "21\n",
            "28\n",
            "36\n",
            "36\n"
          ],
          "name": "stdout"
        }
      ]
    },
    {
      "cell_type": "markdown",
      "metadata": {
        "id": "aa1DGkEsaYLO"
      },
      "source": [
        "**Question-2**"
      ]
    },
    {
      "cell_type": "code",
      "metadata": {
        "colab": {
          "base_uri": "https://localhost:8080/"
        },
        "id": "hfhOaQ9HZ6i6",
        "outputId": "860877f9-3403-4199-d012-e246537c9025"
      },
      "source": [
        "start_number = int (input(\"Please enter a start number: \"))\n",
        "stop_number = int (input(\"Please enter a stop number: \"))\n",
        "\n",
        "result = 0\n",
        "for i in range(start_number,stop_number):\n",
        "  result= result + i\n",
        "  \n",
        "print(result)"
      ],
      "execution_count": null,
      "outputs": [
        {
          "output_type": "stream",
          "text": [
            "Please enter a start number: 3\n",
            "Please enter a stop number: 6\n",
            "12\n"
          ],
          "name": "stdout"
        }
      ]
    },
    {
      "cell_type": "markdown",
      "metadata": {
        "id": "OOri1SjxbjFt"
      },
      "source": [
        "**Question-3**"
      ]
    },
    {
      "cell_type": "code",
      "metadata": {
        "colab": {
          "base_uri": "https://localhost:8080/"
        },
        "id": "NojmKac9bpIU",
        "outputId": "fc59987b-7f72-45e0-c9d0-3b2a27830ba8"
      },
      "source": [
        "start_number = int (input(\"Please enter a start number: \"))\n",
        "\n",
        "if 0 <= start_number <= 100:\n",
        "  stop_number = int (input(\"Please enter a stop number: \"))\n",
        "\n",
        "  if start_number < stop_number <= 100:\n",
        "    result = 0\n",
        "    for i in range(start_number,stop_number):\n",
        "       result= result + i\n",
        "    print(result)\n",
        "  else:\n",
        "    print(\"invalid stop number\")\n",
        "\n",
        "else:\n",
        "   print(\"invalid start number\")\n",
        "  \n"
      ],
      "execution_count": null,
      "outputs": [
        {
          "output_type": "stream",
          "text": [
            "Please enter a start number: 45\n",
            "Please enter a stop number: 45\n",
            "invalid stop number\n"
          ],
          "name": "stdout"
        }
      ]
    },
    {
      "cell_type": "markdown",
      "metadata": {
        "id": "xzNpy5Xkfl1e"
      },
      "source": [
        "**Modules**\n",
        "\n",
        "**Import**"
      ]
    },
    {
      "cell_type": "code",
      "metadata": {
        "colab": {
          "base_uri": "https://localhost:8080/"
        },
        "id": "1egNmZmXftqV",
        "outputId": "cd0f3e0d-1e16-4570-a878-9ace59054156"
      },
      "source": [
        "import random as rnd\n",
        "\n",
        "secret = rnd.randint (1,100)\n",
        "\n",
        "check = False # sınırlandırma yaptığım için bunu kullandım\n",
        "\n",
        "for x in range (5):\n",
        "  guess = int(input(\"Please enter you guess: \"))\n",
        "  if guess == secret:\n",
        "    print(\"Congrats!!\")\n",
        "    check= True\n",
        "    break\n",
        "  elif guess < secret:\n",
        "    print(\"Please enter a greater number!!\")\n",
        "  else:\n",
        "    print(\"Please enter a smaller number!!\")\n",
        "\n",
        "if not check:\n",
        "  print(\"Looseer... The number was: \", secret)"
      ],
      "execution_count": null,
      "outputs": [
        {
          "output_type": "stream",
          "text": [
            "Please enter you guess: 67\n",
            "Please enter a greater number!!\n",
            "Please enter you guess: 78\n",
            "Please enter a greater number!!\n",
            "Please enter you guess: 90\n",
            "Please enter a smaller number!!\n",
            "Please enter you guess: 87\n",
            "Please enter a greater number!!\n",
            "Please enter you guess: 89\n",
            "Please enter a smaller number!!\n",
            "Looseer... The number was:  88\n"
          ],
          "name": "stdout"
        }
      ]
    },
    {
      "cell_type": "markdown",
      "metadata": {
        "id": "P6NGgVneipf_"
      },
      "source": [
        "**Dictionaries**\n",
        "\n",
        "-A data type in Python\n",
        "\n",
        "-Dic. are indexed by keys and these keys can be a String and integer type.\n",
        "\n",
        "-Shown as key value pairs and keys are the unique values\n",
        "\n",
        "-{}"
      ]
    },
    {
      "cell_type": "code",
      "metadata": {
        "colab": {
          "base_uri": "https://localhost:8080/"
        },
        "id": "BG9miF_3jPmd",
        "outputId": "e6806118-fc0c-4bd2-c45a-47258c812dec"
      },
      "source": [
        " d = {}\n",
        "\n",
        " print (d)\n",
        " type (d)"
      ],
      "execution_count": null,
      "outputs": [
        {
          "output_type": "stream",
          "text": [
            "{}\n"
          ],
          "name": "stdout"
        },
        {
          "output_type": "execute_result",
          "data": {
            "text/plain": [
              "dict"
            ]
          },
          "metadata": {
            "tags": []
          },
          "execution_count": 21
        }
      ]
    },
    {
      "cell_type": "code",
      "metadata": {
        "colab": {
          "base_uri": "https://localhost:8080/"
        },
        "id": "K2kqIyUnjwnx",
        "outputId": "30e4ec49-efee-42bd-dc6c-4f53ee0da066"
      },
      "source": [
        "d= {\"python\":1, \"course\":2}\n",
        "print (d)"
      ],
      "execution_count": null,
      "outputs": [
        {
          "output_type": "stream",
          "text": [
            "{'python': 1, 'course': 2}\n"
          ],
          "name": "stdout"
        }
      ]
    },
    {
      "cell_type": "code",
      "metadata": {
        "colab": {
          "base_uri": "https://localhost:8080/"
        },
        "id": "qEpFQfCCkKLn",
        "outputId": "8c9ce128-d305-4d09-d4ee-b0c5ef9ac0ed"
      },
      "source": [
        "d[\"python\"] #indexlediğimiz değer artık bir key değeri olacak"
      ],
      "execution_count": null,
      "outputs": [
        {
          "output_type": "execute_result",
          "data": {
            "text/plain": [
              "1"
            ]
          },
          "metadata": {
            "tags": []
          },
          "execution_count": 27
        }
      ]
    },
    {
      "cell_type": "code",
      "metadata": {
        "colab": {
          "base_uri": "https://localhost:8080/"
        },
        "id": "P3QH-sHMkb8H",
        "outputId": "0864213f-263b-4933-888f-2b0228d94a0a"
      },
      "source": [
        "d[\"java\"]=3\n",
        "print(d)"
      ],
      "execution_count": null,
      "outputs": [
        {
          "output_type": "stream",
          "text": [
            "{'python': 1, 'course': 2, 'java': 3}\n"
          ],
          "name": "stdout"
        }
      ]
    },
    {
      "cell_type": "code",
      "metadata": {
        "colab": {
          "base_uri": "https://localhost:8080/"
        },
        "id": "nrxET1-5k27D",
        "outputId": "4d819049-5241-4722-8843-488d0126e2b0"
      },
      "source": [
        "print(d.keys())"
      ],
      "execution_count": null,
      "outputs": [
        {
          "output_type": "stream",
          "text": [
            "dict_keys(['python', 'course', 'java'])\n"
          ],
          "name": "stdout"
        }
      ]
    },
    {
      "cell_type": "code",
      "metadata": {
        "colab": {
          "base_uri": "https://localhost:8080/"
        },
        "id": "FTUNeyvQk-Nh",
        "outputId": "3e08914e-1538-4679-a974-5ef49be69cb0"
      },
      "source": [
        "print(d.values())"
      ],
      "execution_count": null,
      "outputs": [
        {
          "output_type": "stream",
          "text": [
            "dict_values([1, 2, 3])\n"
          ],
          "name": "stdout"
        }
      ]
    },
    {
      "cell_type": "code",
      "metadata": {
        "colab": {
          "base_uri": "https://localhost:8080/"
        },
        "id": "l39xYElklJF0",
        "outputId": "d6acd269-38b6-4110-ef2b-a8c79f4b4621"
      },
      "source": [
        "d.items() # zip deki gibi çift çift gösteriyor."
      ],
      "execution_count": null,
      "outputs": [
        {
          "output_type": "execute_result",
          "data": {
            "text/plain": [
              "dict_items([('python', 1), ('course', 2), ('java', 3)])"
            ]
          },
          "metadata": {
            "tags": []
          },
          "execution_count": 33
        }
      ]
    },
    {
      "cell_type": "code",
      "metadata": {
        "colab": {
          "base_uri": "https://localhost:8080/"
        },
        "id": "Rws0MMAwlTDm",
        "outputId": "a42948b6-4474-44ad-91a6-0378d80f7e14"
      },
      "source": [
        "for k in d.keys():\n",
        "  print(k)"
      ],
      "execution_count": null,
      "outputs": [
        {
          "output_type": "stream",
          "text": [
            "python\n",
            "course\n",
            "java\n"
          ],
          "name": "stdout"
        }
      ]
    },
    {
      "cell_type": "code",
      "metadata": {
        "colab": {
          "base_uri": "https://localhost:8080/"
        },
        "id": "syIfUgu6lgSD",
        "outputId": "f8e65405-0dc7-4023-fcb5-038e88bd65ff"
      },
      "source": [
        "for v in d.values():\n",
        "  print(v)"
      ],
      "execution_count": null,
      "outputs": [
        {
          "output_type": "stream",
          "text": [
            "1\n",
            "2\n",
            "3\n"
          ],
          "name": "stdout"
        }
      ]
    },
    {
      "cell_type": "code",
      "metadata": {
        "colab": {
          "base_uri": "https://localhost:8080/"
        },
        "id": "1UgYRAZElopj",
        "outputId": "507ee1eb-e477-4c78-d41c-0fb8ec74e6d2"
      },
      "source": [
        "for k,v in d.items():\n",
        "  print(\"Key: \", k, \"Value: \",v)"
      ],
      "execution_count": null,
      "outputs": [
        {
          "output_type": "stream",
          "text": [
            "Key:  python Value:  1\n",
            "Key:  course Value:  2\n",
            "Key:  java Value:  3\n"
          ],
          "name": "stdout"
        }
      ]
    },
    {
      "cell_type": "code",
      "metadata": {
        "colab": {
          "base_uri": "https://localhost:8080/"
        },
        "id": "fQ4pSet2l6Cx",
        "outputId": "b18ebcfd-1457-4519-abdc-de2e0c729ec1"
      },
      "source": [
        "for k,v in d.items():\n",
        "  if v == 2:\n",
        "    print(\"Key: \", k)"
      ],
      "execution_count": null,
      "outputs": [
        {
          "output_type": "stream",
          "text": [
            "Key:  course\n"
          ],
          "name": "stdout"
        }
      ]
    },
    {
      "cell_type": "code",
      "metadata": {
        "colab": {
          "base_uri": "https://localhost:8080/"
        },
        "id": "EOQm9ET-mkNz",
        "outputId": "9ba28b7b-2ff3-4e6c-a085-36e0132c5655"
      },
      "source": [
        "d[\"a\"] = [3,4,5]\n",
        "print(d)"
      ],
      "execution_count": null,
      "outputs": [
        {
          "output_type": "stream",
          "text": [
            "{'python': 1, 'course': 2, 'java': 3, 'a': [3, 4, 5]}\n"
          ],
          "name": "stdout"
        }
      ]
    },
    {
      "cell_type": "code",
      "metadata": {
        "colab": {
          "base_uri": "https://localhost:8080/"
        },
        "id": "Hb9nbsiDnAyd",
        "outputId": "3a63382c-9921-4303-9392-d2a35465c98d"
      },
      "source": [
        "d.pop(\"python\") #dic. de son elemanı silemiyor, en az bir değer alması lazım.\n",
        "print(d)"
      ],
      "execution_count": null,
      "outputs": [
        {
          "output_type": "stream",
          "text": [
            "{'course': 2, 'java': 3, 'a': [3, 4, 5]}\n"
          ],
          "name": "stdout"
        }
      ]
    },
    {
      "cell_type": "code",
      "metadata": {
        "colab": {
          "base_uri": "https://localhost:8080/"
        },
        "id": "tI_CeFlentjP",
        "outputId": "0143f14b-1793-4d9d-8d88-e3982381c468"
      },
      "source": [
        "len (d)"
      ],
      "execution_count": null,
      "outputs": [
        {
          "output_type": "execute_result",
          "data": {
            "text/plain": [
              "3"
            ]
          },
          "metadata": {
            "tags": []
          },
          "execution_count": 47
        }
      ]
    },
    {
      "cell_type": "code",
      "metadata": {
        "colab": {
          "base_uri": "https://localhost:8080/"
        },
        "id": "NNQkykQ4nwgj",
        "outputId": "cba4200b-01c1-45c3-8637-ded795f423a6"
      },
      "source": [
        "\"a\" in d # sadece keylere bakıyor"
      ],
      "execution_count": null,
      "outputs": [
        {
          "output_type": "execute_result",
          "data": {
            "text/plain": [
              "True"
            ]
          },
          "metadata": {
            "tags": []
          },
          "execution_count": 48
        }
      ]
    },
    {
      "cell_type": "code",
      "metadata": {
        "colab": {
          "base_uri": "https://localhost:8080/"
        },
        "id": "Oqcqyyhzn_i7",
        "outputId": "f0d5feb0-d3c4-49ae-da11-45be43d21fab"
      },
      "source": [
        "3 in d # sadece keylere bakıyor value lere bakmadığı için bulamadı"
      ],
      "execution_count": null,
      "outputs": [
        {
          "output_type": "execute_result",
          "data": {
            "text/plain": [
              "False"
            ]
          },
          "metadata": {
            "tags": []
          },
          "execution_count": 51
        }
      ]
    },
    {
      "cell_type": "code",
      "metadata": {
        "colab": {
          "base_uri": "https://localhost:8080/"
        },
        "id": "e1YOV3OkoQpw",
        "outputId": "0c5544fa-0e7a-4d12-f32d-71185638fdc0"
      },
      "source": [
        "d.get(\"a\")"
      ],
      "execution_count": null,
      "outputs": [
        {
          "output_type": "execute_result",
          "data": {
            "text/plain": [
              "[3, 4, 5]"
            ]
          },
          "metadata": {
            "tags": []
          },
          "execution_count": 50
        }
      ]
    },
    {
      "cell_type": "code",
      "metadata": {
        "colab": {
          "base_uri": "https://localhost:8080/"
        },
        "id": "v_8X8-tSoXOt",
        "outputId": "bc886ec9-656b-4527-d053-b27b57c54307"
      },
      "source": [
        "del d[\"a\"]\n",
        "d"
      ],
      "execution_count": null,
      "outputs": [
        {
          "output_type": "execute_result",
          "data": {
            "text/plain": [
              "{'course': 2, 'java': 3}"
            ]
          },
          "metadata": {
            "tags": []
          },
          "execution_count": 52
        }
      ]
    }
  ]
}