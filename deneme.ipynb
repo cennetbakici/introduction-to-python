{
  "nbformat": 4,
  "nbformat_minor": 0,
  "metadata": {
    "colab": {
      "name": "Untitled0.ipynb",
      "provenance": [],
      "authorship_tag": "ABX9TyPS6cnmEnsE9J2ddF8hz39n",
      "include_colab_link": true
    },
    "kernelspec": {
      "name": "python3",
      "display_name": "Python 3"
    },
    "language_info": {
      "name": "python"
    }
  },
  "cells": [
    {
      "cell_type": "markdown",
      "metadata": {
        "id": "view-in-github",
        "colab_type": "text"
      },
      "source": [
        "<a href=\"https://colab.research.google.com/github/cennetbakici/introduction-to-python/blob/master/deneme.ipynb\" target=\"_parent\"><img src=\"https://colab.research.google.com/assets/colab-badge.svg\" alt=\"Open In Colab\"/></a>"
      ]
    },
    {
      "cell_type": "code",
      "metadata": {
        "colab": {
          "base_uri": "https://localhost:8080/"
        },
        "id": "jJ5R80NaDSHu",
        "outputId": "5393b178-79a0-4e7f-da82-f81339d0d65c"
      },
      "source": [
        "print (\"Hello World!\")"
      ],
      "execution_count": 1,
      "outputs": [
        {
          "output_type": "stream",
          "text": [
            "Hello World!\n"
          ],
          "name": "stdout"
        }
      ]
    },
    {
      "cell_type": "code",
      "metadata": {
        "id": "cuIh9rYofjE9"
      },
      "source": [
        "print (\"*******ATM Giriş Paneli*******\")\n"
      ],
      "execution_count": null,
      "outputs": []
    },
    {
      "cell_type": "code",
      "metadata": {
        "colab": {
          "base_uri": "https://localhost:8080/"
        },
        "id": "_N7zt3hOhV32",
        "outputId": "320e447b-aa20-40a4-915e-774f822eef58"
      },
      "source": [
        "mylist= [3,5,12,7,65,35]\n",
        "\n",
        "sum1=0\n",
        "\n",
        "for i in mylist:\n",
        "  sum1 =sum1+i #sum +=i\n",
        "  print (sum1)\n",
        "\n",
        "print(sum1)\n"
      ],
      "execution_count": 4,
      "outputs": [
        {
          "output_type": "stream",
          "text": [
            "3\n",
            "8\n",
            "20\n",
            "27\n",
            "92\n",
            "127\n",
            "127\n"
          ],
          "name": "stdout"
        }
      ]
    }
  ]
}