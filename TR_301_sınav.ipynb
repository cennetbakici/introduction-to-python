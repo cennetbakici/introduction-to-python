{
  "nbformat": 4,
  "nbformat_minor": 0,
  "metadata": {
    "colab": {
      "name": "TR_301_sınav.ipynb",
      "provenance": [],
      "collapsed_sections": [],
      "authorship_tag": "ABX9TyPk0AxWxKOO3aWd8sYZgpFW",
      "include_colab_link": true
    },
    "kernelspec": {
      "name": "python3",
      "display_name": "Python 3"
    },
    "language_info": {
      "name": "python"
    }
  },
  "cells": [
    {
      "cell_type": "markdown",
      "metadata": {
        "id": "view-in-github",
        "colab_type": "text"
      },
      "source": [
        "<a href=\"https://colab.research.google.com/github/cennetbakici/introduction-to-python/blob/master/TR_301_s%C4%B1nav.ipynb\" target=\"_parent\"><img src=\"https://colab.research.google.com/assets/colab-badge.svg\" alt=\"Open In Colab\"/></a>"
      ]
    },
    {
      "cell_type": "code",
      "metadata": {
        "colab": {
          "base_uri": "https://localhost:8080/",
          "height": 35
        },
        "id": "zip4KGVLelXY",
        "outputId": "3fef82a0-c3d3-475e-c7b0-75e51cb0398d"
      },
      "source": [
        "A = []\n",
        "B = []\n",
        "\n",
        "for i in [1,\"a\",12,\"b\"]:\n",
        "    if type(i) == int:\n",
        "        B.append(i)\n",
        "    else:\n",
        "        A.append(i)\n",
        "\n",
        "A[1]"
      ],
      "execution_count": null,
      "outputs": [
        {
          "output_type": "execute_result",
          "data": {
            "application/vnd.google.colaboratory.intrinsic+json": {
              "type": "string"
            },
            "text/plain": [
              "'b'"
            ]
          },
          "metadata": {
            "tags": []
          },
          "execution_count": 1
        }
      ]
    },
    {
      "cell_type": "code",
      "metadata": {
        "colab": {
          "base_uri": "https://localhost:8080/"
        },
        "id": "sewP8ethgaek",
        "outputId": "6abf1e0f-4f9d-49af-f71a-f59bf5ff6128"
      },
      "source": [
        "def islem(x, y):\n",
        "    print(x - y)\n",
        "\n",
        "islem(3,2)"
      ],
      "execution_count": null,
      "outputs": [
        {
          "output_type": "stream",
          "text": [
            "1\n"
          ],
          "name": "stdout"
        }
      ]
    },
    {
      "cell_type": "code",
      "metadata": {
        "colab": {
          "base_uri": "https://localhost:8080/"
        },
        "id": "WIv3_0GTgswQ",
        "outputId": "80d8a3a4-15f1-4a3e-98c1-2dd29211728d"
      },
      "source": [
        "def islem(x):\n",
        "    if (x>10):\n",
        "        return \"YES\"\n",
        "    else:\n",
        "        return x*5\n",
        " \n",
        "islem(4)"
      ],
      "execution_count": null,
      "outputs": [
        {
          "output_type": "execute_result",
          "data": {
            "text/plain": [
              "20"
            ]
          },
          "metadata": {
            "tags": []
          },
          "execution_count": 4
        }
      ]
    },
    {
      "cell_type": "code",
      "metadata": {
        "colab": {
          "base_uri": "https://localhost:8080/"
        },
        "id": "f0Z3ccZFg25g",
        "outputId": "6e777241-9e07-4c02-f4be-a1e259bdee8a"
      },
      "source": [
        "sayilar = [10,20,30]\n",
        " \n",
        "for i in sayilar:\n",
        "    if i > 20:\n",
        "        print(i/2)"
      ],
      "execution_count": null,
      "outputs": [
        {
          "output_type": "stream",
          "text": [
            "15.0\n"
          ],
          "name": "stdout"
        }
      ]
    },
    {
      "cell_type": "code",
      "metadata": {
        "colab": {
          "base_uri": "https://localhost:8080/"
        },
        "id": "kgkrplVOhPO7",
        "outputId": "d4b84dc5-1178-4d0c-f047-a66e7c38f197"
      },
      "source": [
        "def harf_say(x):\n",
        "    print(len(x))\n",
        " \n",
        "harf_say(\"Merhaba!\")"
      ],
      "execution_count": null,
      "outputs": [
        {
          "output_type": "stream",
          "text": [
            "8\n"
          ],
          "name": "stdout"
        }
      ]
    },
    {
      "cell_type": "code",
      "metadata": {
        "colab": {
          "base_uri": "https://localhost:8080/"
        },
        "id": "BH1MIbtNhfMI",
        "outputId": "0de7d1b6-94f3-42c2-ac4f-d31afe1e7ed5"
      },
      "source": [
        "liste = [\"a\",\"b\",\"c\"]\n",
        "liste.reverse()\n",
        "print(liste)"
      ],
      "execution_count": null,
      "outputs": [
        {
          "output_type": "stream",
          "text": [
            "['c', 'b', 'a']\n"
          ],
          "name": "stdout"
        }
      ]
    },
    {
      "cell_type": "code",
      "metadata": {
        "colab": {
          "base_uri": "https://localhost:8080/"
        },
        "id": "MAubNxzFhrKo",
        "outputId": "c6857743-bed7-4760-b073-7c4ba3c6842b"
      },
      "source": [
        "if [1,2,3,4][2] == 2:\n",
        "    print(\"YES\")\n",
        "else:\n",
        "    print(\"NO\") "
      ],
      "execution_count": null,
      "outputs": [
        {
          "output_type": "stream",
          "text": [
            "NO\n"
          ],
          "name": "stdout"
        }
      ]
    },
    {
      "cell_type": "code",
      "metadata": {
        "id": "-KKeyHxhhxUh"
      },
      "source": [
        "?print"
      ],
      "execution_count": null,
      "outputs": []
    }
  ]
}