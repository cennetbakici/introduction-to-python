{
  "nbformat": 4,
  "nbformat_minor": 0,
  "metadata": {
    "colab": {
      "name": "HW1.ipynb",
      "provenance": [],
      "collapsed_sections": [],
      "authorship_tag": "ABX9TyMp1PUCr1OvxYSCQu5SU2Qh",
      "include_colab_link": true
    },
    "kernelspec": {
      "name": "python3",
      "display_name": "Python 3"
    },
    "language_info": {
      "name": "python"
    }
  },
  "cells": [
    {
      "cell_type": "markdown",
      "metadata": {
        "id": "view-in-github",
        "colab_type": "text"
      },
      "source": [
        "<a href=\"https://colab.research.google.com/github/cennetbakici/introduction-to-python/blob/master/HW1.ipynb\" target=\"_parent\"><img src=\"https://colab.research.google.com/assets/colab-badge.svg\" alt=\"Open In Colab\"/></a>"
      ]
    },
    {
      "cell_type": "markdown",
      "metadata": {
        "id": "Da3J2qW3Sgmy"
      },
      "source": [
        "**ODEV-1**"
      ]
    },
    {
      "cell_type": "code",
      "metadata": {
        "colab": {
          "base_uri": "https://localhost:8080/"
        },
        "id": "M3uV7RRxRWna",
        "outputId": "9e569a9f-2088-4ab4-89e5-05fb61ff1371"
      },
      "source": [
        "list1 = [\"a\",\"b\",\"c\",\"d\",\"e\",\"f\"]\n",
        "print(list1)\n",
        "\n",
        "first1 = list1[:int(len(list1)/2)]\n",
        "print(\"İlk yarısı: \", first1)\n",
        "\n",
        "last1 = list1[-int(len(list1)/2):]\n",
        "print(\"Son yarısı: \", last1)"
      ],
      "execution_count": null,
      "outputs": [
        {
          "output_type": "stream",
          "text": [
            "['a', 'b', 'c', 'd', 'e', 'f']\n",
            "İlk yarısı:  ['a', 'b', 'c']\n",
            "Son yarısı:  ['d', 'e', 'f']\n"
          ],
          "name": "stdout"
        }
      ]
    },
    {
      "cell_type": "code",
      "metadata": {
        "colab": {
          "base_uri": "https://localhost:8080/"
        },
        "id": "AyfDEFaCRluL",
        "outputId": "83b4507b-f3cf-4d86-dcdf-ac24c85aa247"
      },
      "source": [
        "first1, last1 = last1, first1\n",
        "\n",
        "print(first1)\n",
        "print(last1)"
      ],
      "execution_count": null,
      "outputs": [
        {
          "output_type": "stream",
          "text": [
            "['d', 'e', 'f']\n",
            "['a', 'b', 'c']\n"
          ],
          "name": "stdout"
        }
      ]
    },
    {
      "cell_type": "markdown",
      "metadata": {
        "id": "i7JJ8T3JSXci"
      },
      "source": [
        "**ODEV -2**\n",
        "\n",
        "ask a user to input a single digit integer to a variable n\n",
        "\n",
        "then, print out all of the even numbers from 0 to n (including n)"
      ]
    },
    {
      "cell_type": "code",
      "metadata": {
        "colab": {
          "base_uri": "https://localhost:8080/"
        },
        "id": "i3V4KY_ZSafW",
        "outputId": "81dd29a6-9054-4511-eb82-326641662891"
      },
      "source": [
        "n= int(input(\"Tek basamaklı bir tam sayı giriniz: \"))\n",
        "a = list (range(n+1))\n",
        "\n",
        "print (\"0 dan n ye kadar (n de dahil) sayılar: \", a)\n",
        "\n",
        "even = [i for i in a if i % 2 == 0 ]\n",
        "\n",
        "print (\"Çift sayılar: \", even)"
      ],
      "execution_count": null,
      "outputs": [
        {
          "output_type": "stream",
          "text": [
            "Tek basamaklı bir tam sayı giriniz: 9\n",
            "0 dan n ye kadar (n de dahil) sayılar:  [0, 1, 2, 3, 4, 5, 6, 7, 8, 9]\n",
            "Çift sayılar:  [0, 2, 4, 6, 8]\n"
          ],
          "name": "stdout"
        }
      ]
    }
  ]
}