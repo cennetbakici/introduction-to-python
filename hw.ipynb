{
  "nbformat": 4,
  "nbformat_minor": 0,
  "metadata": {
    "colab": {
      "name": "hw.ipynb",
      "provenance": [],
      "collapsed_sections": [],
      "authorship_tag": "ABX9TyNVsyfFcedqvvN6hMHBTrXs",
      "include_colab_link": true
    },
    "kernelspec": {
      "name": "python3",
      "display_name": "Python 3"
    },
    "language_info": {
      "name": "python"
    }
  },
  "cells": [
    {
      "cell_type": "markdown",
      "metadata": {
        "id": "view-in-github",
        "colab_type": "text"
      },
      "source": [
        "<a href=\"https://colab.research.google.com/github/cennetbakici/introduction-to-python/blob/master/hw.ipynb\" target=\"_parent\"><img src=\"https://colab.research.google.com/assets/colab-badge.svg\" alt=\"Open In Colab\"/></a>"
      ]
    },
    {
      "cell_type": "markdown",
      "metadata": {
        "id": "-PWa8Q5YQt_e"
      },
      "source": [
        "**ODEV-1**"
      ]
    },
    {
      "cell_type": "code",
      "metadata": {
        "colab": {
          "base_uri": "https://localhost:8080/"
        },
        "id": "DTm2Qw9p5lpx",
        "outputId": "adc23f96-6a37-42ce-d26c-f7f3c3a9bb6d"
      },
      "source": [
        "list1 = [\"a\",\"b\",\"c\",\"d\",\"e\",\"f\"]\n",
        "print(list1)\n"
      ],
      "execution_count": null,
      "outputs": [
        {
          "output_type": "stream",
          "text": [
            "['a', 'b', 'c', 'd', 'e', 'f']\n"
          ],
          "name": "stdout"
        }
      ]
    },
    {
      "cell_type": "code",
      "metadata": {
        "colab": {
          "base_uri": "https://localhost:8080/"
        },
        "id": "oEq8VD3F6GcT",
        "outputId": "ceb3812c-97a1-46fb-d52c-cbd280540c97"
      },
      "source": [
        "len(list1)"
      ],
      "execution_count": null,
      "outputs": [
        {
          "output_type": "execute_result",
          "data": {
            "text/plain": [
              "6"
            ]
          },
          "metadata": {
            "tags": []
          },
          "execution_count": 12
        }
      ]
    },
    {
      "cell_type": "code",
      "metadata": {
        "colab": {
          "base_uri": "https://localhost:8080/"
        },
        "id": "SrXvX_tQ_7OV",
        "outputId": "37a2a32d-ea21-4264-c78f-90d3d180d738"
      },
      "source": [
        "int(len(list1)/2)"
      ],
      "execution_count": null,
      "outputs": [
        {
          "output_type": "execute_result",
          "data": {
            "text/plain": [
              "3"
            ]
          },
          "metadata": {
            "tags": []
          },
          "execution_count": 30
        }
      ]
    },
    {
      "cell_type": "code",
      "metadata": {
        "colab": {
          "base_uri": "https://localhost:8080/"
        },
        "id": "S9Nm2gDcALKr",
        "outputId": "d947d768-073e-4d6c-90e9-91d0739bf993"
      },
      "source": [
        "first = list1 [:3]\n",
        "print(first)\n",
        "\n",
        "last = list1 [-3:]\n",
        "print(last)"
      ],
      "execution_count": null,
      "outputs": [
        {
          "output_type": "stream",
          "text": [
            "['a', 'b', 'c']\n",
            "['d', 'e', 'f']\n"
          ],
          "name": "stdout"
        }
      ]
    },
    {
      "cell_type": "code",
      "metadata": {
        "colab": {
          "base_uri": "https://localhost:8080/"
        },
        "id": "NTbljTQm9453",
        "outputId": "2dc27232-985e-4d4f-f82a-8263fbf615db"
      },
      "source": [
        "first1 = list1[:int(len(list1)/2)]\n",
        "print(first1)\n",
        "\n",
        "last1 = list1[-int(len(list1)/2):]\n",
        "print(last1)\n"
      ],
      "execution_count": null,
      "outputs": [
        {
          "output_type": "stream",
          "text": [
            "['a', 'b', 'c']\n",
            "['d', 'e', 'f']\n"
          ],
          "name": "stdout"
        }
      ]
    },
    {
      "cell_type": "code",
      "metadata": {
        "colab": {
          "base_uri": "https://localhost:8080/"
        },
        "id": "YTZiEQhVC6ox",
        "outputId": "7497a6ea-aa8b-4354-d4af-1ea2ebf86da8"
      },
      "source": [
        "first1, last1 = last1, first1\n",
        "\n",
        "print(first1)\n",
        "print(last1)"
      ],
      "execution_count": null,
      "outputs": [
        {
          "output_type": "stream",
          "text": [
            "['d', 'e', 'f']\n",
            "['a', 'b', 'c']\n"
          ],
          "name": "stdout"
        }
      ]
    },
    {
      "cell_type": "markdown",
      "metadata": {
        "id": "NMpC_DzdQpfT"
      },
      "source": [
        "**ODEV-2**\n",
        "\n",
        "ask a user to input a single digit integer to a variable n\n",
        "\n",
        "then, print out all of the even numbers from 0 to n (including n)"
      ]
    },
    {
      "cell_type": "code",
      "metadata": {
        "colab": {
          "base_uri": "https://localhost:8080/"
        },
        "id": "1Lp8uKVPNbZi",
        "outputId": "22e581e5-7545-4d36-be66-e3d02cee32d7"
      },
      "source": [
        "n= int(input(\"Tek basamaklı bir tam sayı giriniz: \"))\n",
        "a = list (range(n+1))\n",
        "\n",
        "print (\"0 dan n ye kadar (n de dahil) sayılar: \", a)\n",
        "\n",
        "even = [i for i in a if i % 2 == 0 ]\n",
        "\n",
        "print (\"Çift sayılar: \", even)"
      ],
      "execution_count": null,
      "outputs": [
        {
          "output_type": "stream",
          "text": [
            "Tek basamaklı bir tam sayı giriniz: 7\n",
            "0 dan n ye kadar (n de dahil) sayılar:  [0, 1, 2, 3, 4, 5, 6, 7]\n",
            "Çift sayılar:  [0, 2, 4, 6]\n"
          ],
          "name": "stdout"
        }
      ]
    }
  ]
}